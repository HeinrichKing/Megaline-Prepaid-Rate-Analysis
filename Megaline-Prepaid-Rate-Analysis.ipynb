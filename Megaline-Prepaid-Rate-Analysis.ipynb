{
 "cells": [
  {
   "cell_type": "markdown",
   "metadata": {
    "id": "3rYiDeEH0q0f"
   },
   "source": [
    "# ¿Cuál es la mejor tarifa?\n",
    "\n",
    "Trabajas como analista para el operador de telecomunicaciones Megaline. La empresa ofrece a sus clientes dos tarifas de prepago, Surf y Ultimate. El departamento comercial quiere saber cuál de las tarifas genera más ingresos para poder ajustar el presupuesto de publicidad.\n",
    "\n",
    "Vas a realizar un análisis preliminar de las tarifas basado en una selección de clientes relativamente pequeña. Tendrás los datos de 500 clientes de Megaline: quiénes son los clientes, de dónde son, qué tarifa usan, así como la cantidad de llamadas que hicieron y los mensajes de texto que enviaron en 2018. Tu trabajo es analizar el comportamiento de los clientes y determinar qué tarifa de prepago genera más ingresos."
   ]
  },
  {
   "cell_type": "markdown",
   "metadata": {
    "id": "VNddPNRQ0q0w"
   },
   "source": [
    "[Te proporcionamos algunos comentarios para orientarte mientras completas este proyecto. Pero debes asegurarte de eliminar todos los comentarios entre corchetes antes de entregar tu proyecto.]\n",
    "\n",
    "[Antes de sumergirte en el análisis de datos, explica por tu propia cuenta el propósito del proyecto y las acciones que planeas realizar.]\n",
    "\n",
    "[Ten en cuenta que estudiar, modificar y analizar datos es un proceso iterativo. Es normal volver a los pasos anteriores y corregirlos/ampliarlos para permitir nuevos pasos.]"
   ]
  },
  {
   "cell_type": "markdown",
   "metadata": {
    "id": "MQi4IPy70q0y"
   },
   "source": [
    "## Inicialización"
   ]
  },
  {
   "cell_type": "code",
   "execution_count": 1,
   "metadata": {
    "id": "MtYIuBxu0q0z",
    "trusted": true
   },
   "outputs": [],
   "source": [
    "# Cargar todas las librerías\n",
    "import pandas as pd\n"
   ]
  },
  {
   "cell_type": "markdown",
   "metadata": {
    "id": "4ysWWC5i0q00"
   },
   "source": [
    "## Cargar datos"
   ]
  },
  {
   "cell_type": "code",
   "execution_count": 2,
   "metadata": {
    "id": "CCqPW7rS0q01",
    "trusted": true
   },
   "outputs": [],
   "source": [
    "# Carga los archivos de datos en diferentes DataFrames\n",
    "users=pd.read_csv('/datasets/megaline_users.csv')\n",
    "calls=pd.read_csv('/datasets/megaline_calls.csv')\n",
    "messages=pd.read_csv('/datasets/megaline_messages.csv')\n",
    "internet=pd.read_csv('/datasets/megaline_internet.csv')\n",
    "plans=pd.read_csv('/datasets/megaline_plans.csv')\n",
    "\n"
   ]
  },
  {
   "cell_type": "markdown",
   "metadata": {
    "id": "69qqoJ3r0q01"
   },
   "source": [
    "## Preparar los datos"
   ]
  },
  {
   "cell_type": "code",
   "execution_count": 3,
   "metadata": {
    "id": "GptqP3Q40q02",
    "trusted": true
   },
   "outputs": [
    {
     "name": "stdout",
     "output_type": "stream",
     "text": [
      "<class 'pandas.core.frame.DataFrame'>\n",
      "RangeIndex: 2 entries, 0 to 1\n",
      "Data columns (total 8 columns):\n",
      " #   Column                 Non-Null Count  Dtype  \n",
      "---  ------                 --------------  -----  \n",
      " 0   messages_included      2 non-null      int64  \n",
      " 1   mb_per_month_included  2 non-null      int64  \n",
      " 2   minutes_included       2 non-null      int64  \n",
      " 3   usd_monthly_pay        2 non-null      int64  \n",
      " 4   usd_per_gb             2 non-null      int64  \n",
      " 5   usd_per_message        2 non-null      float64\n",
      " 6   usd_per_minute         2 non-null      float64\n",
      " 7   plan_name              2 non-null      object \n",
      "dtypes: float64(2), int64(5), object(1)\n",
      "memory usage: 256.0+ bytes\n"
     ]
    }
   ],
   "source": [
    "# Imprime la información general/resumida sobre el DataFrame de las tarifas\n",
    "plans.info()\n"
   ]
  },
  {
   "cell_type": "code",
   "execution_count": 4,
   "metadata": {
    "id": "64xzjwL70q02",
    "trusted": true
   },
   "outputs": [
    {
     "data": {
      "text/html": [
       "<div>\n",
       "<style scoped>\n",
       "    .dataframe tbody tr th:only-of-type {\n",
       "        vertical-align: middle;\n",
       "    }\n",
       "\n",
       "    .dataframe tbody tr th {\n",
       "        vertical-align: top;\n",
       "    }\n",
       "\n",
       "    .dataframe thead th {\n",
       "        text-align: right;\n",
       "    }\n",
       "</style>\n",
       "<table border=\"1\" class=\"dataframe\">\n",
       "  <thead>\n",
       "    <tr style=\"text-align: right;\">\n",
       "      <th></th>\n",
       "      <th>messages_included</th>\n",
       "      <th>mb_per_month_included</th>\n",
       "      <th>minutes_included</th>\n",
       "      <th>usd_monthly_pay</th>\n",
       "      <th>usd_per_gb</th>\n",
       "      <th>usd_per_message</th>\n",
       "      <th>usd_per_minute</th>\n",
       "      <th>plan_name</th>\n",
       "    </tr>\n",
       "  </thead>\n",
       "  <tbody>\n",
       "    <tr>\n",
       "      <th>0</th>\n",
       "      <td>50</td>\n",
       "      <td>15360</td>\n",
       "      <td>500</td>\n",
       "      <td>20</td>\n",
       "      <td>10</td>\n",
       "      <td>0.03</td>\n",
       "      <td>0.03</td>\n",
       "      <td>surf</td>\n",
       "    </tr>\n",
       "    <tr>\n",
       "      <th>1</th>\n",
       "      <td>1000</td>\n",
       "      <td>30720</td>\n",
       "      <td>3000</td>\n",
       "      <td>70</td>\n",
       "      <td>7</td>\n",
       "      <td>0.01</td>\n",
       "      <td>0.01</td>\n",
       "      <td>ultimate</td>\n",
       "    </tr>\n",
       "  </tbody>\n",
       "</table>\n",
       "</div>"
      ],
      "text/plain": [
       "   messages_included  mb_per_month_included  minutes_included  \\\n",
       "0                 50                  15360               500   \n",
       "1               1000                  30720              3000   \n",
       "\n",
       "   usd_monthly_pay  usd_per_gb  usd_per_message  usd_per_minute plan_name  \n",
       "0               20          10             0.03            0.03      surf  \n",
       "1               70           7             0.01            0.01  ultimate  "
      ]
     },
     "execution_count": 4,
     "metadata": {},
     "output_type": "execute_result"
    }
   ],
   "source": [
    "# Imprime una muestra de los datos para las tarifas\n",
    "plans.head()\n"
   ]
  },
  {
   "cell_type": "markdown",
   "metadata": {
    "id": "mEc_3_hs0q02"
   },
   "source": [
    "[Describe lo que ves y observas en la información general y en la muestra de datos impresa para el precio de datos anterior. ¿Hay algún problema (tipos de datos no adecuados, datos ausentes, etc.) que pudieran necesitar investigación y cambios adicionales? ¿Cómo se puede arreglar?]\n",
    "\n",
    "R= Puedo observar que los datos estan bien, es un dataframe muy pequeño pero con información concisa para trabajar, describe apropiadamente a mi parecer los datos de ambas tarifas. En la información general veo que los datatypes son los adecuados y no veo necesidad de transformar alguno a un diferente type. Si tuvieramos que agregar algo talvez para un mejor entendimiento de los usuarios sería agregar una columna extra de gb_included para que en lugar de tener la info en mb, los usuarios conozcan cuantos gb equivalen a la cantidad de mb que se les ofrece.\n",
    "\n",
    "De igual forma podriamos ordenar las columnas, colocando plan_name al principio del DF para mejor entendimiento y visualizacion de los datos. "
   ]
  },
  {
   "cell_type": "markdown",
   "metadata": {
    "id": "R3C05i1l0q03"
   },
   "source": [
    "## Corregir datos"
   ]
  },
  {
   "cell_type": "code",
   "execution_count": 5,
   "metadata": {
    "id": "Y7SVmjGn0q03",
    "trusted": true
   },
   "outputs": [],
   "source": [
    "#primero agregamos esa columna extra convirtiendo los mb a gb\n",
    "plans['gb_included']= plans['mb_per_month_included'] / 1024\n",
    "\n"
   ]
  },
  {
   "cell_type": "markdown",
   "metadata": {
    "id": "LJir7bml0q03"
   },
   "source": [
    "## Enriquecer los datos"
   ]
  },
  {
   "cell_type": "code",
   "execution_count": 6,
   "metadata": {
    "id": "gfcIEuXV0q04",
    "trusted": true
   },
   "outputs": [
    {
     "data": {
      "text/html": [
       "<div>\n",
       "<style scoped>\n",
       "    .dataframe tbody tr th:only-of-type {\n",
       "        vertical-align: middle;\n",
       "    }\n",
       "\n",
       "    .dataframe tbody tr th {\n",
       "        vertical-align: top;\n",
       "    }\n",
       "\n",
       "    .dataframe thead th {\n",
       "        text-align: right;\n",
       "    }\n",
       "</style>\n",
       "<table border=\"1\" class=\"dataframe\">\n",
       "  <thead>\n",
       "    <tr style=\"text-align: right;\">\n",
       "      <th></th>\n",
       "      <th>plan_name</th>\n",
       "      <th>usd_monthly_pay</th>\n",
       "      <th>messages_included</th>\n",
       "      <th>minutes_included</th>\n",
       "      <th>mb_per_month_included</th>\n",
       "      <th>gb_included</th>\n",
       "      <th>usd_per_message</th>\n",
       "      <th>usd_per_minute</th>\n",
       "      <th>usd_per_gb</th>\n",
       "    </tr>\n",
       "  </thead>\n",
       "  <tbody>\n",
       "    <tr>\n",
       "      <th>0</th>\n",
       "      <td>surf</td>\n",
       "      <td>20</td>\n",
       "      <td>50</td>\n",
       "      <td>500</td>\n",
       "      <td>15360</td>\n",
       "      <td>15.0</td>\n",
       "      <td>0.03</td>\n",
       "      <td>0.03</td>\n",
       "      <td>10</td>\n",
       "    </tr>\n",
       "    <tr>\n",
       "      <th>1</th>\n",
       "      <td>ultimate</td>\n",
       "      <td>70</td>\n",
       "      <td>1000</td>\n",
       "      <td>3000</td>\n",
       "      <td>30720</td>\n",
       "      <td>30.0</td>\n",
       "      <td>0.01</td>\n",
       "      <td>0.01</td>\n",
       "      <td>7</td>\n",
       "    </tr>\n",
       "  </tbody>\n",
       "</table>\n",
       "</div>"
      ],
      "text/plain": [
       "  plan_name  usd_monthly_pay  messages_included  minutes_included  \\\n",
       "0      surf               20                 50               500   \n",
       "1  ultimate               70               1000              3000   \n",
       "\n",
       "   mb_per_month_included  gb_included  usd_per_message  usd_per_minute  \\\n",
       "0                  15360         15.0             0.03            0.03   \n",
       "1                  30720         30.0             0.01            0.01   \n",
       "\n",
       "   usd_per_gb  \n",
       "0          10  \n",
       "1           7  "
      ]
     },
     "execution_count": 6,
     "metadata": {},
     "output_type": "execute_result"
    }
   ],
   "source": [
    "#Ahora ordenamos nuestras columnas para una mejor visualización de los datos \n",
    "plans= plans[[\"plan_name\", \"usd_monthly_pay\", \"messages_included\", \"minutes_included\", \"mb_per_month_included\", \"gb_included\",\n",
    "          \"usd_per_message\",  \"usd_per_minute\" ,\"usd_per_gb\" ]]\n",
    "plans.head()"
   ]
  },
  {
   "cell_type": "markdown",
   "metadata": {
    "id": "1n2X6WXf0q04"
   },
   "source": [
    "## Usuarios/as"
   ]
  },
  {
   "cell_type": "code",
   "execution_count": 7,
   "metadata": {
    "id": "2NgjWFqx0q05",
    "trusted": true
   },
   "outputs": [
    {
     "name": "stdout",
     "output_type": "stream",
     "text": [
      "<class 'pandas.core.frame.DataFrame'>\n",
      "RangeIndex: 500 entries, 0 to 499\n",
      "Data columns (total 8 columns):\n",
      " #   Column      Non-Null Count  Dtype \n",
      "---  ------      --------------  ----- \n",
      " 0   user_id     500 non-null    int64 \n",
      " 1   first_name  500 non-null    object\n",
      " 2   last_name   500 non-null    object\n",
      " 3   age         500 non-null    int64 \n",
      " 4   city        500 non-null    object\n",
      " 5   reg_date    500 non-null    object\n",
      " 6   plan        500 non-null    object\n",
      " 7   churn_date  34 non-null     object\n",
      "dtypes: int64(2), object(6)\n",
      "memory usage: 31.4+ KB\n"
     ]
    }
   ],
   "source": [
    "# Imprime la información general/resumida sobre el DataFrame de usuarios\n",
    "users=pd.read_csv('/datasets/megaline_users.csv') #Agregue de nuevo el Df por si necesitaba reiniciarlo iterara unicamente sobre este y no sobre los otros 4 Df\n",
    "users.info()"
   ]
  },
  {
   "cell_type": "code",
   "execution_count": 8,
   "metadata": {
    "id": "1IN1L9uh0q05",
    "trusted": true
   },
   "outputs": [
    {
     "data": {
      "text/html": [
       "<div>\n",
       "<style scoped>\n",
       "    .dataframe tbody tr th:only-of-type {\n",
       "        vertical-align: middle;\n",
       "    }\n",
       "\n",
       "    .dataframe tbody tr th {\n",
       "        vertical-align: top;\n",
       "    }\n",
       "\n",
       "    .dataframe thead th {\n",
       "        text-align: right;\n",
       "    }\n",
       "</style>\n",
       "<table border=\"1\" class=\"dataframe\">\n",
       "  <thead>\n",
       "    <tr style=\"text-align: right;\">\n",
       "      <th></th>\n",
       "      <th>user_id</th>\n",
       "      <th>first_name</th>\n",
       "      <th>last_name</th>\n",
       "      <th>age</th>\n",
       "      <th>city</th>\n",
       "      <th>reg_date</th>\n",
       "      <th>plan</th>\n",
       "      <th>churn_date</th>\n",
       "    </tr>\n",
       "  </thead>\n",
       "  <tbody>\n",
       "    <tr>\n",
       "      <th>302</th>\n",
       "      <td>1302</td>\n",
       "      <td>Leonila</td>\n",
       "      <td>Morris</td>\n",
       "      <td>62</td>\n",
       "      <td>Rochester, NY MSA</td>\n",
       "      <td>2018-01-21</td>\n",
       "      <td>surf</td>\n",
       "      <td>NaN</td>\n",
       "    </tr>\n",
       "    <tr>\n",
       "      <th>151</th>\n",
       "      <td>1151</td>\n",
       "      <td>Ralph</td>\n",
       "      <td>Monroe</td>\n",
       "      <td>21</td>\n",
       "      <td>New York-Newark-Jersey City, NY-NJ-PA MSA</td>\n",
       "      <td>2018-03-20</td>\n",
       "      <td>surf</td>\n",
       "      <td>NaN</td>\n",
       "    </tr>\n",
       "    <tr>\n",
       "      <th>308</th>\n",
       "      <td>1308</td>\n",
       "      <td>Samara</td>\n",
       "      <td>Monroe</td>\n",
       "      <td>46</td>\n",
       "      <td>Virginia Beach-Norfolk-Newport News, VA-NC MSA</td>\n",
       "      <td>2018-11-22</td>\n",
       "      <td>surf</td>\n",
       "      <td>NaN</td>\n",
       "    </tr>\n",
       "    <tr>\n",
       "      <th>271</th>\n",
       "      <td>1271</td>\n",
       "      <td>Darrin</td>\n",
       "      <td>Rose</td>\n",
       "      <td>48</td>\n",
       "      <td>New York-Newark-Jersey City, NY-NJ-PA MSA</td>\n",
       "      <td>2018-06-24</td>\n",
       "      <td>surf</td>\n",
       "      <td>NaN</td>\n",
       "    </tr>\n",
       "    <tr>\n",
       "      <th>277</th>\n",
       "      <td>1277</td>\n",
       "      <td>Andrew</td>\n",
       "      <td>Faulkner</td>\n",
       "      <td>25</td>\n",
       "      <td>New York-Newark-Jersey City, NY-NJ-PA MSA</td>\n",
       "      <td>2018-02-02</td>\n",
       "      <td>surf</td>\n",
       "      <td>NaN</td>\n",
       "    </tr>\n",
       "    <tr>\n",
       "      <th>29</th>\n",
       "      <td>1029</td>\n",
       "      <td>Franklyn</td>\n",
       "      <td>Henson</td>\n",
       "      <td>59</td>\n",
       "      <td>Tampa-St. Petersburg-Clearwater, FL MSA</td>\n",
       "      <td>2018-01-05</td>\n",
       "      <td>surf</td>\n",
       "      <td>NaN</td>\n",
       "    </tr>\n",
       "    <tr>\n",
       "      <th>298</th>\n",
       "      <td>1298</td>\n",
       "      <td>Loyce</td>\n",
       "      <td>Cooley</td>\n",
       "      <td>53</td>\n",
       "      <td>Nashville-Davidson–Murfreesboro–Franklin, TN MSA</td>\n",
       "      <td>2018-09-21</td>\n",
       "      <td>surf</td>\n",
       "      <td>2018-12-19</td>\n",
       "    </tr>\n",
       "    <tr>\n",
       "      <th>322</th>\n",
       "      <td>1322</td>\n",
       "      <td>Tyler</td>\n",
       "      <td>Sweeney</td>\n",
       "      <td>22</td>\n",
       "      <td>Fresno, CA MSA</td>\n",
       "      <td>2018-06-18</td>\n",
       "      <td>surf</td>\n",
       "      <td>NaN</td>\n",
       "    </tr>\n",
       "    <tr>\n",
       "      <th>79</th>\n",
       "      <td>1079</td>\n",
       "      <td>Brian</td>\n",
       "      <td>Mccall</td>\n",
       "      <td>48</td>\n",
       "      <td>New York-Newark-Jersey City, NY-NJ-PA MSA</td>\n",
       "      <td>2018-01-26</td>\n",
       "      <td>surf</td>\n",
       "      <td>NaN</td>\n",
       "    </tr>\n",
       "    <tr>\n",
       "      <th>188</th>\n",
       "      <td>1188</td>\n",
       "      <td>Ethelene</td>\n",
       "      <td>Brock</td>\n",
       "      <td>31</td>\n",
       "      <td>Richmond, VA MSA</td>\n",
       "      <td>2018-01-10</td>\n",
       "      <td>ultimate</td>\n",
       "      <td>NaN</td>\n",
       "    </tr>\n",
       "  </tbody>\n",
       "</table>\n",
       "</div>"
      ],
      "text/plain": [
       "     user_id first_name last_name  age  \\\n",
       "302     1302    Leonila    Morris   62   \n",
       "151     1151      Ralph    Monroe   21   \n",
       "308     1308     Samara    Monroe   46   \n",
       "271     1271     Darrin      Rose   48   \n",
       "277     1277     Andrew  Faulkner   25   \n",
       "29      1029   Franklyn    Henson   59   \n",
       "298     1298      Loyce    Cooley   53   \n",
       "322     1322      Tyler   Sweeney   22   \n",
       "79      1079      Brian    Mccall   48   \n",
       "188     1188   Ethelene     Brock   31   \n",
       "\n",
       "                                                 city    reg_date      plan  \\\n",
       "302                                 Rochester, NY MSA  2018-01-21      surf   \n",
       "151         New York-Newark-Jersey City, NY-NJ-PA MSA  2018-03-20      surf   \n",
       "308    Virginia Beach-Norfolk-Newport News, VA-NC MSA  2018-11-22      surf   \n",
       "271         New York-Newark-Jersey City, NY-NJ-PA MSA  2018-06-24      surf   \n",
       "277         New York-Newark-Jersey City, NY-NJ-PA MSA  2018-02-02      surf   \n",
       "29            Tampa-St. Petersburg-Clearwater, FL MSA  2018-01-05      surf   \n",
       "298  Nashville-Davidson–Murfreesboro–Franklin, TN MSA  2018-09-21      surf   \n",
       "322                                    Fresno, CA MSA  2018-06-18      surf   \n",
       "79          New York-Newark-Jersey City, NY-NJ-PA MSA  2018-01-26      surf   \n",
       "188                                  Richmond, VA MSA  2018-01-10  ultimate   \n",
       "\n",
       "     churn_date  \n",
       "302         NaN  \n",
       "151         NaN  \n",
       "308         NaN  \n",
       "271         NaN  \n",
       "277         NaN  \n",
       "29          NaN  \n",
       "298  2018-12-19  \n",
       "322         NaN  \n",
       "79          NaN  \n",
       "188         NaN  "
      ]
     },
     "execution_count": 8,
     "metadata": {},
     "output_type": "execute_result"
    }
   ],
   "source": [
    "# Imprime una muestra de datos para usuarios\n",
    "users.sample(10)"
   ]
  },
  {
   "cell_type": "markdown",
   "metadata": {
    "id": "dCZoUq4f0q06"
   },
   "source": [
    "[Describe lo que ves y observas en la información general y en la muestra de datos impresa para el precio de datos anterior. ¿Hay algún problema (tipos de datos no adecuados, datos ausentes, etc.) que pudieran necesitar investigación y cambios adicionales? ¿Cómo se puede arreglar?]\n",
    "\n",
    "R= Como dato a mejorar, podemos transformar la columna reg_date y churn_date a tipo datetime, ya que estamos trabajando con fechas. De igual forma tenemos que en la columna churn_date hay valores NaN debido a que el servicio del usuario sigue activo, por lo tanto para transformarlas a tipo datetime y evitar errores con los valores ausentes NaN aplicamos el parámetro errors=\"coerce\" para que en lugar de lanzar un error con un valor no convertible, los convierte en NaT (Not a time), el equivalente a NaN para fechas. Por lo demás vemos que los datatypes son los adecuados.\n",
    "\n",
    "Deberiamos tambien camiar el dtype de user_id a object, ya que no haremos operaciones aritméticas con aquellos valores al ser valores que representan a cada usuario como único. \n"
   ]
  },
  {
   "cell_type": "markdown",
   "metadata": {
    "id": "BX5FQh_I0q06"
   },
   "source": [
    "### Corregir los datos"
   ]
  },
  {
   "cell_type": "code",
   "execution_count": 9,
   "metadata": {
    "id": "yUqX-K0C0q07",
    "trusted": true
   },
   "outputs": [
    {
     "data": {
      "text/html": [
       "<div>\n",
       "<style scoped>\n",
       "    .dataframe tbody tr th:only-of-type {\n",
       "        vertical-align: middle;\n",
       "    }\n",
       "\n",
       "    .dataframe tbody tr th {\n",
       "        vertical-align: top;\n",
       "    }\n",
       "\n",
       "    .dataframe thead th {\n",
       "        text-align: right;\n",
       "    }\n",
       "</style>\n",
       "<table border=\"1\" class=\"dataframe\">\n",
       "  <thead>\n",
       "    <tr style=\"text-align: right;\">\n",
       "      <th></th>\n",
       "      <th>user_id</th>\n",
       "      <th>first_name</th>\n",
       "      <th>last_name</th>\n",
       "      <th>age</th>\n",
       "      <th>city</th>\n",
       "      <th>reg_date</th>\n",
       "      <th>plan</th>\n",
       "      <th>churn_date</th>\n",
       "    </tr>\n",
       "  </thead>\n",
       "  <tbody>\n",
       "    <tr>\n",
       "      <th>321</th>\n",
       "      <td>1321</td>\n",
       "      <td>Karlyn</td>\n",
       "      <td>Jimenez</td>\n",
       "      <td>19</td>\n",
       "      <td>North Port-Sarasota-Bradenton, FL MSA</td>\n",
       "      <td>2018-05-31</td>\n",
       "      <td>surf</td>\n",
       "      <td>NaT</td>\n",
       "    </tr>\n",
       "    <tr>\n",
       "      <th>319</th>\n",
       "      <td>1319</td>\n",
       "      <td>Eliseo</td>\n",
       "      <td>Carson</td>\n",
       "      <td>21</td>\n",
       "      <td>Colorado Springs, CO MSA</td>\n",
       "      <td>2018-06-17</td>\n",
       "      <td>surf</td>\n",
       "      <td>NaT</td>\n",
       "    </tr>\n",
       "    <tr>\n",
       "      <th>278</th>\n",
       "      <td>1278</td>\n",
       "      <td>Masako</td>\n",
       "      <td>Montgomery</td>\n",
       "      <td>39</td>\n",
       "      <td>Dayton-Kettering, OH MSA</td>\n",
       "      <td>2018-11-03</td>\n",
       "      <td>surf</td>\n",
       "      <td>NaT</td>\n",
       "    </tr>\n",
       "    <tr>\n",
       "      <th>433</th>\n",
       "      <td>1433</td>\n",
       "      <td>Lyndon</td>\n",
       "      <td>Morrison</td>\n",
       "      <td>29</td>\n",
       "      <td>Philadelphia-Camden-Wilmington, PA-NJ-DE-MD MSA</td>\n",
       "      <td>2018-08-29</td>\n",
       "      <td>ultimate</td>\n",
       "      <td>NaT</td>\n",
       "    </tr>\n",
       "    <tr>\n",
       "      <th>39</th>\n",
       "      <td>1039</td>\n",
       "      <td>Flo</td>\n",
       "      <td>Hicks</td>\n",
       "      <td>56</td>\n",
       "      <td>Columbus, OH MSA</td>\n",
       "      <td>2018-05-30</td>\n",
       "      <td>ultimate</td>\n",
       "      <td>NaT</td>\n",
       "    </tr>\n",
       "    <tr>\n",
       "      <th>224</th>\n",
       "      <td>1224</td>\n",
       "      <td>Kelly</td>\n",
       "      <td>Cole</td>\n",
       "      <td>74</td>\n",
       "      <td>Atlanta-Sandy Springs-Roswell, GA MSA</td>\n",
       "      <td>2018-06-28</td>\n",
       "      <td>ultimate</td>\n",
       "      <td>NaT</td>\n",
       "    </tr>\n",
       "    <tr>\n",
       "      <th>71</th>\n",
       "      <td>1071</td>\n",
       "      <td>Isa</td>\n",
       "      <td>Roy</td>\n",
       "      <td>29</td>\n",
       "      <td>New York-Newark-Jersey City, NY-NJ-PA MSA</td>\n",
       "      <td>2018-05-23</td>\n",
       "      <td>surf</td>\n",
       "      <td>NaT</td>\n",
       "    </tr>\n",
       "    <tr>\n",
       "      <th>188</th>\n",
       "      <td>1188</td>\n",
       "      <td>Ethelene</td>\n",
       "      <td>Brock</td>\n",
       "      <td>31</td>\n",
       "      <td>Richmond, VA MSA</td>\n",
       "      <td>2018-01-10</td>\n",
       "      <td>ultimate</td>\n",
       "      <td>NaT</td>\n",
       "    </tr>\n",
       "    <tr>\n",
       "      <th>78</th>\n",
       "      <td>1078</td>\n",
       "      <td>Earnest</td>\n",
       "      <td>Gray</td>\n",
       "      <td>47</td>\n",
       "      <td>Seattle-Tacoma-Bellevue, WA MSA</td>\n",
       "      <td>2018-02-11</td>\n",
       "      <td>surf</td>\n",
       "      <td>NaT</td>\n",
       "    </tr>\n",
       "    <tr>\n",
       "      <th>26</th>\n",
       "      <td>1026</td>\n",
       "      <td>Meggan</td>\n",
       "      <td>Hamilton</td>\n",
       "      <td>49</td>\n",
       "      <td>Houston-The Woodlands-Sugar Land, TX MSA</td>\n",
       "      <td>2018-07-20</td>\n",
       "      <td>ultimate</td>\n",
       "      <td>NaT</td>\n",
       "    </tr>\n",
       "  </tbody>\n",
       "</table>\n",
       "</div>"
      ],
      "text/plain": [
       "    user_id first_name   last_name  age  \\\n",
       "321    1321     Karlyn     Jimenez   19   \n",
       "319    1319     Eliseo      Carson   21   \n",
       "278    1278     Masako  Montgomery   39   \n",
       "433    1433     Lyndon    Morrison   29   \n",
       "39     1039        Flo       Hicks   56   \n",
       "224    1224      Kelly        Cole   74   \n",
       "71     1071        Isa         Roy   29   \n",
       "188    1188   Ethelene       Brock   31   \n",
       "78     1078    Earnest        Gray   47   \n",
       "26     1026     Meggan    Hamilton   49   \n",
       "\n",
       "                                                city   reg_date      plan  \\\n",
       "321            North Port-Sarasota-Bradenton, FL MSA 2018-05-31      surf   \n",
       "319                         Colorado Springs, CO MSA 2018-06-17      surf   \n",
       "278                         Dayton-Kettering, OH MSA 2018-11-03      surf   \n",
       "433  Philadelphia-Camden-Wilmington, PA-NJ-DE-MD MSA 2018-08-29  ultimate   \n",
       "39                                  Columbus, OH MSA 2018-05-30  ultimate   \n",
       "224            Atlanta-Sandy Springs-Roswell, GA MSA 2018-06-28  ultimate   \n",
       "71         New York-Newark-Jersey City, NY-NJ-PA MSA 2018-05-23      surf   \n",
       "188                                 Richmond, VA MSA 2018-01-10  ultimate   \n",
       "78                   Seattle-Tacoma-Bellevue, WA MSA 2018-02-11      surf   \n",
       "26          Houston-The Woodlands-Sugar Land, TX MSA 2018-07-20  ultimate   \n",
       "\n",
       "    churn_date  \n",
       "321        NaT  \n",
       "319        NaT  \n",
       "278        NaT  \n",
       "433        NaT  \n",
       "39         NaT  \n",
       "224        NaT  \n",
       "71         NaT  \n",
       "188        NaT  \n",
       "78         NaT  \n",
       "26         NaT  "
      ]
     },
     "execution_count": 9,
     "metadata": {},
     "output_type": "execute_result"
    }
   ],
   "source": [
    "#Transformamos reg_date y churn_date a tipo datetime.\n",
    "users[\"reg_date\"] = pd.to_datetime(users[\"reg_date\"])\n",
    "users[\"churn_date\"] = pd.to_datetime(users[\"churn_date\"], errors=\"coerce\") #Aplicamos coerce para evitar errores con los datos NaN\n",
    "users[\"user_id\"]=users['user_id'].astype(object)\n",
    "users.sample(10)\n"
   ]
  },
  {
   "cell_type": "markdown",
   "metadata": {
    "id": "ycwuARJp0q07"
   },
   "source": [
    "### Enriquecer los datos"
   ]
  },
  {
   "cell_type": "markdown",
   "metadata": {
    "id": "96NIh4CJ0q08"
   },
   "source": [
    "[Agrega factores adicionales a los datos si crees que pudieran ser útiles.]\n",
    "\n",
    "R= Podríamos agregar una columna llamada \"active_user\" para poder filtar más adelante y poder visualizar mejor cuales son los usuarios que siguen con su plan activo"
   ]
  },
  {
   "cell_type": "code",
   "execution_count": 10,
   "metadata": {
    "id": "iq0AaBS90q08",
    "trusted": true
   },
   "outputs": [
    {
     "data": {
      "text/html": [
       "<div>\n",
       "<style scoped>\n",
       "    .dataframe tbody tr th:only-of-type {\n",
       "        vertical-align: middle;\n",
       "    }\n",
       "\n",
       "    .dataframe tbody tr th {\n",
       "        vertical-align: top;\n",
       "    }\n",
       "\n",
       "    .dataframe thead th {\n",
       "        text-align: right;\n",
       "    }\n",
       "</style>\n",
       "<table border=\"1\" class=\"dataframe\">\n",
       "  <thead>\n",
       "    <tr style=\"text-align: right;\">\n",
       "      <th></th>\n",
       "      <th>user_id</th>\n",
       "      <th>first_name</th>\n",
       "      <th>last_name</th>\n",
       "      <th>age</th>\n",
       "      <th>city</th>\n",
       "      <th>reg_date</th>\n",
       "      <th>plan</th>\n",
       "      <th>churn_date</th>\n",
       "      <th>active_user</th>\n",
       "    </tr>\n",
       "  </thead>\n",
       "  <tbody>\n",
       "    <tr>\n",
       "      <th>20</th>\n",
       "      <td>1020</td>\n",
       "      <td>Rutha</td>\n",
       "      <td>Bell</td>\n",
       "      <td>56</td>\n",
       "      <td>Dallas-Fort Worth-Arlington, TX MSA</td>\n",
       "      <td>2018-11-08</td>\n",
       "      <td>surf</td>\n",
       "      <td>NaT</td>\n",
       "      <td>True</td>\n",
       "    </tr>\n",
       "    <tr>\n",
       "      <th>230</th>\n",
       "      <td>1230</td>\n",
       "      <td>Andre</td>\n",
       "      <td>Estes</td>\n",
       "      <td>38</td>\n",
       "      <td>New York-Newark-Jersey City, NY-NJ-PA MSA</td>\n",
       "      <td>2018-02-27</td>\n",
       "      <td>ultimate</td>\n",
       "      <td>NaT</td>\n",
       "      <td>True</td>\n",
       "    </tr>\n",
       "    <tr>\n",
       "      <th>94</th>\n",
       "      <td>1094</td>\n",
       "      <td>Walter</td>\n",
       "      <td>Petersen</td>\n",
       "      <td>54</td>\n",
       "      <td>Los Angeles-Long Beach-Anaheim, CA MSA</td>\n",
       "      <td>2018-10-30</td>\n",
       "      <td>surf</td>\n",
       "      <td>2018-12-12</td>\n",
       "      <td>False</td>\n",
       "    </tr>\n",
       "    <tr>\n",
       "      <th>328</th>\n",
       "      <td>1328</td>\n",
       "      <td>Tamesha</td>\n",
       "      <td>Huber</td>\n",
       "      <td>20</td>\n",
       "      <td>Minneapolis-St. Paul-Bloomington, MN-WI MSA</td>\n",
       "      <td>2018-02-10</td>\n",
       "      <td>surf</td>\n",
       "      <td>NaT</td>\n",
       "      <td>True</td>\n",
       "    </tr>\n",
       "    <tr>\n",
       "      <th>11</th>\n",
       "      <td>1011</td>\n",
       "      <td>Halina</td>\n",
       "      <td>Henry</td>\n",
       "      <td>73</td>\n",
       "      <td>Cleveland-Elyria, OH MSA</td>\n",
       "      <td>2018-01-18</td>\n",
       "      <td>ultimate</td>\n",
       "      <td>NaT</td>\n",
       "      <td>True</td>\n",
       "    </tr>\n",
       "    <tr>\n",
       "      <th>478</th>\n",
       "      <td>1478</td>\n",
       "      <td>Elane</td>\n",
       "      <td>David</td>\n",
       "      <td>51</td>\n",
       "      <td>Portland-Vancouver-Hillsboro, OR-WA MSA</td>\n",
       "      <td>2018-06-28</td>\n",
       "      <td>ultimate</td>\n",
       "      <td>NaT</td>\n",
       "      <td>True</td>\n",
       "    </tr>\n",
       "    <tr>\n",
       "      <th>363</th>\n",
       "      <td>1363</td>\n",
       "      <td>Sandee</td>\n",
       "      <td>Lott</td>\n",
       "      <td>33</td>\n",
       "      <td>Seattle-Tacoma-Bellevue, WA MSA</td>\n",
       "      <td>2018-01-05</td>\n",
       "      <td>ultimate</td>\n",
       "      <td>2018-08-16</td>\n",
       "      <td>False</td>\n",
       "    </tr>\n",
       "    <tr>\n",
       "      <th>205</th>\n",
       "      <td>1205</td>\n",
       "      <td>Rafael</td>\n",
       "      <td>Wade</td>\n",
       "      <td>43</td>\n",
       "      <td>New York-Newark-Jersey City, NY-NJ-PA MSA</td>\n",
       "      <td>2018-04-05</td>\n",
       "      <td>surf</td>\n",
       "      <td>NaT</td>\n",
       "      <td>True</td>\n",
       "    </tr>\n",
       "    <tr>\n",
       "      <th>70</th>\n",
       "      <td>1070</td>\n",
       "      <td>Jacelyn</td>\n",
       "      <td>Contreras</td>\n",
       "      <td>66</td>\n",
       "      <td>Chicago-Naperville-Elgin, IL-IN-WI MSA</td>\n",
       "      <td>2018-05-12</td>\n",
       "      <td>surf</td>\n",
       "      <td>NaT</td>\n",
       "      <td>True</td>\n",
       "    </tr>\n",
       "    <tr>\n",
       "      <th>270</th>\n",
       "      <td>1270</td>\n",
       "      <td>Anjelica</td>\n",
       "      <td>Chan</td>\n",
       "      <td>70</td>\n",
       "      <td>Philadelphia-Camden-Wilmington, PA-NJ-DE-MD MSA</td>\n",
       "      <td>2018-09-18</td>\n",
       "      <td>ultimate</td>\n",
       "      <td>NaT</td>\n",
       "      <td>True</td>\n",
       "    </tr>\n",
       "  </tbody>\n",
       "</table>\n",
       "</div>"
      ],
      "text/plain": [
       "    user_id first_name  last_name  age  \\\n",
       "20     1020      Rutha       Bell   56   \n",
       "230    1230      Andre      Estes   38   \n",
       "94     1094     Walter   Petersen   54   \n",
       "328    1328    Tamesha      Huber   20   \n",
       "11     1011     Halina      Henry   73   \n",
       "478    1478      Elane      David   51   \n",
       "363    1363     Sandee       Lott   33   \n",
       "205    1205     Rafael       Wade   43   \n",
       "70     1070    Jacelyn  Contreras   66   \n",
       "270    1270   Anjelica       Chan   70   \n",
       "\n",
       "                                                city   reg_date      plan  \\\n",
       "20               Dallas-Fort Worth-Arlington, TX MSA 2018-11-08      surf   \n",
       "230        New York-Newark-Jersey City, NY-NJ-PA MSA 2018-02-27  ultimate   \n",
       "94            Los Angeles-Long Beach-Anaheim, CA MSA 2018-10-30      surf   \n",
       "328      Minneapolis-St. Paul-Bloomington, MN-WI MSA 2018-02-10      surf   \n",
       "11                          Cleveland-Elyria, OH MSA 2018-01-18  ultimate   \n",
       "478          Portland-Vancouver-Hillsboro, OR-WA MSA 2018-06-28  ultimate   \n",
       "363                  Seattle-Tacoma-Bellevue, WA MSA 2018-01-05  ultimate   \n",
       "205        New York-Newark-Jersey City, NY-NJ-PA MSA 2018-04-05      surf   \n",
       "70            Chicago-Naperville-Elgin, IL-IN-WI MSA 2018-05-12      surf   \n",
       "270  Philadelphia-Camden-Wilmington, PA-NJ-DE-MD MSA 2018-09-18  ultimate   \n",
       "\n",
       "    churn_date  active_user  \n",
       "20         NaT         True  \n",
       "230        NaT         True  \n",
       "94  2018-12-12        False  \n",
       "328        NaT         True  \n",
       "11         NaT         True  \n",
       "478        NaT         True  \n",
       "363 2018-08-16        False  \n",
       "205        NaT         True  \n",
       "70         NaT         True  \n",
       "270        NaT         True  "
      ]
     },
     "execution_count": 10,
     "metadata": {},
     "output_type": "execute_result"
    }
   ],
   "source": [
    "users[\"active_user\"] = users[\"churn_date\"].isna()\n",
    "users.sample(10)"
   ]
  },
  {
   "cell_type": "markdown",
   "metadata": {
    "id": "o7MeKCid0q08"
   },
   "source": [
    "## Llamadas"
   ]
  },
  {
   "cell_type": "code",
   "execution_count": 11,
   "metadata": {
    "id": "6dDlnoDm0q08",
    "trusted": true
   },
   "outputs": [
    {
     "name": "stdout",
     "output_type": "stream",
     "text": [
      "<class 'pandas.core.frame.DataFrame'>\n",
      "RangeIndex: 137735 entries, 0 to 137734\n",
      "Data columns (total 4 columns):\n",
      " #   Column     Non-Null Count   Dtype  \n",
      "---  ------     --------------   -----  \n",
      " 0   id         137735 non-null  object \n",
      " 1   user_id    137735 non-null  int64  \n",
      " 2   call_date  137735 non-null  object \n",
      " 3   duration   137735 non-null  float64\n",
      "dtypes: float64(1), int64(1), object(2)\n",
      "memory usage: 4.2+ MB\n"
     ]
    }
   ],
   "source": [
    "# Imprime la información general/resumida sobre el DataFrame de las llamadas\n",
    "calls=pd.read_csv('/datasets/megaline_calls.csv') #Volví a cargar el DF meramente por si ocupo reiniciarlo, no tenga que reiniciar los otros 4 que cargamos al inicio.\n",
    "calls.info()"
   ]
  },
  {
   "cell_type": "code",
   "execution_count": 12,
   "metadata": {
    "id": "kuh1vlNB0q09",
    "trusted": true
   },
   "outputs": [
    {
     "data": {
      "text/html": [
       "<div>\n",
       "<style scoped>\n",
       "    .dataframe tbody tr th:only-of-type {\n",
       "        vertical-align: middle;\n",
       "    }\n",
       "\n",
       "    .dataframe tbody tr th {\n",
       "        vertical-align: top;\n",
       "    }\n",
       "\n",
       "    .dataframe thead th {\n",
       "        text-align: right;\n",
       "    }\n",
       "</style>\n",
       "<table border=\"1\" class=\"dataframe\">\n",
       "  <thead>\n",
       "    <tr style=\"text-align: right;\">\n",
       "      <th></th>\n",
       "      <th>id</th>\n",
       "      <th>user_id</th>\n",
       "      <th>call_date</th>\n",
       "      <th>duration</th>\n",
       "    </tr>\n",
       "  </thead>\n",
       "  <tbody>\n",
       "    <tr>\n",
       "      <th>0</th>\n",
       "      <td>1000_93</td>\n",
       "      <td>1000</td>\n",
       "      <td>2018-12-27</td>\n",
       "      <td>8.52</td>\n",
       "    </tr>\n",
       "    <tr>\n",
       "      <th>1</th>\n",
       "      <td>1000_145</td>\n",
       "      <td>1000</td>\n",
       "      <td>2018-12-27</td>\n",
       "      <td>13.66</td>\n",
       "    </tr>\n",
       "    <tr>\n",
       "      <th>2</th>\n",
       "      <td>1000_247</td>\n",
       "      <td>1000</td>\n",
       "      <td>2018-12-27</td>\n",
       "      <td>14.48</td>\n",
       "    </tr>\n",
       "    <tr>\n",
       "      <th>3</th>\n",
       "      <td>1000_309</td>\n",
       "      <td>1000</td>\n",
       "      <td>2018-12-28</td>\n",
       "      <td>5.76</td>\n",
       "    </tr>\n",
       "    <tr>\n",
       "      <th>4</th>\n",
       "      <td>1000_380</td>\n",
       "      <td>1000</td>\n",
       "      <td>2018-12-30</td>\n",
       "      <td>4.22</td>\n",
       "    </tr>\n",
       "    <tr>\n",
       "      <th>5</th>\n",
       "      <td>1000_388</td>\n",
       "      <td>1000</td>\n",
       "      <td>2018-12-31</td>\n",
       "      <td>2.20</td>\n",
       "    </tr>\n",
       "    <tr>\n",
       "      <th>6</th>\n",
       "      <td>1000_510</td>\n",
       "      <td>1000</td>\n",
       "      <td>2018-12-27</td>\n",
       "      <td>5.75</td>\n",
       "    </tr>\n",
       "    <tr>\n",
       "      <th>7</th>\n",
       "      <td>1000_521</td>\n",
       "      <td>1000</td>\n",
       "      <td>2018-12-28</td>\n",
       "      <td>14.18</td>\n",
       "    </tr>\n",
       "    <tr>\n",
       "      <th>8</th>\n",
       "      <td>1000_530</td>\n",
       "      <td>1000</td>\n",
       "      <td>2018-12-28</td>\n",
       "      <td>5.77</td>\n",
       "    </tr>\n",
       "    <tr>\n",
       "      <th>9</th>\n",
       "      <td>1000_544</td>\n",
       "      <td>1000</td>\n",
       "      <td>2018-12-26</td>\n",
       "      <td>4.40</td>\n",
       "    </tr>\n",
       "  </tbody>\n",
       "</table>\n",
       "</div>"
      ],
      "text/plain": [
       "         id  user_id   call_date  duration\n",
       "0   1000_93     1000  2018-12-27      8.52\n",
       "1  1000_145     1000  2018-12-27     13.66\n",
       "2  1000_247     1000  2018-12-27     14.48\n",
       "3  1000_309     1000  2018-12-28      5.76\n",
       "4  1000_380     1000  2018-12-30      4.22\n",
       "5  1000_388     1000  2018-12-31      2.20\n",
       "6  1000_510     1000  2018-12-27      5.75\n",
       "7  1000_521     1000  2018-12-28     14.18\n",
       "8  1000_530     1000  2018-12-28      5.77\n",
       "9  1000_544     1000  2018-12-26      4.40"
      ]
     },
     "execution_count": 12,
     "metadata": {},
     "output_type": "execute_result"
    }
   ],
   "source": [
    "# Imprime una muestra de datos para las llamadas\n",
    "calls.head(10)\n"
   ]
  },
  {
   "cell_type": "markdown",
   "metadata": {
    "id": "DOAxYJSx0q09"
   },
   "source": [
    "[Describe lo que ves y observas en la información general y en la muestra de datos impresa para el precio de datos anterior. ¿Hay algún problema (tipos de datos no adecuados, datos ausentes, etc.) que pudieran necesitar investigación y cambios adicionales? ¿Cómo se puede arreglar?]\n",
    "\n",
    "R= En este DF podemos cambiar el dtype de call_date a datetime ya que estamos trabajando con una fecha, de igual forma podriamos modificar el dtype de user_id de int a object, ya que no haremos operaciones aritméticas con este valor."
   ]
  },
  {
   "cell_type": "markdown",
   "metadata": {
    "id": "S7hzxmbX0q0-"
   },
   "source": [
    "### Corregir los datos"
   ]
  },
  {
   "cell_type": "code",
   "execution_count": 13,
   "metadata": {
    "id": "S2r8xA4f0q0-",
    "trusted": true
   },
   "outputs": [
    {
     "name": "stdout",
     "output_type": "stream",
     "text": [
      "<class 'pandas.core.frame.DataFrame'>\n",
      "RangeIndex: 137735 entries, 0 to 137734\n",
      "Data columns (total 4 columns):\n",
      " #   Column     Non-Null Count   Dtype         \n",
      "---  ------     --------------   -----         \n",
      " 0   id         137735 non-null  object        \n",
      " 1   user_id    137735 non-null  object        \n",
      " 2   call_date  137735 non-null  datetime64[ns]\n",
      " 3   duration   137735 non-null  float64       \n",
      "dtypes: datetime64[ns](1), float64(1), object(2)\n",
      "memory usage: 4.2+ MB\n"
     ]
    }
   ],
   "source": [
    "calls['call_date']=pd.to_datetime(calls['call_date'])\n",
    "calls['user_id']= calls['user_id'].astype(object)\n",
    "calls.info()"
   ]
  },
  {
   "cell_type": "markdown",
   "metadata": {
    "id": "KrMgTrlG0q0_"
   },
   "source": [
    "### Enriquecer los datos"
   ]
  },
  {
   "cell_type": "markdown",
   "metadata": {
    "id": "a9MbmEvE0q0_"
   },
   "source": [
    "[Agrega factores adicionales a los datos si crees que pudieran ser útiles.]\n",
    "\n",
    "R=Meramente para que la visualización sea más clara, podríamos cambiar el nombre de la columna \"duration\" y agregarle algo como \"minutes_duration\" para dar a entender que la duración de la llamada se esta midiendo en minutos (a pesar que en nuestro diccionario de datos lo menciona)"
   ]
  },
  {
   "cell_type": "code",
   "execution_count": 14,
   "metadata": {
    "id": "iZ1avpA_0q0_",
    "trusted": true
   },
   "outputs": [
    {
     "data": {
      "text/html": [
       "<div>\n",
       "<style scoped>\n",
       "    .dataframe tbody tr th:only-of-type {\n",
       "        vertical-align: middle;\n",
       "    }\n",
       "\n",
       "    .dataframe tbody tr th {\n",
       "        vertical-align: top;\n",
       "    }\n",
       "\n",
       "    .dataframe thead th {\n",
       "        text-align: right;\n",
       "    }\n",
       "</style>\n",
       "<table border=\"1\" class=\"dataframe\">\n",
       "  <thead>\n",
       "    <tr style=\"text-align: right;\">\n",
       "      <th></th>\n",
       "      <th>id</th>\n",
       "      <th>user_id</th>\n",
       "      <th>call_date</th>\n",
       "      <th>minutes_duration</th>\n",
       "    </tr>\n",
       "  </thead>\n",
       "  <tbody>\n",
       "    <tr>\n",
       "      <th>0</th>\n",
       "      <td>1000_93</td>\n",
       "      <td>1000</td>\n",
       "      <td>2018-12-27</td>\n",
       "      <td>8.52</td>\n",
       "    </tr>\n",
       "    <tr>\n",
       "      <th>1</th>\n",
       "      <td>1000_145</td>\n",
       "      <td>1000</td>\n",
       "      <td>2018-12-27</td>\n",
       "      <td>13.66</td>\n",
       "    </tr>\n",
       "    <tr>\n",
       "      <th>2</th>\n",
       "      <td>1000_247</td>\n",
       "      <td>1000</td>\n",
       "      <td>2018-12-27</td>\n",
       "      <td>14.48</td>\n",
       "    </tr>\n",
       "    <tr>\n",
       "      <th>3</th>\n",
       "      <td>1000_309</td>\n",
       "      <td>1000</td>\n",
       "      <td>2018-12-28</td>\n",
       "      <td>5.76</td>\n",
       "    </tr>\n",
       "    <tr>\n",
       "      <th>4</th>\n",
       "      <td>1000_380</td>\n",
       "      <td>1000</td>\n",
       "      <td>2018-12-30</td>\n",
       "      <td>4.22</td>\n",
       "    </tr>\n",
       "    <tr>\n",
       "      <th>5</th>\n",
       "      <td>1000_388</td>\n",
       "      <td>1000</td>\n",
       "      <td>2018-12-31</td>\n",
       "      <td>2.20</td>\n",
       "    </tr>\n",
       "    <tr>\n",
       "      <th>6</th>\n",
       "      <td>1000_510</td>\n",
       "      <td>1000</td>\n",
       "      <td>2018-12-27</td>\n",
       "      <td>5.75</td>\n",
       "    </tr>\n",
       "    <tr>\n",
       "      <th>7</th>\n",
       "      <td>1000_521</td>\n",
       "      <td>1000</td>\n",
       "      <td>2018-12-28</td>\n",
       "      <td>14.18</td>\n",
       "    </tr>\n",
       "    <tr>\n",
       "      <th>8</th>\n",
       "      <td>1000_530</td>\n",
       "      <td>1000</td>\n",
       "      <td>2018-12-28</td>\n",
       "      <td>5.77</td>\n",
       "    </tr>\n",
       "    <tr>\n",
       "      <th>9</th>\n",
       "      <td>1000_544</td>\n",
       "      <td>1000</td>\n",
       "      <td>2018-12-26</td>\n",
       "      <td>4.40</td>\n",
       "    </tr>\n",
       "  </tbody>\n",
       "</table>\n",
       "</div>"
      ],
      "text/plain": [
       "         id user_id  call_date  minutes_duration\n",
       "0   1000_93    1000 2018-12-27              8.52\n",
       "1  1000_145    1000 2018-12-27             13.66\n",
       "2  1000_247    1000 2018-12-27             14.48\n",
       "3  1000_309    1000 2018-12-28              5.76\n",
       "4  1000_380    1000 2018-12-30              4.22\n",
       "5  1000_388    1000 2018-12-31              2.20\n",
       "6  1000_510    1000 2018-12-27              5.75\n",
       "7  1000_521    1000 2018-12-28             14.18\n",
       "8  1000_530    1000 2018-12-28              5.77\n",
       "9  1000_544    1000 2018-12-26              4.40"
      ]
     },
     "execution_count": 14,
     "metadata": {},
     "output_type": "execute_result"
    }
   ],
   "source": [
    "calls.rename(columns={'duration':'minutes_duration'}, inplace=True)\n",
    "calls.head(10)"
   ]
  },
  {
   "cell_type": "markdown",
   "metadata": {
    "id": "mOUZSi180q0_"
   },
   "source": [
    "## Mensajes"
   ]
  },
  {
   "cell_type": "code",
   "execution_count": 15,
   "metadata": {
    "id": "R-bYJpdV0q1A",
    "trusted": true
   },
   "outputs": [
    {
     "name": "stdout",
     "output_type": "stream",
     "text": [
      "<class 'pandas.core.frame.DataFrame'>\n",
      "RangeIndex: 76051 entries, 0 to 76050\n",
      "Data columns (total 3 columns):\n",
      " #   Column        Non-Null Count  Dtype \n",
      "---  ------        --------------  ----- \n",
      " 0   id            76051 non-null  object\n",
      " 1   user_id       76051 non-null  int64 \n",
      " 2   message_date  76051 non-null  object\n",
      "dtypes: int64(1), object(2)\n",
      "memory usage: 1.7+ MB\n"
     ]
    }
   ],
   "source": [
    "# Imprime la información general/resumida sobre el DataFrame de los mensajes\n",
    "\n",
    "messages.info()"
   ]
  },
  {
   "cell_type": "code",
   "execution_count": 16,
   "metadata": {
    "id": "mCEl2iGE0q1A",
    "trusted": true
   },
   "outputs": [
    {
     "data": {
      "text/html": [
       "<div>\n",
       "<style scoped>\n",
       "    .dataframe tbody tr th:only-of-type {\n",
       "        vertical-align: middle;\n",
       "    }\n",
       "\n",
       "    .dataframe tbody tr th {\n",
       "        vertical-align: top;\n",
       "    }\n",
       "\n",
       "    .dataframe thead th {\n",
       "        text-align: right;\n",
       "    }\n",
       "</style>\n",
       "<table border=\"1\" class=\"dataframe\">\n",
       "  <thead>\n",
       "    <tr style=\"text-align: right;\">\n",
       "      <th></th>\n",
       "      <th>id</th>\n",
       "      <th>user_id</th>\n",
       "      <th>message_date</th>\n",
       "    </tr>\n",
       "  </thead>\n",
       "  <tbody>\n",
       "    <tr>\n",
       "      <th>0</th>\n",
       "      <td>1000_125</td>\n",
       "      <td>1000</td>\n",
       "      <td>2018-12-27</td>\n",
       "    </tr>\n",
       "    <tr>\n",
       "      <th>1</th>\n",
       "      <td>1000_160</td>\n",
       "      <td>1000</td>\n",
       "      <td>2018-12-31</td>\n",
       "    </tr>\n",
       "    <tr>\n",
       "      <th>2</th>\n",
       "      <td>1000_223</td>\n",
       "      <td>1000</td>\n",
       "      <td>2018-12-31</td>\n",
       "    </tr>\n",
       "    <tr>\n",
       "      <th>3</th>\n",
       "      <td>1000_251</td>\n",
       "      <td>1000</td>\n",
       "      <td>2018-12-27</td>\n",
       "    </tr>\n",
       "    <tr>\n",
       "      <th>4</th>\n",
       "      <td>1000_255</td>\n",
       "      <td>1000</td>\n",
       "      <td>2018-12-26</td>\n",
       "    </tr>\n",
       "    <tr>\n",
       "      <th>5</th>\n",
       "      <td>1000_346</td>\n",
       "      <td>1000</td>\n",
       "      <td>2018-12-29</td>\n",
       "    </tr>\n",
       "    <tr>\n",
       "      <th>6</th>\n",
       "      <td>1000_386</td>\n",
       "      <td>1000</td>\n",
       "      <td>2018-12-30</td>\n",
       "    </tr>\n",
       "    <tr>\n",
       "      <th>7</th>\n",
       "      <td>1000_413</td>\n",
       "      <td>1000</td>\n",
       "      <td>2018-12-31</td>\n",
       "    </tr>\n",
       "    <tr>\n",
       "      <th>8</th>\n",
       "      <td>1000_502</td>\n",
       "      <td>1000</td>\n",
       "      <td>2018-12-27</td>\n",
       "    </tr>\n",
       "    <tr>\n",
       "      <th>9</th>\n",
       "      <td>1000_525</td>\n",
       "      <td>1000</td>\n",
       "      <td>2018-12-28</td>\n",
       "    </tr>\n",
       "  </tbody>\n",
       "</table>\n",
       "</div>"
      ],
      "text/plain": [
       "         id  user_id message_date\n",
       "0  1000_125     1000   2018-12-27\n",
       "1  1000_160     1000   2018-12-31\n",
       "2  1000_223     1000   2018-12-31\n",
       "3  1000_251     1000   2018-12-27\n",
       "4  1000_255     1000   2018-12-26\n",
       "5  1000_346     1000   2018-12-29\n",
       "6  1000_386     1000   2018-12-30\n",
       "7  1000_413     1000   2018-12-31\n",
       "8  1000_502     1000   2018-12-27\n",
       "9  1000_525     1000   2018-12-28"
      ]
     },
     "execution_count": 16,
     "metadata": {},
     "output_type": "execute_result"
    }
   ],
   "source": [
    "# Imprime una muestra de datos para los mensajes\n",
    "messages.head(10)\n"
   ]
  },
  {
   "cell_type": "markdown",
   "metadata": {
    "id": "04xDj7KH0q1A"
   },
   "source": [
    "[Describe lo que ves y observas en la información general y en la muestra de datos impresa para el precio de datos anterior. ¿Hay algún problema (tipos de datos no adecuados, datos ausentes, etc.) que pudieran necesitar investigación y cambios adicionales? ¿Cómo se puede arreglar?]\n",
    "\n",
    "R=Igual que en DF anteriores, convertiremos 'user_id' a object type y 'message_date' a datetime para mejor manejo de los datos."
   ]
  },
  {
   "cell_type": "markdown",
   "metadata": {
    "id": "Sprfak900q1B"
   },
   "source": [
    "### Corregir los datos"
   ]
  },
  {
   "cell_type": "code",
   "execution_count": 17,
   "metadata": {
    "id": "vsllvkoa0q1B",
    "trusted": true
   },
   "outputs": [
    {
     "name": "stdout",
     "output_type": "stream",
     "text": [
      "<class 'pandas.core.frame.DataFrame'>\n",
      "RangeIndex: 76051 entries, 0 to 76050\n",
      "Data columns (total 3 columns):\n",
      " #   Column        Non-Null Count  Dtype         \n",
      "---  ------        --------------  -----         \n",
      " 0   id            76051 non-null  object        \n",
      " 1   user_id       76051 non-null  object        \n",
      " 2   message_date  76051 non-null  datetime64[ns]\n",
      "dtypes: datetime64[ns](1), object(2)\n",
      "memory usage: 1.7+ MB\n"
     ]
    }
   ],
   "source": [
    "messages['user_id']=messages['user_id'].astype(object)\n",
    "messages['message_date']=pd.to_datetime(messages['message_date'])\n",
    "messages.info()"
   ]
  },
  {
   "cell_type": "markdown",
   "metadata": {
    "id": "HvLid7iD0q1B"
   },
   "source": [
    "### Enriquecer los datos"
   ]
  },
  {
   "cell_type": "markdown",
   "metadata": {
    "id": "8nhPFKIe0q1C"
   },
   "source": [
    "[Agrega factores adicionales a los datos si crees que pudieran ser útiles.]\n",
    "\n",
    "R=En este DF en particular, pienso no hay nada más que agregar o modificar."
   ]
  },
  {
   "cell_type": "code",
   "execution_count": null,
   "metadata": {
    "id": "zYEXZac10q1C",
    "trusted": true
   },
   "outputs": [],
   "source": []
  },
  {
   "cell_type": "markdown",
   "metadata": {
    "id": "bStkaxn40q1C"
   },
   "source": [
    "## Internet"
   ]
  },
  {
   "cell_type": "code",
   "execution_count": 18,
   "metadata": {
    "id": "e-Uz5qyn0q1C",
    "trusted": true
   },
   "outputs": [
    {
     "name": "stdout",
     "output_type": "stream",
     "text": [
      "<class 'pandas.core.frame.DataFrame'>\n",
      "RangeIndex: 104825 entries, 0 to 104824\n",
      "Data columns (total 4 columns):\n",
      " #   Column        Non-Null Count   Dtype  \n",
      "---  ------        --------------   -----  \n",
      " 0   id            104825 non-null  object \n",
      " 1   user_id       104825 non-null  int64  \n",
      " 2   session_date  104825 non-null  object \n",
      " 3   mb_used       104825 non-null  float64\n",
      "dtypes: float64(1), int64(1), object(2)\n",
      "memory usage: 3.2+ MB\n"
     ]
    }
   ],
   "source": [
    "# Imprime la información general/resumida sobre el DataFrame de internet\n",
    "\n",
    "internet.info()"
   ]
  },
  {
   "cell_type": "code",
   "execution_count": 19,
   "metadata": {
    "id": "9r3x_XLw0q1C",
    "trusted": true
   },
   "outputs": [
    {
     "data": {
      "text/html": [
       "<div>\n",
       "<style scoped>\n",
       "    .dataframe tbody tr th:only-of-type {\n",
       "        vertical-align: middle;\n",
       "    }\n",
       "\n",
       "    .dataframe tbody tr th {\n",
       "        vertical-align: top;\n",
       "    }\n",
       "\n",
       "    .dataframe thead th {\n",
       "        text-align: right;\n",
       "    }\n",
       "</style>\n",
       "<table border=\"1\" class=\"dataframe\">\n",
       "  <thead>\n",
       "    <tr style=\"text-align: right;\">\n",
       "      <th></th>\n",
       "      <th>id</th>\n",
       "      <th>user_id</th>\n",
       "      <th>session_date</th>\n",
       "      <th>mb_used</th>\n",
       "    </tr>\n",
       "  </thead>\n",
       "  <tbody>\n",
       "    <tr>\n",
       "      <th>5450</th>\n",
       "      <td>1030_49</td>\n",
       "      <td>1030</td>\n",
       "      <td>2018-12-27</td>\n",
       "      <td>217.21</td>\n",
       "    </tr>\n",
       "    <tr>\n",
       "      <th>90051</th>\n",
       "      <td>1415_155</td>\n",
       "      <td>1415</td>\n",
       "      <td>2018-11-28</td>\n",
       "      <td>506.45</td>\n",
       "    </tr>\n",
       "    <tr>\n",
       "      <th>67508</th>\n",
       "      <td>1313_182</td>\n",
       "      <td>1313</td>\n",
       "      <td>2018-11-13</td>\n",
       "      <td>843.33</td>\n",
       "    </tr>\n",
       "    <tr>\n",
       "      <th>76590</th>\n",
       "      <td>1359_274</td>\n",
       "      <td>1359</td>\n",
       "      <td>2018-07-18</td>\n",
       "      <td>304.46</td>\n",
       "    </tr>\n",
       "    <tr>\n",
       "      <th>88684</th>\n",
       "      <td>1408_403</td>\n",
       "      <td>1408</td>\n",
       "      <td>2018-09-20</td>\n",
       "      <td>841.03</td>\n",
       "    </tr>\n",
       "    <tr>\n",
       "      <th>98539</th>\n",
       "      <td>1466_20</td>\n",
       "      <td>1466</td>\n",
       "      <td>2018-06-22</td>\n",
       "      <td>256.37</td>\n",
       "    </tr>\n",
       "    <tr>\n",
       "      <th>46488</th>\n",
       "      <td>1206_370</td>\n",
       "      <td>1206</td>\n",
       "      <td>2018-12-19</td>\n",
       "      <td>334.11</td>\n",
       "    </tr>\n",
       "    <tr>\n",
       "      <th>5156</th>\n",
       "      <td>1028_739</td>\n",
       "      <td>1028</td>\n",
       "      <td>2018-06-06</td>\n",
       "      <td>1218.24</td>\n",
       "    </tr>\n",
       "    <tr>\n",
       "      <th>88761</th>\n",
       "      <td>1408_480</td>\n",
       "      <td>1408</td>\n",
       "      <td>2018-11-21</td>\n",
       "      <td>178.63</td>\n",
       "    </tr>\n",
       "    <tr>\n",
       "      <th>99550</th>\n",
       "      <td>1469_43</td>\n",
       "      <td>1469</td>\n",
       "      <td>2018-12-07</td>\n",
       "      <td>112.18</td>\n",
       "    </tr>\n",
       "  </tbody>\n",
       "</table>\n",
       "</div>"
      ],
      "text/plain": [
       "             id  user_id session_date  mb_used\n",
       "5450    1030_49     1030   2018-12-27   217.21\n",
       "90051  1415_155     1415   2018-11-28   506.45\n",
       "67508  1313_182     1313   2018-11-13   843.33\n",
       "76590  1359_274     1359   2018-07-18   304.46\n",
       "88684  1408_403     1408   2018-09-20   841.03\n",
       "98539   1466_20     1466   2018-06-22   256.37\n",
       "46488  1206_370     1206   2018-12-19   334.11\n",
       "5156   1028_739     1028   2018-06-06  1218.24\n",
       "88761  1408_480     1408   2018-11-21   178.63\n",
       "99550   1469_43     1469   2018-12-07   112.18"
      ]
     },
     "execution_count": 19,
     "metadata": {},
     "output_type": "execute_result"
    }
   ],
   "source": [
    "# Imprime una muestra de datos para el tráfico de internet\n",
    "internet.sample(10)"
   ]
  },
  {
   "cell_type": "markdown",
   "metadata": {
    "id": "EzOG5ik30q1D"
   },
   "source": [
    "[Describe lo que ves y observas en la información general y en la muestra de datos impresa para el precio de datos anterior. ¿Hay algún problema (tipos de datos no adecuados, datos ausentes, etc.) que pudieran necesitar investigación y cambios adicionales? ¿Cómo se puede arreglar?]\n",
    "\n",
    "R= Igual que en DF anteriores, convertiremos 'user_id' a object type y 'session_date' a datetime para mejor manejo de los datos."
   ]
  },
  {
   "cell_type": "markdown",
   "metadata": {
    "id": "yA0tkPFg0q1D"
   },
   "source": [
    "### Corregir los datos"
   ]
  },
  {
   "cell_type": "code",
   "execution_count": 20,
   "metadata": {
    "id": "zVeanzdd0q1E",
    "trusted": true
   },
   "outputs": [
    {
     "name": "stdout",
     "output_type": "stream",
     "text": [
      "<class 'pandas.core.frame.DataFrame'>\n",
      "RangeIndex: 104825 entries, 0 to 104824\n",
      "Data columns (total 4 columns):\n",
      " #   Column        Non-Null Count   Dtype         \n",
      "---  ------        --------------   -----         \n",
      " 0   id            104825 non-null  object        \n",
      " 1   user_id       104825 non-null  object        \n",
      " 2   session_date  104825 non-null  datetime64[ns]\n",
      " 3   mb_used       104825 non-null  float64       \n",
      "dtypes: datetime64[ns](1), float64(1), object(2)\n",
      "memory usage: 3.2+ MB\n"
     ]
    }
   ],
   "source": [
    "internet['user_id']= internet['user_id'].astype(object)\n",
    "internet['session_date']=pd.to_datetime(internet['session_date'])\n",
    "internet.info()"
   ]
  },
  {
   "cell_type": "markdown",
   "metadata": {
    "id": "e8_mLF4a0q1E"
   },
   "source": [
    "### Enriquecer los datos"
   ]
  },
  {
   "cell_type": "markdown",
   "metadata": {
    "id": "xhNdn2tE0q1E"
   },
   "source": [
    "[Agrega factores adicionales a los datos si crees que pudieran ser útiles.]\n",
    "\n",
    "R=Meramente para visualización y graficación agregaría una columna extra en la cual transforme mb_used a gb (db_used)."
   ]
  },
  {
   "cell_type": "code",
   "execution_count": 21,
   "metadata": {
    "id": "ESiYPIEK0q1E",
    "scrolled": true,
    "trusted": true
   },
   "outputs": [
    {
     "data": {
      "text/html": [
       "<div>\n",
       "<style scoped>\n",
       "    .dataframe tbody tr th:only-of-type {\n",
       "        vertical-align: middle;\n",
       "    }\n",
       "\n",
       "    .dataframe tbody tr th {\n",
       "        vertical-align: top;\n",
       "    }\n",
       "\n",
       "    .dataframe thead th {\n",
       "        text-align: right;\n",
       "    }\n",
       "</style>\n",
       "<table border=\"1\" class=\"dataframe\">\n",
       "  <thead>\n",
       "    <tr style=\"text-align: right;\">\n",
       "      <th></th>\n",
       "      <th>id</th>\n",
       "      <th>user_id</th>\n",
       "      <th>session_date</th>\n",
       "      <th>mb_used</th>\n",
       "      <th>gb_used</th>\n",
       "    </tr>\n",
       "  </thead>\n",
       "  <tbody>\n",
       "    <tr>\n",
       "      <th>103218</th>\n",
       "      <td>1494_100</td>\n",
       "      <td>1494</td>\n",
       "      <td>2018-11-18</td>\n",
       "      <td>300.04</td>\n",
       "      <td>0.293008</td>\n",
       "    </tr>\n",
       "    <tr>\n",
       "      <th>77770</th>\n",
       "      <td>1362_457</td>\n",
       "      <td>1362</td>\n",
       "      <td>2018-09-13</td>\n",
       "      <td>0.00</td>\n",
       "      <td>0.000000</td>\n",
       "    </tr>\n",
       "    <tr>\n",
       "      <th>61545</th>\n",
       "      <td>1280_40</td>\n",
       "      <td>1280</td>\n",
       "      <td>2018-09-27</td>\n",
       "      <td>0.00</td>\n",
       "      <td>0.000000</td>\n",
       "    </tr>\n",
       "    <tr>\n",
       "      <th>71675</th>\n",
       "      <td>1334_243</td>\n",
       "      <td>1334</td>\n",
       "      <td>2018-12-13</td>\n",
       "      <td>188.79</td>\n",
       "      <td>0.184365</td>\n",
       "    </tr>\n",
       "    <tr>\n",
       "      <th>52781</th>\n",
       "      <td>1238_15</td>\n",
       "      <td>1238</td>\n",
       "      <td>2018-11-15</td>\n",
       "      <td>450.59</td>\n",
       "      <td>0.440029</td>\n",
       "    </tr>\n",
       "    <tr>\n",
       "      <th>48161</th>\n",
       "      <td>1214_535</td>\n",
       "      <td>1214</td>\n",
       "      <td>2018-05-07</td>\n",
       "      <td>393.38</td>\n",
       "      <td>0.384160</td>\n",
       "    </tr>\n",
       "    <tr>\n",
       "      <th>9057</th>\n",
       "      <td>1046_342</td>\n",
       "      <td>1046</td>\n",
       "      <td>2018-10-23</td>\n",
       "      <td>0.00</td>\n",
       "      <td>0.000000</td>\n",
       "    </tr>\n",
       "    <tr>\n",
       "      <th>39675</th>\n",
       "      <td>1179_6</td>\n",
       "      <td>1179</td>\n",
       "      <td>2018-12-18</td>\n",
       "      <td>423.06</td>\n",
       "      <td>0.413145</td>\n",
       "    </tr>\n",
       "    <tr>\n",
       "      <th>38448</th>\n",
       "      <td>1172_103</td>\n",
       "      <td>1172</td>\n",
       "      <td>2018-09-18</td>\n",
       "      <td>940.50</td>\n",
       "      <td>0.918457</td>\n",
       "    </tr>\n",
       "    <tr>\n",
       "      <th>34671</th>\n",
       "      <td>1156_268</td>\n",
       "      <td>1156</td>\n",
       "      <td>2018-09-17</td>\n",
       "      <td>725.62</td>\n",
       "      <td>0.708613</td>\n",
       "    </tr>\n",
       "  </tbody>\n",
       "</table>\n",
       "</div>"
      ],
      "text/plain": [
       "              id user_id session_date  mb_used   gb_used\n",
       "103218  1494_100    1494   2018-11-18   300.04  0.293008\n",
       "77770   1362_457    1362   2018-09-13     0.00  0.000000\n",
       "61545    1280_40    1280   2018-09-27     0.00  0.000000\n",
       "71675   1334_243    1334   2018-12-13   188.79  0.184365\n",
       "52781    1238_15    1238   2018-11-15   450.59  0.440029\n",
       "48161   1214_535    1214   2018-05-07   393.38  0.384160\n",
       "9057    1046_342    1046   2018-10-23     0.00  0.000000\n",
       "39675     1179_6    1179   2018-12-18   423.06  0.413145\n",
       "38448   1172_103    1172   2018-09-18   940.50  0.918457\n",
       "34671   1156_268    1156   2018-09-17   725.62  0.708613"
      ]
     },
     "execution_count": 21,
     "metadata": {},
     "output_type": "execute_result"
    }
   ],
   "source": [
    "internet['gb_used']=internet['mb_used']/1024\n",
    "internet.sample(10)"
   ]
  },
  {
   "cell_type": "markdown",
   "metadata": {
    "id": "3UA2cqIW0q1E"
   },
   "source": [
    "## Estudiar las condiciones de las tarifas"
   ]
  },
  {
   "cell_type": "markdown",
   "metadata": {
    "id": "T86Sqltq0q1F"
   },
   "source": [
    "[Es sumamente importante entender cómo funcionan las tarifas, cómo se les cobra a los usuarios en función de su plan de suscripción. Así que te sugerimos imprimir la información de la tarifa para ver una vez más sus condiciones.]"
   ]
  },
  {
   "cell_type": "code",
   "execution_count": 22,
   "metadata": {
    "id": "i409op8p0q1F",
    "trusted": true
   },
   "outputs": [
    {
     "data": {
      "text/html": [
       "<div>\n",
       "<style scoped>\n",
       "    .dataframe tbody tr th:only-of-type {\n",
       "        vertical-align: middle;\n",
       "    }\n",
       "\n",
       "    .dataframe tbody tr th {\n",
       "        vertical-align: top;\n",
       "    }\n",
       "\n",
       "    .dataframe thead th {\n",
       "        text-align: right;\n",
       "    }\n",
       "</style>\n",
       "<table border=\"1\" class=\"dataframe\">\n",
       "  <thead>\n",
       "    <tr style=\"text-align: right;\">\n",
       "      <th></th>\n",
       "      <th>plan_name</th>\n",
       "      <th>usd_monthly_pay</th>\n",
       "      <th>messages_included</th>\n",
       "      <th>minutes_included</th>\n",
       "      <th>mb_per_month_included</th>\n",
       "      <th>gb_included</th>\n",
       "      <th>usd_per_message</th>\n",
       "      <th>usd_per_minute</th>\n",
       "      <th>usd_per_gb</th>\n",
       "    </tr>\n",
       "  </thead>\n",
       "  <tbody>\n",
       "    <tr>\n",
       "      <th>0</th>\n",
       "      <td>surf</td>\n",
       "      <td>20</td>\n",
       "      <td>50</td>\n",
       "      <td>500</td>\n",
       "      <td>15360</td>\n",
       "      <td>15.0</td>\n",
       "      <td>0.03</td>\n",
       "      <td>0.03</td>\n",
       "      <td>10</td>\n",
       "    </tr>\n",
       "    <tr>\n",
       "      <th>1</th>\n",
       "      <td>ultimate</td>\n",
       "      <td>70</td>\n",
       "      <td>1000</td>\n",
       "      <td>3000</td>\n",
       "      <td>30720</td>\n",
       "      <td>30.0</td>\n",
       "      <td>0.01</td>\n",
       "      <td>0.01</td>\n",
       "      <td>7</td>\n",
       "    </tr>\n",
       "  </tbody>\n",
       "</table>\n",
       "</div>"
      ],
      "text/plain": [
       "  plan_name  usd_monthly_pay  messages_included  minutes_included  \\\n",
       "0      surf               20                 50               500   \n",
       "1  ultimate               70               1000              3000   \n",
       "\n",
       "   mb_per_month_included  gb_included  usd_per_message  usd_per_minute  \\\n",
       "0                  15360         15.0             0.03            0.03   \n",
       "1                  30720         30.0             0.01            0.01   \n",
       "\n",
       "   usd_per_gb  \n",
       "0          10  \n",
       "1           7  "
      ]
     },
     "execution_count": 22,
     "metadata": {},
     "output_type": "execute_result"
    }
   ],
   "source": [
    "# Imprime las condiciones de la tarifa y asegúrate de que te quedan claras\n",
    "\n",
    "plans.head()"
   ]
  },
  {
   "cell_type": "markdown",
   "metadata": {
    "id": "hMR1tP5d0q1F"
   },
   "source": [
    "## Agregar datos por usuario\n",
    "\n"
   ]
  },
  {
   "cell_type": "code",
   "execution_count": 23,
   "metadata": {
    "id": "A332cedB0q1G",
    "trusted": true
   },
   "outputs": [
    {
     "name": "stdout",
     "output_type": "stream",
     "text": [
      "   user_id period_time  total_calls\n",
      "0     1000     2018-12           16\n",
      "1     1001     2018-08           27\n",
      "2     1001     2018-09           49\n",
      "3     1001     2018-10           65\n",
      "4     1001     2018-11           64\n",
      "5     1001     2018-12           56\n",
      "6     1002     2018-10           11\n",
      "7     1002     2018-11           55\n",
      "8     1002     2018-12           47\n",
      "9     1003     2018-12          149\n"
     ]
    }
   ],
   "source": [
    "# Calcula el número de llamadas hechas por cada usuario al mes. Guarda el resultado.\n",
    "\n",
    "calls[\"period_time\"]= calls[\"call_date\"].dt.to_period(\"M\") #Creamos una nueva columna para conocer el periodo de tiempo en meses\n",
    "\n",
    "calls_per_user= calls.groupby ([\"user_id\",\"period_time\"]).agg(total_calls=(\"id\",\"count\")).reset_index() #Agrupamos el user-id, periodo de tiempo y agregamos una nueva columna con el total de llamadas hechas en ese periodo de tiempo y user_id\n",
    "\n",
    "print(calls_per_user.head(10))\n"
   ]
  },
  {
   "cell_type": "code",
   "execution_count": 37,
   "metadata": {
    "id": "aw2cmuql0q1G",
    "trusted": true
   },
   "outputs": [
    {
     "name": "stdout",
     "output_type": "stream",
     "text": [
      "Minutos redondeados:\n",
      "         id user_id  call_date  minutes_duration period_time\n",
      "0   1000_93    1000 2018-12-27               9.0     2018-12\n",
      "1  1000_145    1000 2018-12-27              14.0     2018-12\n",
      "2  1000_247    1000 2018-12-27              15.0     2018-12\n",
      "3  1000_309    1000 2018-12-28               6.0     2018-12\n",
      "4  1000_380    1000 2018-12-30               5.0     2018-12\n",
      "5  1000_388    1000 2018-12-31               3.0     2018-12\n",
      "6  1000_510    1000 2018-12-27               6.0     2018-12\n",
      "7  1000_521    1000 2018-12-28              15.0     2018-12\n",
      "8  1000_530    1000 2018-12-28               6.0     2018-12\n",
      "9  1000_544    1000 2018-12-26               5.0     2018-12\n",
      "\n",
      "   user_id period_time  total_minutes\n",
      "0     1000     2018-12          124.0\n",
      "1     1001     2018-08          182.0\n",
      "2     1001     2018-09          315.0\n",
      "3     1001     2018-10          393.0\n",
      "4     1001     2018-11          426.0\n",
      "5     1001     2018-12          412.0\n",
      "6     1002     2018-10           59.0\n",
      "7     1002     2018-11          386.0\n",
      "8     1002     2018-12          384.0\n",
      "9     1003     2018-12         1104.0\n"
     ]
    }
   ],
   "source": [
    "# Calcula la cantidad de minutos usados por cada usuario al mes. Guarda el resultado.\n",
    "\n",
    "import numpy as np\n",
    "\n",
    "#Redondeamos los minutos de las llamadas individuales hacia arriba \n",
    "calls[\"minutes_duration\"]= np.ceil(calls[\"minutes_duration\"])\n",
    "print(\"Minutos redondeados:\")\n",
    "print(calls.head(10))\n",
    "\n",
    "#Agrupamos el user-id, periodo de tiempo y agregamos una nueva columna con el total minutos en la llamada (duración) en ese periodo de tiempo (mes)\n",
    "minutes_per_user = calls.groupby([\"user_id\", \"period_time\"]).agg(total_minutes=(\"minutes_duration\", \"sum\")).reset_index() \n",
    "print()\n",
    "print(minutes_per_user.head(10))\n"
   ]
  },
  {
   "cell_type": "code",
   "execution_count": 38,
   "metadata": {
    "id": "CcQvNHn60q1G",
    "trusted": true
   },
   "outputs": [
    {
     "name": "stdout",
     "output_type": "stream",
     "text": [
      "   user_id period_time  total_messages\n",
      "0     1000     2018-12              11\n",
      "1     1001     2018-08              30\n",
      "2     1001     2018-09              44\n",
      "3     1001     2018-10              53\n",
      "4     1001     2018-11              36\n",
      "5     1001     2018-12              44\n",
      "6     1002     2018-10              15\n",
      "7     1002     2018-11              32\n",
      "8     1002     2018-12              41\n",
      "9     1003     2018-12              50\n"
     ]
    }
   ],
   "source": [
    "# Calcula el número de mensajes enviados por cada usuario al mes. Guarda el resultado.\n",
    "\n",
    "messages[\"period_time\"]= messages[\"message_date\"].dt.to_period(\"M\") #Creamos una nueva columna para conocer el periodo de tiempo en meses\n",
    "\n",
    "messages_per_user= messages.groupby ([\"user_id\",\"period_time\"]).agg(total_messages=(\"id\",\"count\")).reset_index() #Agrupamos el user-id, periodo de tiempo y agregamos una nueva columna con el total de mensajes enviados en ese periodo de tiempo\n",
    "\n",
    "print(messages_per_user.head(10))"
   ]
  },
  {
   "cell_type": "code",
   "execution_count": 40,
   "metadata": {
    "id": "H1AqN2eG0q1H",
    "trusted": true
   },
   "outputs": [
    {
     "name": "stdout",
     "output_type": "stream",
     "text": [
      "   user_id period_time  total_mb_used  total_gb_used\n",
      "0     1000     2018-12        1901.47       1.856904\n",
      "1     1001     2018-08        6919.15       6.756982\n",
      "2     1001     2018-09       13314.82      13.002754\n",
      "3     1001     2018-10       22330.49      21.807119\n",
      "4     1001     2018-11       18504.30      18.070605\n",
      "5     1001     2018-12       19369.18      18.915215\n",
      "6     1002     2018-10        6552.01       6.398447\n",
      "7     1002     2018-11       19345.08      18.891680\n",
      "8     1002     2018-12       14396.24      14.058828\n",
      "9     1003     2018-12       27044.14      26.410293\n",
      "\n",
      "   user_id period_time  total_mb_used  total_gb_used\n",
      "0     1000     2018-12        1901.47            2.0\n",
      "1     1001     2018-08        6919.15            7.0\n",
      "2     1001     2018-09       13314.82           14.0\n",
      "3     1001     2018-10       22330.49           22.0\n",
      "4     1001     2018-11       18504.30           19.0\n",
      "5     1001     2018-12       19369.18           19.0\n",
      "6     1002     2018-10        6552.01            7.0\n",
      "7     1002     2018-11       19345.08           19.0\n",
      "8     1002     2018-12       14396.24           15.0\n",
      "9     1003     2018-12       27044.14           27.0\n"
     ]
    }
   ],
   "source": [
    "# Calcula el volumen del tráfico de Internet usado por cada usuario al mes. Guarda el resultado.\n",
    "\n",
    "internet[\"period_time\"]=internet[\"session_date\"].dt.to_period(\"M\")\n",
    "internet_per_user= internet.groupby([\"user_id\",\"period_time\"]).agg(total_mb_used=(\"mb_used\",\"sum\")).reset_index() #Agregamos cuantos mb uso cada usuario al mes\n",
    "\n",
    "#Agregamos esta columna en GB y redondeamos los GB\n",
    "internet_per_user[\"total_gb_used\"]=internet_per_user[\"total_mb_used\"] / 1024 #Tambien agregamos esta columna para su mejor entendimiento en GB \n",
    "print(internet_per_user.head(10))\n",
    "internet_per_user[\"total_gb_used\"]=np.ceil(internet_per_user[\"total_gb_used\"])\n",
    "print()\n",
    "print(internet_per_user.head(10))\n"
   ]
  },
  {
   "cell_type": "code",
   "execution_count": 41,
   "metadata": {
    "id": "FW99ykyf0q1H",
    "trusted": true
   },
   "outputs": [
    {
     "name": "stdout",
     "output_type": "stream",
     "text": [
      "   user_id period_time  total_calls  total_minutes  total_messages  \\\n",
      "0     1000     2018-12         16.0          124.0            11.0   \n",
      "1     1001     2018-08         27.0          182.0            30.0   \n",
      "2     1001     2018-09         49.0          315.0            44.0   \n",
      "3     1001     2018-10         65.0          393.0            53.0   \n",
      "4     1001     2018-11         64.0          426.0            36.0   \n",
      "5     1001     2018-12         56.0          412.0            44.0   \n",
      "6     1002     2018-10         11.0           59.0            15.0   \n",
      "7     1002     2018-11         55.0          386.0            32.0   \n",
      "8     1002     2018-12         47.0          384.0            41.0   \n",
      "9     1003     2018-12        149.0         1104.0            50.0   \n",
      "\n",
      "   total_mb_used  total_gb_used  \n",
      "0        1901.47            2.0  \n",
      "1        6919.15            7.0  \n",
      "2       13314.82           14.0  \n",
      "3       22330.49           22.0  \n",
      "4       18504.30           19.0  \n",
      "5       19369.18           19.0  \n",
      "6        6552.01            7.0  \n",
      "7       19345.08           19.0  \n",
      "8       14396.24           15.0  \n",
      "9       27044.14           27.0  \n"
     ]
    }
   ],
   "source": [
    "# Fusiona los datos de llamadas, minutos, mensajes e Internet con base en user_id y month\n",
    "\n",
    "merge_df= calls_per_user.merge(minutes_per_user, on= [\"user_id\",\"period_time\"],how= \"outer\") #Mezclamos calls_per_user con minutes_per_user basandonos en user_id y period_time\n",
    "merge_df= merge_df.merge(messages_per_user, on =[\"user_id\",\"period_time\"],how= \"outer\") #Agregamos el DF messages_per_user\n",
    "merge_df= merge_df.merge(internet_per_user, on =[\"user_id\",\"period_time\"],how= \"outer\") #Agregamos el DF internet_per_user\n",
    "merge_df.fillna(0,inplace=True) #Tenemos valores ausentes por lo tanto les aplicaremos un 0 para evitar problemas con operaciones futuras\n",
    "print(merge_df.head(10))\n"
   ]
  },
  {
   "cell_type": "code",
   "execution_count": 42,
   "metadata": {
    "id": "0dNOXHag0q1H",
    "trusted": true
   },
   "outputs": [
    {
     "name": "stdout",
     "output_type": "stream",
     "text": [
      "  user_id period_time  total_calls  total_minutes  total_messages  \\\n",
      "0    1000     2018-12         16.0          124.0            11.0   \n",
      "1    1001     2018-08         27.0          182.0            30.0   \n",
      "2    1001     2018-09         49.0          315.0            44.0   \n",
      "3    1001     2018-10         65.0          393.0            53.0   \n",
      "4    1001     2018-11         64.0          426.0            36.0   \n",
      "5    1001     2018-12         56.0          412.0            44.0   \n",
      "6    1002     2018-10         11.0           59.0            15.0   \n",
      "7    1002     2018-11         55.0          386.0            32.0   \n",
      "8    1002     2018-12         47.0          384.0            41.0   \n",
      "9    1003     2018-12        149.0         1104.0            50.0   \n",
      "\n",
      "   total_mb_used  total_gb_used      plan  usd_monthly_pay  messages_included  \\\n",
      "0        1901.47            2.0  ultimate               70               1000   \n",
      "1        6919.15            7.0      surf               20                 50   \n",
      "2       13314.82           14.0      surf               20                 50   \n",
      "3       22330.49           22.0      surf               20                 50   \n",
      "4       18504.30           19.0      surf               20                 50   \n",
      "5       19369.18           19.0      surf               20                 50   \n",
      "6        6552.01            7.0      surf               20                 50   \n",
      "7       19345.08           19.0      surf               20                 50   \n",
      "8       14396.24           15.0      surf               20                 50   \n",
      "9       27044.14           27.0      surf               20                 50   \n",
      "\n",
      "   minutes_included  mb_per_month_included  gb_included  usd_per_message  \\\n",
      "0              3000                  30720         30.0             0.01   \n",
      "1               500                  15360         15.0             0.03   \n",
      "2               500                  15360         15.0             0.03   \n",
      "3               500                  15360         15.0             0.03   \n",
      "4               500                  15360         15.0             0.03   \n",
      "5               500                  15360         15.0             0.03   \n",
      "6               500                  15360         15.0             0.03   \n",
      "7               500                  15360         15.0             0.03   \n",
      "8               500                  15360         15.0             0.03   \n",
      "9               500                  15360         15.0             0.03   \n",
      "\n",
      "   usd_per_minute  usd_per_gb  \n",
      "0            0.01           7  \n",
      "1            0.03          10  \n",
      "2            0.03          10  \n",
      "3            0.03          10  \n",
      "4            0.03          10  \n",
      "5            0.03          10  \n",
      "6            0.03          10  \n",
      "7            0.03          10  \n",
      "8            0.03          10  \n",
      "9            0.03          10  \n"
     ]
    }
   ],
   "source": [
    "# Añade la información de la tarifa\n",
    "\n",
    "df=merge_df.merge(users[[\"user_id\",\"plan\"]],on=\"user_id\", how=\"left\" ) #Unimos nuestro df anterior con la columna \"plan\" del df \"users\"\n",
    "df = df.merge(plans, left_on=\"plan\", right_on=\"plan_name\", how=\"left\") #Unimos el nuevo df con el df de \"plans\"\n",
    "df.drop(columns=[\"plan_name\"],inplace= True) #Eliminamos la columna \"plan_name\" para no tenerla repetida con la columna de \"plans\" \n",
    "print(df.head(10))\n"
   ]
  },
  {
   "cell_type": "code",
   "execution_count": 46,
   "metadata": {
    "id": "5FGCf_c60q1I",
    "trusted": true
   },
   "outputs": [
    {
     "data": {
      "text/html": [
       "<div>\n",
       "<style scoped>\n",
       "    .dataframe tbody tr th:only-of-type {\n",
       "        vertical-align: middle;\n",
       "    }\n",
       "\n",
       "    .dataframe tbody tr th {\n",
       "        vertical-align: top;\n",
       "    }\n",
       "\n",
       "    .dataframe thead th {\n",
       "        text-align: right;\n",
       "    }\n",
       "</style>\n",
       "<table border=\"1\" class=\"dataframe\">\n",
       "  <thead>\n",
       "    <tr style=\"text-align: right;\">\n",
       "      <th></th>\n",
       "      <th>user_id</th>\n",
       "      <th>period_time</th>\n",
       "      <th>total_calls</th>\n",
       "      <th>total_minutes</th>\n",
       "      <th>total_messages</th>\n",
       "      <th>total_mb_used</th>\n",
       "      <th>total_gb_used</th>\n",
       "      <th>plan</th>\n",
       "      <th>usd_monthly_pay</th>\n",
       "      <th>messages_included</th>\n",
       "      <th>minutes_included</th>\n",
       "      <th>mb_per_month_included</th>\n",
       "      <th>gb_included</th>\n",
       "      <th>usd_per_message</th>\n",
       "      <th>usd_per_minute</th>\n",
       "      <th>usd_per_gb</th>\n",
       "      <th>extra_minutes</th>\n",
       "      <th>extra_messages</th>\n",
       "      <th>extra_gb</th>\n",
       "      <th>debt</th>\n",
       "    </tr>\n",
       "  </thead>\n",
       "  <tbody>\n",
       "    <tr>\n",
       "      <th>0</th>\n",
       "      <td>1000</td>\n",
       "      <td>2018-12</td>\n",
       "      <td>16.0</td>\n",
       "      <td>124.0</td>\n",
       "      <td>11.0</td>\n",
       "      <td>1901.47</td>\n",
       "      <td>2.0</td>\n",
       "      <td>ultimate</td>\n",
       "      <td>70</td>\n",
       "      <td>1000</td>\n",
       "      <td>3000</td>\n",
       "      <td>30720</td>\n",
       "      <td>30.0</td>\n",
       "      <td>0.01</td>\n",
       "      <td>0.01</td>\n",
       "      <td>7</td>\n",
       "      <td>0.0</td>\n",
       "      <td>0.0</td>\n",
       "      <td>0.0</td>\n",
       "      <td>70.00</td>\n",
       "    </tr>\n",
       "    <tr>\n",
       "      <th>1</th>\n",
       "      <td>1001</td>\n",
       "      <td>2018-08</td>\n",
       "      <td>27.0</td>\n",
       "      <td>182.0</td>\n",
       "      <td>30.0</td>\n",
       "      <td>6919.15</td>\n",
       "      <td>7.0</td>\n",
       "      <td>surf</td>\n",
       "      <td>20</td>\n",
       "      <td>50</td>\n",
       "      <td>500</td>\n",
       "      <td>15360</td>\n",
       "      <td>15.0</td>\n",
       "      <td>0.03</td>\n",
       "      <td>0.03</td>\n",
       "      <td>10</td>\n",
       "      <td>0.0</td>\n",
       "      <td>0.0</td>\n",
       "      <td>0.0</td>\n",
       "      <td>20.00</td>\n",
       "    </tr>\n",
       "    <tr>\n",
       "      <th>2</th>\n",
       "      <td>1001</td>\n",
       "      <td>2018-09</td>\n",
       "      <td>49.0</td>\n",
       "      <td>315.0</td>\n",
       "      <td>44.0</td>\n",
       "      <td>13314.82</td>\n",
       "      <td>14.0</td>\n",
       "      <td>surf</td>\n",
       "      <td>20</td>\n",
       "      <td>50</td>\n",
       "      <td>500</td>\n",
       "      <td>15360</td>\n",
       "      <td>15.0</td>\n",
       "      <td>0.03</td>\n",
       "      <td>0.03</td>\n",
       "      <td>10</td>\n",
       "      <td>0.0</td>\n",
       "      <td>0.0</td>\n",
       "      <td>0.0</td>\n",
       "      <td>20.00</td>\n",
       "    </tr>\n",
       "    <tr>\n",
       "      <th>3</th>\n",
       "      <td>1001</td>\n",
       "      <td>2018-10</td>\n",
       "      <td>65.0</td>\n",
       "      <td>393.0</td>\n",
       "      <td>53.0</td>\n",
       "      <td>22330.49</td>\n",
       "      <td>22.0</td>\n",
       "      <td>surf</td>\n",
       "      <td>20</td>\n",
       "      <td>50</td>\n",
       "      <td>500</td>\n",
       "      <td>15360</td>\n",
       "      <td>15.0</td>\n",
       "      <td>0.03</td>\n",
       "      <td>0.03</td>\n",
       "      <td>10</td>\n",
       "      <td>0.0</td>\n",
       "      <td>3.0</td>\n",
       "      <td>7.0</td>\n",
       "      <td>90.09</td>\n",
       "    </tr>\n",
       "    <tr>\n",
       "      <th>4</th>\n",
       "      <td>1001</td>\n",
       "      <td>2018-11</td>\n",
       "      <td>64.0</td>\n",
       "      <td>426.0</td>\n",
       "      <td>36.0</td>\n",
       "      <td>18504.30</td>\n",
       "      <td>19.0</td>\n",
       "      <td>surf</td>\n",
       "      <td>20</td>\n",
       "      <td>50</td>\n",
       "      <td>500</td>\n",
       "      <td>15360</td>\n",
       "      <td>15.0</td>\n",
       "      <td>0.03</td>\n",
       "      <td>0.03</td>\n",
       "      <td>10</td>\n",
       "      <td>0.0</td>\n",
       "      <td>0.0</td>\n",
       "      <td>4.0</td>\n",
       "      <td>60.00</td>\n",
       "    </tr>\n",
       "  </tbody>\n",
       "</table>\n",
       "</div>"
      ],
      "text/plain": [
       "  user_id period_time  total_calls  total_minutes  total_messages  \\\n",
       "0    1000     2018-12         16.0          124.0            11.0   \n",
       "1    1001     2018-08         27.0          182.0            30.0   \n",
       "2    1001     2018-09         49.0          315.0            44.0   \n",
       "3    1001     2018-10         65.0          393.0            53.0   \n",
       "4    1001     2018-11         64.0          426.0            36.0   \n",
       "\n",
       "   total_mb_used  total_gb_used      plan  usd_monthly_pay  messages_included  \\\n",
       "0        1901.47            2.0  ultimate               70               1000   \n",
       "1        6919.15            7.0      surf               20                 50   \n",
       "2       13314.82           14.0      surf               20                 50   \n",
       "3       22330.49           22.0      surf               20                 50   \n",
       "4       18504.30           19.0      surf               20                 50   \n",
       "\n",
       "   minutes_included  mb_per_month_included  gb_included  usd_per_message  \\\n",
       "0              3000                  30720         30.0             0.01   \n",
       "1               500                  15360         15.0             0.03   \n",
       "2               500                  15360         15.0             0.03   \n",
       "3               500                  15360         15.0             0.03   \n",
       "4               500                  15360         15.0             0.03   \n",
       "\n",
       "   usd_per_minute  usd_per_gb  extra_minutes  extra_messages  extra_gb   debt  \n",
       "0            0.01           7            0.0             0.0       0.0  70.00  \n",
       "1            0.03          10            0.0             0.0       0.0  20.00  \n",
       "2            0.03          10            0.0             0.0       0.0  20.00  \n",
       "3            0.03          10            0.0             3.0       7.0  90.09  \n",
       "4            0.03          10            0.0             0.0       4.0  60.00  "
      ]
     },
     "execution_count": 46,
     "metadata": {},
     "output_type": "execute_result"
    }
   ],
   "source": [
    "\n",
    "# Calcula el ingreso mensual para cada usuario\n",
    "\n",
    "df[\"extra_minutes\"]= (df[\"total_minutes\"] - df[\"minutes_included\"]).clip(lower=0)\n",
    "df[\"extra_messages\"]= (df[\"total_messages\"] - df[\"messages_included\"]).clip(lower=0)\n",
    "df[\"extra_gb\"]= (df[\"total_gb_used\"] - df[\"gb_included\"]).clip(lower=0)\n",
    "\n",
    "df[\"debt\"] = (df[\"usd_monthly_pay\"] + (df[\"extra_minutes\"] * df[\"usd_per_minute\"]) + (df[\"extra_messages\"] * df[\"usd_per_message\"]) +  \n",
    "    (df[\"extra_gb\"] * df[\"usd_per_gb\"]) )\n",
    "df.head()\n"
   ]
  },
  {
   "cell_type": "markdown",
   "metadata": {
    "id": "-jtyHzJb0q1I"
   },
   "source": [
    "## Estudia el comportamiento de usuario"
   ]
  },
  {
   "cell_type": "markdown",
   "metadata": {
    "id": "vtW4CJEe0q1J"
   },
   "source": [
    "### Llamadas"
   ]
  },
  {
   "cell_type": "code",
   "execution_count": 47,
   "metadata": {
    "id": "Jf5v5--k0q1J",
    "trusted": true
   },
   "outputs": [
    {
     "name": "stdout",
     "output_type": "stream",
     "text": [
      "        plan period_time  total_minutes\n",
      "0       surf     2018-01     203.000000\n",
      "1       surf     2018-02     297.000000\n",
      "2       surf     2018-03     330.000000\n",
      "3       surf     2018-04     351.540000\n",
      "4       surf     2018-05     399.584416\n",
      "5       surf     2018-06     431.298969\n",
      "6       surf     2018-07     449.983471\n",
      "7       surf     2018-08     410.111111\n",
      "8       surf     2018-09     414.226804\n",
      "9       surf     2018-10     429.729958\n",
      "10      surf     2018-11     423.325088\n",
      "11      surf     2018-12     473.836478\n",
      "12  ultimate     2018-01     193.500000\n",
      "13  ultimate     2018-02     403.142857\n",
      "14  ultimate     2018-03     304.250000\n",
      "15  ultimate     2018-04     336.857143\n",
      "16  ultimate     2018-05     406.241379\n",
      "17  ultimate     2018-06     370.957447\n",
      "18  ultimate     2018-07     427.067797\n",
      "19  ultimate     2018-08     421.436620\n",
      "20  ultimate     2018-09     437.511628\n",
      "21  ultimate     2018-10     450.735849\n",
      "22  ultimate     2018-11     445.196850\n",
      "23  ultimate     2018-12     459.099338\n"
     ]
    },
    {
     "data": {
      "image/png": "[encoded data removed]",
      "text/plain": [
       "<Figure size 1200x600 with 1 Axes>"
      ]
     },
     "metadata": {},
     "output_type": "display_data"
    }
   ],
   "source": [
    "# Compara la duración promedio de llamadas por cada plan y por cada mes. Traza un gráfico de barras para visualizarla.\n",
    "from matplotlib import pyplot as plt\n",
    "\n",
    "#Calculamos el promedio de lllamadas por plan y mes\n",
    "avg_call_duration= df.groupby([\"plan\",\"period_time\"])[\"total_minutes\"].mean().reset_index()\n",
    "print(avg_call_duration)\n",
    "\n",
    "# Graficamos...\n",
    "plt.figure(figsize=(12, 6))\n",
    "avg_call_duration_pivot = avg_call_duration.pivot(index=\"period_time\", columns=\"plan\", values=\"total_minutes\")\n",
    "avg_call_duration_pivot.plot(kind=\"bar\", ax=plt.gca())\n",
    "\n",
    "plt.title(\"Duración Promedio de Llamadas por Plan y Mes\")                   \n",
    "plt.xlabel(\"Mes\")\n",
    "plt.ylabel(\"Duración promedio (minutos)\")\n",
    "plt.xticks(rotation=45)\n",
    "plt.show()"
   ]
  },
  {
   "cell_type": "code",
   "execution_count": 48,
   "metadata": {
    "id": "QoLqW1S_0q1J",
    "trusted": true
   },
   "outputs": [
    {
     "name": "stdout",
     "output_type": "stream",
     "text": [
      "0     124.0\n",
      "19     10.0\n",
      "20     59.0\n",
      "26    476.0\n",
      "27    446.0\n",
      "Name: total_minutes, dtype: float64\n"
     ]
    },
    {
     "data": {
      "image/png": "[encoded data removed]",
      "text/plain": [
       "<Figure size 640x480 with 1 Axes>"
      ]
     },
     "metadata": {},
     "output_type": "display_data"
    }
   ],
   "source": [
    "# Compara el número de minutos mensuales que necesitan los usuarios de cada plan. Traza un histograma.\n",
    "\n",
    "surf_minutes= df[df[\"plan\"]==\"surf\"][\"total_minutes\"]\n",
    "ultimate_minutes= df[df[\"plan\"]==\"ultimate\"][\"total_minutes\"]\n",
    "\n",
    "print(ultimate_minutes.head())\n",
    "\n",
    "#Creamos el histograma \n",
    "surf_minutes.plot(kind=\"hist\", bins= 20)\n",
    "ultimate_minutes.plot(kind=\"hist\", bins= 20)\n",
    "\n",
    "plt.xlabel(\"Minutos usados por mes\")\n",
    "plt.ylabel(\"Número de usuarios\")\n",
    "plt.title(\"Distribución de Minutos Usados por Mes según el Plan\")\n",
    "plt.legend([\"surf\",\"ultimate\"])\n",
    "plt.show()"
   ]
  },
  {
   "cell_type": "markdown",
   "metadata": {
    "id": "bLS9T8OH0q1K"
   },
   "source": [
    "."
   ]
  },
  {
   "cell_type": "code",
   "execution_count": 49,
   "metadata": {
    "id": "oSndbAnt0q1K",
    "trusted": true
   },
   "outputs": [
    {
     "name": "stdout",
     "output_type": "stream",
     "text": [
      "        plan period_time        mean           var\n",
      "1       surf     2018-01  203.000000  15842.000000\n",
      "2       surf     2018-02  297.000000  52226.500000\n",
      "3       surf     2018-03  330.000000  35809.363636\n",
      "4       surf     2018-04  351.540000  50866.743265\n",
      "5       surf     2018-05  399.584416  59754.219754\n",
      "6       surf     2018-06  431.298969  45592.628436\n",
      "7       surf     2018-07  449.983471  61005.099725\n",
      "8       surf     2018-08  410.111111  54344.645963\n",
      "9       surf     2018-09  414.226804  46595.958656\n",
      "10      surf     2018-10  429.729958  52278.664056\n",
      "11      surf     2018-11  423.325088  51607.021602\n",
      "12      surf     2018-12  473.836478  63629.518918\n",
      "13  ultimate     2018-01  193.500000  16572.333333\n",
      "14  ultimate     2018-02  403.142857  76889.476190\n",
      "15  ultimate     2018-03  304.250000  61984.931818\n",
      "16  ultimate     2018-04  336.857143  34888.928571\n",
      "17  ultimate     2018-05  406.241379  43841.046798\n",
      "18  ultimate     2018-06  370.957447  42503.563367\n",
      "19  ultimate     2018-07  427.067797  72563.374635\n",
      "20  ultimate     2018-08  421.436620  53645.506640\n",
      "21  ultimate     2018-09  437.511628  57070.464569\n",
      "22  ultimate     2018-10  450.735849  54261.910512\n",
      "23  ultimate     2018-11  445.196850  60593.222847\n",
      "24  ultimate     2018-12  459.099338  62503.783400\n"
     ]
    }
   ],
   "source": [
    "# Calcula la media y la varianza de la duración mensual de llamadas.\n",
    "\n",
    "monthly_calls_stats= df.groupby([\"plan\",\"period_time\"])[\"total_minutes\"].agg([\"mean\",\"var\"]).reset_index()\n",
    "monthly_calls_stats.index +=1\n",
    "print(monthly_calls_stats)"
   ]
  },
  {
   "cell_type": "code",
   "execution_count": 50,
   "metadata": {
    "id": "nZzoRUKc0q1K",
    "trusted": true
   },
   "outputs": [
    {
     "name": "stdout",
     "output_type": "stream",
     "text": [
      "        plan period_time  total_minutes\n",
      "0       surf     2018-01          406.0\n",
      "1       surf     2018-02         2673.0\n",
      "2       surf     2018-03         7590.0\n",
      "3       surf     2018-04        17577.0\n",
      "4       surf     2018-05        30768.0\n",
      "5       surf     2018-06        41836.0\n",
      "6       surf     2018-07        54448.0\n",
      "7       surf     2018-08        66438.0\n",
      "8       surf     2018-09        80360.0\n",
      "9       surf     2018-10       101846.0\n",
      "10      surf     2018-11       119801.0\n",
      "11      surf     2018-12       150680.0\n",
      "12  ultimate     2018-01          774.0\n",
      "13  ultimate     2018-02         2822.0\n",
      "14  ultimate     2018-03         3651.0\n",
      "15  ultimate     2018-04         7074.0\n",
      "16  ultimate     2018-05        11781.0\n",
      "17  ultimate     2018-06        17435.0\n",
      "18  ultimate     2018-07        25197.0\n",
      "19  ultimate     2018-08        29922.0\n",
      "20  ultimate     2018-09        37626.0\n",
      "21  ultimate     2018-10        47778.0\n",
      "22  ultimate     2018-11        56540.0\n",
      "23  ultimate     2018-12        69324.0\n",
      "\n"
     ]
    },
    {
     "data": {
      "image/png": "[encoded data removed]",
      "text/plain": [
       "<Figure size 1200x600 with 1 Axes>"
      ]
     },
     "metadata": {},
     "output_type": "display_data"
    }
   ],
   "source": [
    "# Traza un diagrama de caja para visualizar la distribución de la duración mensual de llamadas\n",
    "\n",
    "#Sacamos la suma de minutos en llamada (duracion de la llamada) por mes para luego gráficar\n",
    "minute_calls_per_month= df.groupby([\"plan\",\"period_time\"])[\"total_minutes\"].sum().reset_index()\n",
    "print(minute_calls_per_month)\n",
    "print()\n",
    "\n",
    "#Graficamos\n",
    "\n",
    "plans = minute_calls_per_month['plan'].unique()#Separamos ambos planes (\"surf\",\"ultimate\")\n",
    "\n",
    "plt.figure(figsize=(12, 6))\n",
    "\n",
    "data_surf = minute_calls_per_month[minute_calls_per_month['plan'] == \"surf\"]['total_minutes'].values \n",
    "data_ultimate = minute_calls_per_month[minute_calls_per_month['plan'] == \"ultimate\"]['total_minutes'].values \n",
    "      \n",
    "plt.boxplot([data_surf, data_ultimate], vert=False)\n",
    "\n",
    "plt.title(\"Distribución de la Duración Mensual de Llamadas por Plan\", fontsize=14)\n",
    "plt.xlabel(\"Duración total (minutos)\", fontsize=12)\n",
    "plt.ylabel(\"Plan\", fontsize=12)\n",
    "\n",
    "plt.yticks([1, 2], [\"surf\",\"ultimate\"])\n",
    "\n",
    "plt.show()"
   ]
  },
  {
   "cell_type": "markdown",
   "metadata": {
    "id": "r627zBO50q1K"
   },
   "source": [
    "[Elabora las conclusiones sobre el comportamiento de los usuarios con respecto a las llamadas. ¿Su comportamiento varía en función del plan?]\n",
    "\n",
    "R= Podemos observar que varía el comportamiento y distribución de la duración total de los minutos dependiendo del plan.Por ejemplo, a simple vista podríamos observar que los usuarios que tienen el plan surf tienden a usar o tener mayor duracion en sus llamadas que las personas que tienen el plan ultimate, se puede observar tanto en sus maximos como en sus medianas de ambos. En el rango intercuartílico tambien podemos apreciar donde se concentra la mayor cantidad de usuarios con respecto a la duración de sus llamadas o uso de sus minutos. "
   ]
  },
  {
   "cell_type": "markdown",
   "metadata": {
    "id": "8idKy8Wh0q1L"
   },
   "source": [
    "### Mensajes"
   ]
  },
  {
   "cell_type": "code",
   "execution_count": 51,
   "metadata": {
    "id": "NXLxiTit0q1L",
    "trusted": true
   },
   "outputs": [
    {
     "name": "stdout",
     "output_type": "stream",
     "text": [
      "        plan period_time  total_messages\n",
      "1       surf     2018-01            21.0\n",
      "2       surf     2018-02           108.0\n",
      "3       surf     2018-03           351.0\n",
      "4       surf     2018-04           870.0\n",
      "5       surf     2018-05          1849.0\n",
      "6       surf     2018-06          2454.0\n",
      "7       surf     2018-07          3271.0\n",
      "8       surf     2018-08          4662.0\n",
      "9       surf     2018-09          5968.0\n",
      "10      surf     2018-10          8020.0\n",
      "11      surf     2018-11          9165.0\n",
      "12      surf     2018-12         12275.0\n",
      "13  ultimate     2018-01            62.0\n",
      "14  ultimate     2018-02           151.0\n",
      "15  ultimate     2018-03           243.0\n",
      "16  ultimate     2018-04           463.0\n",
      "17  ultimate     2018-05           931.0\n",
      "18  ultimate     2018-06          1379.0\n",
      "19  ultimate     2018-07          1937.0\n",
      "20  ultimate     2018-08          2732.0\n",
      "21  ultimate     2018-09          3259.0\n",
      "22  ultimate     2018-10          4181.0\n",
      "23  ultimate     2018-11          4903.0\n",
      "24  ultimate     2018-12          6796.0\n"
     ]
    },
    {
     "data": {
      "image/png": "[encoded data removed]",
      "text/plain": [
       "<Figure size 1200x600 with 1 Axes>"
      ]
     },
     "metadata": {},
     "output_type": "display_data"
    }
   ],
   "source": [
    "# Comprara el número de mensajes que tienden a enviar cada mes los usuarios de cada plan\n",
    "\n",
    "messages_per_month= df.groupby([\"plan\",\"period_time\"])[\"total_messages\"].sum().reset_index()\n",
    "messages_per_month.index +=1\n",
    "\n",
    "print(messages_per_month)\n",
    "\n",
    "\n",
    "#Graficamos para comparar ambos planes\n",
    "plans = messages_per_month['plan'].unique()#Separamos ambos planes (\"surf\",\"ultimate\")\n",
    "\n",
    "plt.figure(figsize=(12, 6))\n",
    "\n",
    "messages_surf = messages_per_month[messages_per_month['plan'] == \"surf\"]['total_messages'].values \n",
    "messages_ultimate = messages_per_month[messages_per_month['plan'] == \"ultimate\"]['total_messages'].values \n",
    "      \n",
    "plt.boxplot([messages_surf, messages_ultimate], vert=False)\n",
    "\n",
    "plt.title(\"Distribución del número de mensajes por Plan\", fontsize=14)\n",
    "plt.xlabel(\"Total de mensajes\", fontsize=12)\n",
    "plt.ylabel(\"Plan\", fontsize=12)\n",
    "\n",
    "plt.yticks([1, 2], [\"surf\",\"ultimate\"])\n",
    "\n",
    "plt.show()"
   ]
  },
  {
   "cell_type": "code",
   "execution_count": 57,
   "metadata": {
    "id": "GRI_R7xF0q1L",
    "trusted": true
   },
   "outputs": [
    {
     "name": "stdout",
     "output_type": "stream",
     "text": [
      "        plan period_time  total_gb_used\n",
      "1       surf     2018-01           10.0\n",
      "2       surf     2018-02          110.0\n",
      "3       surf     2018-03          312.0\n",
      "4       surf     2018-04          611.0\n",
      "5       surf     2018-05         1087.0\n",
      "6       surf     2018-06         1502.0\n",
      "7       surf     2018-07         2042.0\n",
      "8       surf     2018-08         2735.0\n",
      "9       surf     2018-09         3238.0\n",
      "10      surf     2018-10         4126.0\n",
      "11      surf     2018-11         4650.0\n",
      "12      surf     2018-12         5800.0\n",
      "13  ultimate     2018-01           29.0\n",
      "14  ultimate     2018-02          121.0\n",
      "15  ultimate     2018-03          221.0\n",
      "16  ultimate     2018-04          343.0\n",
      "17  ultimate     2018-05          489.0\n",
      "18  ultimate     2018-06          725.0\n",
      "19  ultimate     2018-07          973.0\n",
      "20  ultimate     2018-08         1267.0\n",
      "21  ultimate     2018-09         1463.0\n",
      "22  ultimate     2018-10         1878.0\n",
      "23  ultimate     2018-11         2174.0\n",
      "24  ultimate     2018-12         2778.0\n"
     ]
    }
   ],
   "source": [
    "# Compara la cantidad de tráfico de Internet consumido por usuarios por plan\n",
    "\n",
    "#Obtenemos el total de GB consumidos por los usuaarios al mes de cada plan \n",
    "gb_per_month= df.groupby([\"plan\",\"period_time\"])[\"total_gb_used\"].sum().reset_index() \n",
    "gb_per_month.index +=1\n",
    "print(gb_per_month)\n"
   ]
  },
  {
   "cell_type": "code",
   "execution_count": 58,
   "metadata": {
    "id": "dtFwCGAp0q1M",
    "trusted": true
   },
   "outputs": [
    {
     "data": {
      "image/png": "[encoded data removed]",
      "text/plain": [
       "<Figure size 1200x600 with 1 Axes>"
      ]
     },
     "metadata": {},
     "output_type": "display_data"
    }
   ],
   "source": [
    "#Graficamos para comparar ambos planes\n",
    "plans = gb_per_month['plan'].unique()#Separamos ambos planes (\"surf\",\"ultimate\")\n",
    "\n",
    "plt.figure(figsize=(12, 6))\n",
    "\n",
    "gb_surf = gb_per_month[gb_per_month['plan'] == \"surf\"]['total_gb_used'].values \n",
    "gb_ultimate = gb_per_month[gb_per_month['plan'] == \"ultimate\"]['total_gb_used'].values \n",
    "      \n",
    "plt.boxplot([gb_surf, gb_ultimate], vert=False)\n",
    "\n",
    "plt.title(\"Distribución de la cantidad de tráfico de Internet consumido por Plan\", fontsize=14)\n",
    "plt.xlabel(\"Total de Gb\", fontsize=12)\n",
    "plt.ylabel(\"Plan\", fontsize=12)\n",
    "\n",
    "plt.yticks([1, 2], [\"surf\",\"ultimate\"])\n",
    "\n",
    "plt.show()"
   ]
  },
  {
   "cell_type": "markdown",
   "metadata": {
    "id": "390SSL480q1M"
   },
   "source": [
    "[Elabora las conclusiones sobre el comportamiento de los usuarios con respecto a los mensajes. ¿Su comportamiento varía en función del plan?]\n",
    "\n",
    "R=Tanto para mensajes, minutos en llamada como gb consumidos podemos ver una tendencia de que los usuarios del plan surf tienden a consumir más de estos servicios e incluso exceder bastante los min, sms y gb que su plan les incluye; por lo que terminan pagando mucho dinero extra por ello. Todos estos datos los podemos observar en su distribución, IQR y mediana de cada elemento (minutos, mensajes y gb)."
   ]
  },
  {
   "cell_type": "markdown",
   "metadata": {
    "id": "42YSypXz0q1M"
   },
   "source": [
    "### Internet"
   ]
  },
  {
   "cell_type": "code",
   "execution_count": 59,
   "metadata": {
    "id": "lSuKPtjh0q1M",
    "trusted": true
   },
   "outputs": [
    {
     "name": "stdout",
     "output_type": "stream",
     "text": [
      "        plan period_time  total_gb_used\n",
      "1       surf     2018-01           10.0\n",
      "2       surf     2018-02          110.0\n",
      "3       surf     2018-03          312.0\n",
      "4       surf     2018-04          611.0\n",
      "5       surf     2018-05         1087.0\n",
      "6       surf     2018-06         1502.0\n",
      "7       surf     2018-07         2042.0\n",
      "8       surf     2018-08         2735.0\n",
      "9       surf     2018-09         3238.0\n",
      "10      surf     2018-10         4126.0\n",
      "11      surf     2018-11         4650.0\n",
      "12      surf     2018-12         5800.0\n",
      "13  ultimate     2018-01           29.0\n",
      "14  ultimate     2018-02          121.0\n",
      "15  ultimate     2018-03          221.0\n",
      "16  ultimate     2018-04          343.0\n",
      "17  ultimate     2018-05          489.0\n",
      "18  ultimate     2018-06          725.0\n",
      "19  ultimate     2018-07          973.0\n",
      "20  ultimate     2018-08         1267.0\n",
      "21  ultimate     2018-09         1463.0\n",
      "22  ultimate     2018-10         1878.0\n",
      "23  ultimate     2018-11         2174.0\n",
      "24  ultimate     2018-12         2778.0\n"
     ]
    }
   ],
   "source": [
    "print(gb_per_month)"
   ]
  },
  {
   "cell_type": "code",
   "execution_count": 60,
   "metadata": {
    "id": "wnh8jYXi0q1N",
    "trusted": true
   },
   "outputs": [
    {
     "data": {
      "image/png": "[encoded data removed]",
      "text/plain": [
       "<Figure size 1200x600 with 1 Axes>"
      ]
     },
     "metadata": {},
     "output_type": "display_data"
    }
   ],
   "source": [
    "#Graficamos para comparar ambos planes\n",
    "plans = gb_per_month['plan'].unique()#Separamos ambos planes (\"surf\",\"ultimate\")\n",
    "\n",
    "plt.figure(figsize=(12, 6))\n",
    "\n",
    "gb_surf = gb_per_month[gb_per_month['plan'] == \"surf\"]['total_gb_used'].values \n",
    "gb_ultimate = gb_per_month[gb_per_month['plan'] == \"ultimate\"]['total_gb_used'].values \n",
    "      \n",
    "plt.boxplot([gb_surf, gb_ultimate], vert=False)\n",
    "\n",
    "plt.title(\"Distribución de la cantidad de tráfico de Internet consumido por Plan\", fontsize=14)\n",
    "plt.xlabel(\"Total de Gb\", fontsize=12)\n",
    "plt.ylabel(\"Plan\", fontsize=12)\n",
    "\n",
    "plt.yticks([1, 2], [\"surf\",\"ultimate\"])\n",
    "\n",
    "plt.show()"
   ]
  },
  {
   "cell_type": "code",
   "execution_count": null,
   "metadata": {
    "id": "5VlyJ9ry0q1N",
    "trusted": true
   },
   "outputs": [],
   "source": []
  },
  {
   "cell_type": "markdown",
   "metadata": {
    "id": "UN9zwuMP0q1N"
   },
   "source": [
    "[Elabora las conclusiones sobre cómo los usuarios tienden a consumir el tráfico de Internet. ¿Su comportamiento varía en función del plan?]\n",
    "\n",
    "R= Ya respondí esta pregunta en el apartado anterior que me pedía lo mismo en cuanto al tráfico de internet. Pero nuevamente mis conclusiones de acuerdo a lo que podemos observar es que los usuarios del plan surf su mediana de uso de gb es superior a los usuarios del plan ultimate."
   ]
  },
  {
   "cell_type": "markdown",
   "metadata": {
    "id": "tCijq3260q1N"
   },
   "source": [
    "## Ingreso"
   ]
  },
  {
   "cell_type": "markdown",
   "metadata": {
    "id": "9nq5IAcy0q1O"
   },
   "source": [
    "."
   ]
  },
  {
   "cell_type": "code",
   "execution_count": 61,
   "metadata": {
    "id": "tz-dq_V00q1O",
    "trusted": true
   },
   "outputs": [
    {
     "name": "stdout",
     "output_type": "stream",
     "text": [
      "           count       mean        std   min   25%    50%    75%     max\n",
      "plan                                                                    \n",
      "surf      1573.0  60.706408  55.388042  20.0  20.0  40.36  80.36  590.37\n",
      "ultimate   720.0  72.313889  11.395108  70.0  70.0  70.00  70.00  182.00\n",
      "\n",
      "Suma total de ingresos por plan\n",
      "plan\n",
      "surf        95491.18\n",
      "ultimate    52066.00\n",
      "Name: debt, dtype: float64\n"
     ]
    }
   ],
   "source": [
    "plan_describe= df.groupby(\"plan\")[\"debt\"].describe()\n",
    "print(plan_describe)\n",
    "print()\n",
    "plan_sum= df.groupby(\"plan\")[\"debt\"].sum()\n",
    "print(\"Suma total de ingresos por plan\")\n",
    "print(plan_sum)"
   ]
  },
  {
   "cell_type": "code",
   "execution_count": 62,
   "metadata": {
    "id": "0Y1v8ZUz0q1P",
    "trusted": true
   },
   "outputs": [
    {
     "name": "stdout",
     "output_type": "stream",
     "text": [
      "plan\n",
      "surf        3067.835152\n",
      "ultimate     129.848486\n",
      "Name: debt, dtype: float64\n"
     ]
    }
   ],
   "source": [
    "plan_var=df.groupby(\"plan\")[\"debt\"].var()\n",
    "print(plan_var)"
   ]
  },
  {
   "cell_type": "code",
   "execution_count": 64,
   "metadata": {
    "id": "bYmwxyVh0q1P",
    "trusted": true
   },
   "outputs": [
    {
     "data": {
      "image/png": "[encoded data removed]",
      "text/plain": [
       "<Figure size 800x500 with 1 Axes>"
      ]
     },
     "metadata": {},
     "output_type": "display_data"
    }
   ],
   "source": [
    "plan_mean = df.groupby(\"plan\")[\"debt\"].mean()\n",
    "\n",
    "# Graficamos...\n",
    "plt.figure(figsize=(8, 5))\n",
    "plt.bar(plan_mean.index, plan_mean.values, color=['blue', 'orange'])\n",
    "\n",
    "plt.title(\"Promedio de Ingresos por Plan\", fontsize=14)\n",
    "plt.xlabel(\"Plan\", fontsize=12)\n",
    "plt.ylabel(\"Ingreso Promedio (USD)\", fontsize=12)\n",
    "\n",
    "plt.show()"
   ]
  },
  {
   "cell_type": "markdown",
   "metadata": {
    "id": "KAFidcXZ0q1P"
   },
   "source": [
    "[Elabora las conclusiones sobre cómo difiere el ingreso entre los planes.]\n",
    "\n",
    "R= Podemos sacar varias conclusiones con estos datos, pero el principal a mi parecer es que los usuarios del plan surf como ya hemos visto antes, tienden a usar mucho más el servicio y por tanto su deuda aumenta, haciendo que estos sean los que más ingresos le generan a Megaline.\n",
    "\n",
    "En las medias nos damos cuenta que a pesar de que la media del plan ultimate es mayor a la del plan surf, esto se debe a que su media de 72.31 no se aleja del valor que cuesta el plan (70 usd), por lo tanto son pocos los usuarios de este plan que sobrepasan lo que les viene incluido en su plan. Mientras que los del plan surf han llegado a gastar hasta 590.37 USD, cuando su plan no cuesta más que 20 USD.\n",
    "\n",
    "El promedio de gastos que realiza un usuario del plan surf es de 55.38 USD, lo cual es 35.38 USD por arriba de su costo original del plan (20 USD). "
   ]
  },
  {
   "cell_type": "markdown",
   "metadata": {},
   "source": [
    "<div class=\"alert alert-block alert-success\">\n",
    "<b>Comentario del revisor (1ra Iteración)</b> <a class=“tocSkip”></a>\n",
    "\n",
    "Excelente elección para las visualizaciones de datos. Además, calculaste correctamente la información estadística de cada distribución de datos (minutos, mensajes e internet). Esto permite identificar patrones de comportamiento en los usuarios y extraer información valiosa para la compañía.\n",
    "\n",
    "<div class=\"alert alert-block alert-warning\">\n",
    "<b>Comentario del revisor (1ra Iteración)</b> <a class=“tocSkip”></a>\n",
    "\n",
    "Respecto a la información sobre **Ingresos**, seguramente las gráficas y datos que obtuviste cambiarán cuando hagas el ajuste en el cálculo de los cobros mensuales por usuario en cada plan. \n",
    "\n",
    "</div>\n",
    "</div>"
   ]
  },
  {
   "cell_type": "markdown",
   "metadata": {
    "id": "ajJ7VKeI0q1Q"
   },
   "source": [
    "## Prueba las hipótesis estadísticas"
   ]
  },
  {
   "cell_type": "markdown",
   "metadata": {
    "id": "AdXAZ-yL0q1Q"
   },
   "source": [
    "."
   ]
  },
  {
   "cell_type": "markdown",
   "metadata": {
    "id": "IQwa_hsh0q1Q"
   },
   "source": [
    "Hipotesis nula: Los ingresos promedio del plan Surf son iguales al del plan Ultimate.\n",
    "   \n",
    "   Hipotesis alternativa: Los ingresos promedio del plan Surf son diferentes al del plan Ultimate.\n",
    "   \n",
    "   alpha= 0.05"
   ]
  },
  {
   "cell_type": "code",
   "execution_count": 65,
   "metadata": {
    "id": "nFoPNlPq0q1R",
    "trusted": true
   },
   "outputs": [
    {
     "name": "stdout",
     "output_type": "stream",
     "text": [
      "Valor p: 3.1703905481135734e-15\n",
      "Rechazamos la hipótesis nula: hay evidencia de que los ingresos promedio son diferentes\n"
     ]
    }
   ],
   "source": [
    "# Prueba las hipótesis\n",
    "from scipy import stats as st\n",
    "\n",
    "surf_income = df[df[\"plan\"] == \"surf\"][\"debt\"]\n",
    "\n",
    "ultimate_income = df[df[\"plan\"] == \"ultimate\"][\"debt\"]\n",
    "\n",
    "alpha= 0.05 \n",
    "\n",
    "results= st.ttest_ind(surf_income, ultimate_income, equal_var= False)\n",
    "print(\"Valor p:\", results.pvalue)\n",
    "\n",
    "if results.pvalue < alpha:\n",
    "    print(\"Rechazamos la hipótesis nula: hay evidencia de que los ingresos promedio son diferentes\")\n",
    "else:\n",
    "    print(\"No podemos rechazar la hipótesis nula: no hay suficiente evidencia de que los ingresos promedio sean diferentes \")"
   ]
  },
  {
   "cell_type": "markdown",
   "metadata": {
    "id": "tCcAruM60q1R"
   },
   "source": [
    "#### Hipótesis de que el ingreso promedio de los usuarios del área NY-NJ es diferente al de los usuarios de otras regiones"
   ]
  },
  {
   "cell_type": "markdown",
   "metadata": {
    "id": "LsBgitqj0q1R"
   },
   "source": [
    "Hipótesis nula= El ingreso promedio de los usuarios del área de NY-NJ es igual a la de los usuarios de otras regiones \n",
    "\n",
    "Hipótesis alternativa= El ingreso promedio de los usuarios del área de NY-NJ es diferente a la de los usuarios de otras regiones \n",
    "\n",
    "alpha= 0.05"
   ]
  },
  {
   "cell_type": "code",
   "execution_count": 66,
   "metadata": {
    "id": "Cqcj7wrZ0q1S",
    "trusted": true
   },
   "outputs": [
    {
     "name": "stdout",
     "output_type": "stream",
     "text": [
      "Promedio de deuda anual para usuarios de NY-NJ: 282.379375 USD\n",
      "Promedio de deuda anual para usuarios de otras regiones: 297.5400714285714 USD\n",
      "\n",
      "Valor p: 0.6183505000821642\n",
      "No podemos rechazar la hipótesis nula: no hay suficiente evidencia de que los ingresos promedio sean diferentes \n"
     ]
    }
   ],
   "source": [
    "# Prueba las hipótesis\n",
    "\n",
    "#Primero separaré mis datos para después buscar probar la hipótesis.\n",
    "\n",
    "#Extraemos primero los usuarios de NY-NJ y los de otras regiones\n",
    "ny_nj_citizens= users[users[\"city\"]== \"New York-Newark-Jersey City, NY-NJ-PA MSA\"]\n",
    "other_region_citizens= users[users[\"city\"]!=\"New York-Newark-Jersey City, NY-NJ-PA MSA\"]\n",
    "\n",
    "\n",
    "#Extraemos la deuda de cada usuario de NY-NJ y la de otras regiones \n",
    "ny_nj_income= ny_nj_citizens.merge(df[[\"user_id\",\"debt\"]], on= \"user_id\", how=\"left\")\n",
    "ny_nj_income= ny_nj_income[['user_id', 'city', 'debt']]\n",
    "\n",
    "other_region_income= other_region_citizens.merge(df[[\"user_id\",\"debt\"]], on= \"user_id\", how=\"left\")\n",
    "other_region_income= other_region_income[['user_id', 'city', 'debt']]\n",
    "\n",
    "\n",
    "#Como nos dio su deuda mensual sumamos la deuda de cada usuario para obtener cual es su deuda al año\n",
    "ny_nj_income_grouped= ny_nj_income.groupby([\"user_id\",\"city\"])[\"debt\"].sum()\n",
    "other_region_grouped= other_region_income.groupby([\"user_id\",\"city\"])[\"debt\"].sum()\n",
    "\n",
    "#Sacamos el promedio de gasto de todos los usuarios\n",
    "ny_nj_income_mean= ny_nj_income_grouped.mean()\n",
    "other_region_mean= other_region_grouped.mean()\n",
    "print(\"Promedio de deuda anual para usuarios de NY-NJ:\", ny_nj_income_mean, \"USD\")\n",
    "print(\"Promedio de deuda anual para usuarios de otras regiones:\", other_region_mean, \"USD\")\n",
    "print()\n",
    "\n",
    "\n",
    "#Prueba de hipótesis\n",
    "#Hipótesis nula= El ingreso promedio de los usuarios del área de NY-NJ es igual a la de los usuarios de otras regiones\n",
    "#Hipótesis alternativa= El ingreso promedio de los usuarios del área de NY-NJ es diferente a la de los usuarios de otras regiones\n",
    "\n",
    "alpha= 0.05\n",
    "\n",
    "result=st.ttest_ind(ny_nj_income_grouped,other_region_grouped,equal_var= False)\n",
    "print(\"Valor p:\", result.pvalue)\n",
    "\n",
    "if result.pvalue < alpha:\n",
    "    print(\"Rechazamos la hipótesis nula: hay evidencia de que los ingresos promedio son diferentes\")\n",
    "else:\n",
    "    print(\"No podemos rechazar la hipótesis nula: no hay suficiente evidencia de que los ingresos promedio sean diferentes \")"
   ]
  },
  {
   "cell_type": "markdown",
   "metadata": {
    "id": "bbTR8UQO0q1T"
   },
   "source": [
    "## Conclusión general\n",
    "\n",
    "La pregunta que se nos planteó al inicio del proyecto: ¿cuál de las tarifas genera más ingresos?, para poder ajustar el presupuesto de publicidad; me llevó a las siguientes conclusiones en base al analisis realizado. Mis conclusiones son que la tarifa del plan surf es la que mayores ingresos genera a la compañía; esto podría deberse tal vez a que los usuarios prefieren pagar un plan más económico de 20 USD a uno de 70 USD, pero al final son esos mismos usuarios del plan surf los que terminan pagando mucho más dinero por minutos, sms y mb extras. Este comportamiento que menciono lo podemos observar y analizar en los gráficos de distribuciones que hicimos.\n",
    "\n",
    "Pudimos observar como la media de dinero gastado por los usuarios de ambos planes son totalmente diferentes. En el plan ultimate la media de los usuarios no se alejaba de los 70 USD, precio en el cual está el plan ultimate (la media llegó a 72.31 USD) mientras que la media de los usuarios del plan surf se alejó a más del doble del precio de la tarifa que son 20 USD (la media llegó a 55.38 USD, 35.38 USD extras a la tarifa original del plan) .\n",
    "\n",
    "El que la media del plan ultimate haya sido mayor al del plan surf en cuanto a promedio de USD no se debe más que a que como acabo de mencionar, su media esta muy cerca del precio inicial de la tarifa del plan. Esto no nos indica que haya generado mayores ingresos. Como pudimos ver tambien en la distribución \"máxima\" de los gastos de los usuarios para cada plan, en el plan surf han gastado hasta 590.37 USD mientras que en el plan ultimate lo máximo gastado por el usuario fue de 182 USD, una completa locura si comparamos ambos. \n",
    "\n",
    "Como observación final y para probar cuál de los 2 planes ha generado mayores ingresos a la compañía, se sumó el total de ingresos de ambos planes en el año y obtuvimos un total de 52,066 USD para el plan ultimate y 95,491.18 para el plan surf; una diferencia de 43,425.18 USD entre ambos. No cabe duda que el plan surf es el que mayores ingresos a generado en el 2018."
   ]
  }
 ],
 "metadata": {
  "ExecuteTimeLog": [
   {
    "duration": 828,
    "start_time": "2021-11-16T09:21:11.304Z"
   },
   {
    "duration": 893,
    "start_time": "2021-11-16T09:21:17.728Z"
   },
   {
    "duration": 1150,
    "start_time": "2021-11-16T09:21:29.568Z"
   },
   {
    "duration": 3,
    "start_time": "2021-11-16T09:24:14.495Z"
   },
   {
    "duration": 120,
    "start_time": "2021-11-16T09:24:46.630Z"
   },
   {
    "duration": 3,
    "start_time": "2021-11-16T09:28:27.882Z"
   },
   {
    "duration": 4,
    "start_time": "2021-11-16T09:29:54.281Z"
   },
   {
    "duration": 3,
    "start_time": "2021-11-16T09:30:45.936Z"
   },
   {
    "duration": 4,
    "start_time": "2021-11-16T09:31:06.300Z"
   },
   {
    "duration": 113,
    "start_time": "2021-11-16T09:31:37.208Z"
   },
   {
    "duration": 143,
    "start_time": "2021-11-16T09:31:48.656Z"
   },
   {
    "duration": 98,
    "start_time": "2021-11-16T09:31:55.678Z"
   },
   {
    "duration": 3,
    "start_time": "2021-11-16T09:32:08.535Z"
   },
   {
    "duration": 111,
    "start_time": "2021-11-16T09:32:10.120Z"
   },
   {
    "duration": 3,
    "start_time": "2021-11-16T09:32:15.732Z"
   },
   {
    "duration": 4,
    "start_time": "2021-11-16T09:32:29.423Z"
   },
   {
    "duration": 3,
    "start_time": "2021-11-16T10:03:03.074Z"
   },
   {
    "duration": 3,
    "start_time": "2021-11-16T10:10:01.288Z"
   },
   {
    "duration": 3,
    "start_time": "2021-11-16T10:10:46.923Z"
   },
   {
    "duration": 121,
    "start_time": "2021-11-16T10:37:46.494Z"
   },
   {
    "duration": 125,
    "start_time": "2021-11-16T10:38:20.632Z"
   },
   {
    "duration": 112,
    "start_time": "2021-11-16T10:46:53.001Z"
   },
   {
    "duration": 110,
    "start_time": "2021-11-16T10:48:25.775Z"
   },
   {
    "duration": 3,
    "start_time": "2021-11-16T10:50:18.720Z"
   },
   {
    "duration": 4,
    "start_time": "2021-11-16T10:50:37.649Z"
   },
   {
    "duration": 2,
    "start_time": "2021-11-16T10:50:51.884Z"
   },
   {
    "duration": 3,
    "start_time": "2021-11-16T10:51:56.237Z"
   },
   {
    "duration": 101,
    "start_time": "2021-11-16T10:53:13.791Z"
   },
   {
    "duration": 3,
    "start_time": "2021-11-16T10:55:59.186Z"
   },
   {
    "duration": 3,
    "start_time": "2021-11-16T10:56:10.751Z"
   },
   {
    "duration": 3,
    "start_time": "2021-11-16T10:56:49.038Z"
   },
   {
    "duration": 3,
    "start_time": "2021-11-16T10:56:49.174Z"
   },
   {
    "duration": 4,
    "start_time": "2021-11-16T10:56:49.414Z"
   },
   {
    "duration": 3,
    "start_time": "2021-11-16T10:56:49.680Z"
   },
   {
    "duration": 3,
    "start_time": "2021-11-16T10:56:50.370Z"
   },
   {
    "duration": 114,
    "start_time": "2021-11-16T10:59:34.518Z"
   },
   {
    "duration": 3,
    "start_time": "2021-11-16T11:01:41.201Z"
   },
   {
    "duration": 116,
    "start_time": "2021-11-16T11:01:48.754Z"
   },
   {
    "duration": 3,
    "start_time": "2021-11-16T11:02:16.685Z"
   },
   {
    "duration": 3,
    "start_time": "2021-11-16T11:02:19.479Z"
   },
   {
    "duration": 3,
    "start_time": "2021-11-16T11:02:47.067Z"
   },
   {
    "duration": 3,
    "start_time": "2021-11-16T11:02:49.353Z"
   },
   {
    "duration": 3,
    "start_time": "2021-11-16T11:03:07.835Z"
   },
   {
    "duration": 3,
    "start_time": "2021-11-16T11:03:07.953Z"
   },
   {
    "duration": 112,
    "start_time": "2021-11-16T11:07:52.072Z"
   },
   {
    "duration": 187,
    "start_time": "2021-11-16T11:09:23.468Z"
   },
   {
    "duration": 4,
    "start_time": "2021-11-16T11:10:01.455Z"
   },
   {
    "duration": 3,
    "start_time": "2021-11-16T11:10:05.069Z"
   },
   {
    "duration": 4,
    "start_time": "2021-11-16T11:10:13.376Z"
   },
   {
    "duration": 3,
    "start_time": "2021-11-16T11:10:14.434Z"
   },
   {
    "duration": 3,
    "start_time": "2021-11-16T11:10:22.853Z"
   },
   {
    "duration": 4,
    "start_time": "2021-11-16T11:27:29.279Z"
   },
   {
    "duration": 4,
    "start_time": "2021-11-16T11:29:08.919Z"
   },
   {
    "duration": 118,
    "start_time": "2021-11-16T11:29:46.703Z"
   },
   {
    "duration": 437,
    "start_time": "2021-11-16T11:36:02.181Z"
   },
   {
    "duration": 157,
    "start_time": "2021-11-16T11:36:14.388Z"
   },
   {
    "duration": 207,
    "start_time": "2021-11-16T11:47:15.898Z"
   },
   {
    "duration": 3,
    "start_time": "2021-11-16T11:53:52.092Z"
   },
   {
    "duration": 3,
    "start_time": "2021-11-16T11:53:52.236Z"
   },
   {
    "duration": 3,
    "start_time": "2021-11-16T11:59:12.005Z"
   },
   {
    "duration": 112,
    "start_time": "2021-11-16T12:00:33.446Z"
   },
   {
    "duration": 3,
    "start_time": "2021-11-16T12:02:14.453Z"
   },
   {
    "duration": 3,
    "start_time": "2021-11-16T12:02:39.512Z"
   },
   {
    "duration": 106,
    "start_time": "2021-11-16T12:03:03.460Z"
   },
   {
    "duration": 3,
    "start_time": "2021-11-17T20:37:21.139Z"
   },
   {
    "duration": 3,
    "start_time": "2021-11-17T20:37:22.229Z"
   },
   {
    "duration": 3,
    "start_time": "2021-11-17T20:38:38.806Z"
   },
   {
    "duration": 3,
    "start_time": "2021-11-17T20:38:41.958Z"
   },
   {
    "duration": 3,
    "start_time": "2021-11-17T20:43:46.551Z"
   },
   {
    "duration": 4,
    "start_time": "2021-11-17T20:58:21.835Z"
   },
   {
    "duration": 3,
    "start_time": "2021-11-17T20:59:21.872Z"
   },
   {
    "duration": 4,
    "start_time": "2021-11-17T20:59:45.352Z"
   },
   {
    "duration": 4,
    "start_time": "2021-11-17T20:59:49.646Z"
   },
   {
    "duration": 159,
    "start_time": "2021-11-17T21:02:26.949Z"
   },
   {
    "duration": 3,
    "start_time": "2021-11-17T21:03:53.461Z"
   },
   {
    "duration": 3,
    "start_time": "2021-11-17T21:03:53.694Z"
   },
   {
    "duration": 3,
    "start_time": "2021-11-17T21:05:28.145Z"
   },
   {
    "duration": 116,
    "start_time": "2021-11-17T21:05:57.787Z"
   },
   {
    "duration": 3,
    "start_time": "2021-11-17T21:06:37.993Z"
   },
   {
    "duration": 3,
    "start_time": "2021-11-17T21:06:38.261Z"
   },
   {
    "duration": 3,
    "start_time": "2021-11-17T21:11:54.358Z"
   },
   {
    "duration": 3,
    "start_time": "2021-11-17T21:12:43.846Z"
   },
   {
    "duration": 4,
    "start_time": "2021-11-17T21:13:08.773Z"
   },
   {
    "duration": 3,
    "start_time": "2021-11-17T21:14:44.441Z"
   },
   {
    "duration": 3,
    "start_time": "2021-11-17T21:15:42.059Z"
   },
   {
    "duration": 4,
    "start_time": "2021-11-17T21:15:51.995Z"
   },
   {
    "duration": 3,
    "start_time": "2021-11-17T21:15:53.923Z"
   },
   {
    "duration": 3,
    "start_time": "2021-11-17T21:15:55.282Z"
   },
   {
    "duration": 3,
    "start_time": "2021-11-17T21:16:28.492Z"
   },
   {
    "duration": 3,
    "start_time": "2021-11-17T21:16:32.603Z"
   },
   {
    "duration": 3,
    "start_time": "2021-11-17T21:17:06.941Z"
   },
   {
    "duration": 98,
    "start_time": "2021-11-17T21:18:05.733Z"
   },
   {
    "duration": 4,
    "start_time": "2021-11-17T21:21:35.255Z"
   },
   {
    "duration": 3,
    "start_time": "2021-11-17T21:21:37.804Z"
   },
   {
    "duration": 4,
    "start_time": "2021-11-17T21:23:06.071Z"
   },
   {
    "duration": 3,
    "start_time": "2021-11-17T21:23:24.799Z"
   },
   {
    "duration": 3,
    "start_time": "2021-11-17T21:23:32.591Z"
   },
   {
    "duration": 98,
    "start_time": "2021-11-17T21:28:31.559Z"
   },
   {
    "duration": 3,
    "start_time": "2021-11-17T21:28:45.448Z"
   },
   {
    "duration": 3,
    "start_time": "2021-11-17T21:29:17.303Z"
   },
   {
    "duration": 3,
    "start_time": "2021-11-17T21:29:29.617Z"
   },
   {
    "duration": 3,
    "start_time": "2021-11-17T21:29:32.681Z"
   },
   {
    "duration": 3,
    "start_time": "2021-11-17T21:36:11.474Z"
   },
   {
    "duration": 3,
    "start_time": "2021-11-17T21:36:14.791Z"
   },
   {
    "duration": 3,
    "start_time": "2021-11-17T21:36:53.943Z"
   },
   {
    "duration": 3,
    "start_time": "2021-11-17T21:36:56.165Z"
   },
   {
    "duration": 4,
    "start_time": "2021-11-17T21:37:16.590Z"
   },
   {
    "duration": 3,
    "start_time": "2021-11-17T21:37:22.702Z"
   },
   {
    "duration": 4,
    "start_time": "2021-11-17T21:38:03.479Z"
   },
   {
    "duration": 3,
    "start_time": "2021-11-17T21:38:08.601Z"
   },
   {
    "duration": 3,
    "start_time": "2021-11-17T21:38:12.928Z"
   },
   {
    "duration": 3,
    "start_time": "2021-11-17T21:38:48.896Z"
   },
   {
    "duration": 2,
    "start_time": "2021-11-17T21:38:49.171Z"
   },
   {
    "duration": 4,
    "start_time": "2021-11-17T21:39:57.889Z"
   },
   {
    "duration": 3,
    "start_time": "2021-11-17T21:39:58.057Z"
   },
   {
    "duration": 3,
    "start_time": "2021-11-17T21:41:20.108Z"
   },
   {
    "duration": 3,
    "start_time": "2021-11-17T21:41:20.629Z"
   },
   {
    "duration": 3,
    "start_time": "2021-11-17T21:42:49.136Z"
   },
   {
    "duration": 3,
    "start_time": "2021-11-17T21:43:15.137Z"
   },
   {
    "duration": 4,
    "start_time": "2021-11-17T21:43:16.766Z"
   },
   {
    "duration": 4,
    "start_time": "2021-11-17T21:43:31.711Z"
   },
   {
    "duration": 3,
    "start_time": "2021-11-17T21:43:36.312Z"
   },
   {
    "duration": 4,
    "start_time": "2021-11-17T21:45:08.825Z"
   },
   {
    "duration": 4,
    "start_time": "2021-11-17T21:45:10.119Z"
   },
   {
    "duration": 4,
    "start_time": "2021-11-17T21:45:13.748Z"
   },
   {
    "duration": 3,
    "start_time": "2021-11-17T21:45:22.219Z"
   },
   {
    "duration": 3,
    "start_time": "2021-11-17T21:45:33.412Z"
   },
   {
    "duration": 2,
    "start_time": "2021-11-17T21:46:01.885Z"
   },
   {
    "duration": 3,
    "start_time": "2021-11-17T21:46:03.628Z"
   },
   {
    "duration": 107,
    "start_time": "2021-11-17T21:47:32.512Z"
   },
   {
    "duration": 103,
    "start_time": "2021-11-17T21:50:36.243Z"
   },
   {
    "duration": 3,
    "start_time": "2021-11-18T06:28:31.440Z"
   },
   {
    "duration": 3,
    "start_time": "2021-11-18T06:29:00.168Z"
   },
   {
    "duration": 3,
    "start_time": "2021-11-18T06:31:27.008Z"
   },
   {
    "duration": 2,
    "start_time": "2021-11-18T06:35:34.288Z"
   },
   {
    "duration": 2,
    "start_time": "2021-11-18T06:38:04.527Z"
   },
   {
    "duration": 345,
    "start_time": "2025-02-28T00:33:33.656Z"
   },
   {
    "duration": 301,
    "start_time": "2025-02-28T00:37:13.998Z"
   },
   {
    "duration": 43,
    "start_time": "2025-02-28T00:38:14.540Z"
   },
   {
    "duration": 47,
    "start_time": "2025-02-28T00:39:34.363Z"
   },
   {
    "duration": 76,
    "start_time": "2025-02-28T00:39:43.264Z"
   },
   {
    "duration": 77,
    "start_time": "2025-02-28T00:39:50.011Z"
   },
   {
    "duration": 75,
    "start_time": "2025-02-28T00:40:13.739Z"
   },
   {
    "duration": 192,
    "start_time": "2025-02-28T01:32:19.588Z"
   },
   {
    "duration": 9,
    "start_time": "2025-02-28T01:34:38.840Z"
   },
   {
    "duration": 8,
    "start_time": "2025-02-28T01:39:25.648Z"
   },
   {
    "duration": 21,
    "start_time": "2025-02-28T02:01:59.170Z"
   },
   {
    "duration": 4,
    "start_time": "2025-02-28T02:02:06.088Z"
   },
   {
    "duration": 8,
    "start_time": "2025-02-28T02:02:13.061Z"
   },
   {
    "duration": 4,
    "start_time": "2025-02-28T02:09:09.248Z"
   },
   {
    "duration": 11,
    "start_time": "2025-02-28T02:09:14.259Z"
   },
   {
    "duration": 8,
    "start_time": "2025-02-28T02:11:47.112Z"
   },
   {
    "duration": 10,
    "start_time": "2025-02-28T02:12:31.676Z"
   },
   {
    "duration": 9,
    "start_time": "2025-02-28T02:15:35.320Z"
   },
   {
    "duration": 15,
    "start_time": "2025-02-28T02:15:57.528Z"
   },
   {
    "duration": 8,
    "start_time": "2025-02-28T02:16:16.072Z"
   },
   {
    "duration": 8,
    "start_time": "2025-02-28T02:18:02.365Z"
   },
   {
    "duration": 3,
    "start_time": "2025-02-28T02:18:06.912Z"
   },
   {
    "duration": 9,
    "start_time": "2025-02-28T02:18:09.501Z"
   },
   {
    "duration": 3,
    "start_time": "2025-02-28T02:19:36.716Z"
   },
   {
    "duration": 9,
    "start_time": "2025-02-28T02:19:38.814Z"
   },
   {
    "duration": 4,
    "start_time": "2025-02-28T02:21:42.504Z"
   },
   {
    "duration": 9,
    "start_time": "2025-02-28T02:22:14.925Z"
   },
   {
    "duration": 9,
    "start_time": "2025-02-28T02:22:58.199Z"
   },
   {
    "duration": 8,
    "start_time": "2025-02-28T02:23:42.588Z"
   },
   {
    "duration": 8,
    "start_time": "2025-02-28T02:27:30.271Z"
   },
   {
    "duration": 12,
    "start_time": "2025-02-28T02:27:37.920Z"
   },
   {
    "duration": 9,
    "start_time": "2025-02-28T02:36:56.583Z"
   },
   {
    "duration": 10,
    "start_time": "2025-02-28T02:37:05.706Z"
   },
   {
    "duration": 11,
    "start_time": "2025-02-28T02:46:39.772Z"
   },
   {
    "duration": 12,
    "start_time": "2025-02-28T02:46:54.465Z"
   },
   {
    "duration": 10,
    "start_time": "2025-02-28T03:02:11.315Z"
   },
   {
    "duration": 9,
    "start_time": "2025-02-28T03:02:17.682Z"
   },
   {
    "duration": 9,
    "start_time": "2025-02-28T03:02:30.147Z"
   },
   {
    "duration": 9,
    "start_time": "2025-02-28T03:02:32.940Z"
   },
   {
    "duration": 7,
    "start_time": "2025-02-28T03:03:09.490Z"
   },
   {
    "duration": 9,
    "start_time": "2025-02-28T03:03:24.768Z"
   },
   {
    "duration": 9,
    "start_time": "2025-02-28T03:03:57.627Z"
   },
   {
    "duration": 9,
    "start_time": "2025-02-28T03:04:21.259Z"
   },
   {
    "duration": 12,
    "start_time": "2025-02-28T03:04:56.483Z"
   },
   {
    "duration": 12,
    "start_time": "2025-02-28T03:06:06.830Z"
   },
   {
    "duration": 9,
    "start_time": "2025-02-28T03:06:19.006Z"
   },
   {
    "duration": 12,
    "start_time": "2025-02-28T03:08:18.010Z"
   },
   {
    "duration": 9,
    "start_time": "2025-02-28T03:15:30.525Z"
   },
   {
    "duration": 10,
    "start_time": "2025-02-28T03:15:34.119Z"
   },
   {
    "duration": 10,
    "start_time": "2025-02-28T03:15:39.096Z"
   },
   {
    "duration": 11,
    "start_time": "2025-02-28T03:15:48.833Z"
   },
   {
    "duration": 11,
    "start_time": "2025-02-28T03:16:09.034Z"
   },
   {
    "duration": 9,
    "start_time": "2025-02-28T03:16:13.249Z"
   },
   {
    "duration": 12,
    "start_time": "2025-02-28T03:16:17.336Z"
   },
   {
    "duration": 10,
    "start_time": "2025-02-28T03:16:21.879Z"
   },
   {
    "duration": 16,
    "start_time": "2025-02-28T04:42:39.822Z"
   },
   {
    "duration": 9,
    "start_time": "2025-02-28T04:43:12.009Z"
   },
   {
    "duration": 10,
    "start_time": "2025-02-28T04:43:33.493Z"
   },
   {
    "duration": 8,
    "start_time": "2025-02-28T04:43:50.246Z"
   },
   {
    "duration": 16,
    "start_time": "2025-02-28T04:52:33.320Z"
   },
   {
    "duration": 57,
    "start_time": "2025-02-28T04:52:44.196Z"
   },
   {
    "duration": 16,
    "start_time": "2025-02-28T04:52:53.598Z"
   },
   {
    "duration": 17,
    "start_time": "2025-02-28T04:54:32.124Z"
   },
   {
    "duration": 20,
    "start_time": "2025-02-28T04:54:40.691Z"
   },
   {
    "duration": 25,
    "start_time": "2025-02-28T04:54:45.905Z"
   },
   {
    "duration": 14,
    "start_time": "2025-02-28T04:57:49.566Z"
   },
   {
    "duration": 12,
    "start_time": "2025-02-28T04:58:08.154Z"
   },
   {
    "duration": 12,
    "start_time": "2025-02-28T04:58:31.374Z"
   },
   {
    "duration": 12,
    "start_time": "2025-02-28T04:59:00.681Z"
   },
   {
    "duration": 9,
    "start_time": "2025-02-28T04:59:06.529Z"
   },
   {
    "duration": 14,
    "start_time": "2025-02-28T04:59:12.293Z"
   },
   {
    "duration": 11,
    "start_time": "2025-02-28T04:59:20.768Z"
   },
   {
    "duration": 85,
    "start_time": "2025-02-28T05:01:01.789Z"
   },
   {
    "duration": 7,
    "start_time": "2025-02-28T05:01:36.867Z"
   },
   {
    "duration": 35,
    "start_time": "2025-02-28T05:01:40.474Z"
   },
   {
    "duration": 4,
    "start_time": "2025-02-28T05:06:37.537Z"
   },
   {
    "duration": 16,
    "start_time": "2025-02-28T05:06:44.394Z"
   },
   {
    "duration": 5,
    "start_time": "2025-02-28T05:06:47.380Z"
   },
   {
    "duration": 5,
    "start_time": "2025-02-28T05:18:14.497Z"
   },
   {
    "duration": 9,
    "start_time": "2025-02-28T05:18:39.622Z"
   },
   {
    "duration": 12,
    "start_time": "2025-02-28T05:19:13.627Z"
   },
   {
    "duration": 7,
    "start_time": "2025-02-28T05:20:23.842Z"
   },
   {
    "duration": 13,
    "start_time": "2025-02-28T05:28:36.577Z"
   },
   {
    "duration": 25,
    "start_time": "2025-02-28T05:28:58.041Z"
   },
   {
    "duration": 23,
    "start_time": "2025-02-28T05:29:08.134Z"
   },
   {
    "duration": 13,
    "start_time": "2025-02-28T05:37:11.260Z"
   },
   {
    "duration": 8,
    "start_time": "2025-02-28T05:37:20.287Z"
   },
   {
    "duration": 9,
    "start_time": "2025-02-28T05:37:28.205Z"
   },
   {
    "duration": 19,
    "start_time": "2025-02-28T05:44:07.705Z"
   },
   {
    "duration": 26,
    "start_time": "2025-02-28T05:44:13.211Z"
   },
   {
    "duration": 16,
    "start_time": "2025-02-28T05:53:11.032Z"
   },
   {
    "duration": 10,
    "start_time": "2025-02-28T05:53:20.801Z"
   },
   {
    "duration": 11,
    "start_time": "2025-02-28T05:53:22.366Z"
   },
   {
    "duration": 11,
    "start_time": "2025-02-28T05:53:25.735Z"
   },
   {
    "duration": 11,
    "start_time": "2025-02-28T05:53:30.447Z"
   },
   {
    "duration": 11,
    "start_time": "2025-02-28T05:53:35.341Z"
   },
   {
    "duration": 12,
    "start_time": "2025-02-28T05:53:51.167Z"
   },
   {
    "duration": 10,
    "start_time": "2025-02-28T05:53:54.327Z"
   },
   {
    "duration": 11,
    "start_time": "2025-02-28T05:53:57.785Z"
   },
   {
    "duration": 11,
    "start_time": "2025-02-28T05:54:19.486Z"
   },
   {
    "duration": 10,
    "start_time": "2025-02-28T05:54:32.143Z"
   },
   {
    "duration": 11,
    "start_time": "2025-02-28T05:54:39.146Z"
   },
   {
    "duration": 11,
    "start_time": "2025-02-28T05:54:42.368Z"
   },
   {
    "duration": 11,
    "start_time": "2025-02-28T05:54:44.211Z"
   },
   {
    "duration": 12,
    "start_time": "2025-02-28T05:56:28.186Z"
   },
   {
    "duration": 8,
    "start_time": "2025-02-28T05:56:34.314Z"
   },
   {
    "duration": 160,
    "start_time": "2025-02-28T16:11:21.513Z"
   },
   {
    "duration": 12,
    "start_time": "2025-02-28T16:12:18.913Z"
   },
   {
    "duration": 352,
    "start_time": "2025-02-28T16:12:25.410Z"
   },
   {
    "duration": 225,
    "start_time": "2025-02-28T16:12:27.935Z"
   },
   {
    "duration": 9,
    "start_time": "2025-02-28T16:12:30.854Z"
   },
   {
    "duration": 11,
    "start_time": "2025-02-28T16:12:35.678Z"
   },
   {
    "duration": 4,
    "start_time": "2025-02-28T16:12:44.724Z"
   },
   {
    "duration": 9,
    "start_time": "2025-02-28T16:12:47.950Z"
   },
   {
    "duration": 11,
    "start_time": "2025-02-28T16:13:02.623Z"
   },
   {
    "duration": 10,
    "start_time": "2025-02-28T16:13:08.423Z"
   },
   {
    "duration": 13,
    "start_time": "2025-02-28T16:13:18.747Z"
   },
   {
    "duration": 10,
    "start_time": "2025-02-28T16:13:25.342Z"
   },
   {
    "duration": 80,
    "start_time": "2025-02-28T16:13:29.766Z"
   },
   {
    "duration": 32,
    "start_time": "2025-02-28T16:13:35.919Z"
   },
   {
    "duration": 9,
    "start_time": "2025-02-28T16:13:39.615Z"
   },
   {
    "duration": 14,
    "start_time": "2025-02-28T16:13:43.015Z"
   },
   {
    "duration": 21,
    "start_time": "2025-02-28T16:13:46.400Z"
   },
   {
    "duration": 13,
    "start_time": "2025-02-28T16:13:50.310Z"
   },
   {
    "duration": 9,
    "start_time": "2025-02-28T16:13:53.096Z"
   },
   {
    "duration": 27,
    "start_time": "2025-02-28T16:13:56.741Z"
   },
   {
    "duration": 13,
    "start_time": "2025-02-28T16:14:04.428Z"
   },
   {
    "duration": 8,
    "start_time": "2025-02-28T16:14:08.836Z"
   },
   {
    "duration": 359,
    "start_time": "2025-02-28T16:14:11.964Z"
   },
   {
    "duration": 10,
    "start_time": "2025-02-28T16:15:21.029Z"
   },
   {
    "duration": 14,
    "start_time": "2025-02-28T16:15:28.614Z"
   },
   {
    "duration": 32,
    "start_time": "2025-02-28T16:16:47.591Z"
   },
   {
    "duration": 34,
    "start_time": "2025-02-28T16:17:00.906Z"
   },
   {
    "duration": 30,
    "start_time": "2025-02-28T16:26:22.299Z"
   },
   {
    "duration": 23,
    "start_time": "2025-02-28T17:01:36.238Z"
   },
   {
    "duration": 22,
    "start_time": "2025-02-28T17:12:12.827Z"
   },
   {
    "duration": 23,
    "start_time": "2025-02-28T17:12:42.865Z"
   },
   {
    "duration": 32,
    "start_time": "2025-02-28T17:13:54.043Z"
   },
   {
    "duration": 127,
    "start_time": "2025-02-28T17:15:59.112Z"
   },
   {
    "duration": 32,
    "start_time": "2025-02-28T17:16:08.531Z"
   },
   {
    "duration": 38,
    "start_time": "2025-02-28T17:18:05.225Z"
   },
   {
    "duration": 34,
    "start_time": "2025-02-28T17:19:08.501Z"
   },
   {
    "duration": 24,
    "start_time": "2025-02-28T17:19:24.781Z"
   },
   {
    "duration": 31,
    "start_time": "2025-02-28T17:19:40.430Z"
   },
   {
    "duration": 23,
    "start_time": "2025-02-28T17:19:43.853Z"
   },
   {
    "duration": 259,
    "start_time": "2025-02-28T17:43:14.489Z"
   },
   {
    "duration": 24,
    "start_time": "2025-02-28T17:43:42.467Z"
   },
   {
    "duration": 26,
    "start_time": "2025-02-28T17:45:26.821Z"
   },
   {
    "duration": 25,
    "start_time": "2025-02-28T17:45:32.757Z"
   },
   {
    "duration": 26,
    "start_time": "2025-02-28T17:46:45.898Z"
   },
   {
    "duration": 22,
    "start_time": "2025-02-28T18:20:15.259Z"
   },
   {
    "duration": 11,
    "start_time": "2025-02-28T18:20:23.436Z"
   },
   {
    "duration": 9,
    "start_time": "2025-02-28T18:20:29.997Z"
   },
   {
    "duration": 7,
    "start_time": "2025-02-28T18:20:57.730Z"
   },
   {
    "duration": 8,
    "start_time": "2025-02-28T18:21:12.308Z"
   },
   {
    "duration": 13,
    "start_time": "2025-02-28T18:23:05.704Z"
   },
   {
    "duration": 17,
    "start_time": "2025-02-28T18:23:39.194Z"
   },
   {
    "duration": 21,
    "start_time": "2025-02-28T18:25:00.302Z"
   },
   {
    "duration": 118,
    "start_time": "2025-02-28T19:46:53.963Z"
   },
   {
    "duration": 10,
    "start_time": "2025-02-28T19:47:44.478Z"
   },
   {
    "duration": 15,
    "start_time": "2025-02-28T20:01:18.739Z"
   },
   {
    "duration": 420,
    "start_time": "2025-02-28T20:02:19.217Z"
   },
   {
    "duration": 18,
    "start_time": "2025-02-28T20:02:34.410Z"
   },
   {
    "duration": 21,
    "start_time": "2025-02-28T21:23:03.977Z"
   },
   {
    "duration": 20,
    "start_time": "2025-02-28T21:23:24.529Z"
   },
   {
    "duration": 46,
    "start_time": "2025-02-28T21:37:22.942Z"
   },
   {
    "duration": 21,
    "start_time": "2025-02-28T21:37:39.390Z"
   },
   {
    "duration": 15,
    "start_time": "2025-02-28T21:40:28.727Z"
   },
   {
    "duration": 15,
    "start_time": "2025-02-28T21:41:48.449Z"
   },
   {
    "duration": 10,
    "start_time": "2025-02-28T21:42:00.542Z"
   },
   {
    "duration": 12,
    "start_time": "2025-02-28T21:42:08.909Z"
   },
   {
    "duration": 10,
    "start_time": "2025-02-28T21:42:11.069Z"
   },
   {
    "duration": 13,
    "start_time": "2025-02-28T21:42:13.778Z"
   },
   {
    "duration": 20,
    "start_time": "2025-02-28T21:43:26.902Z"
   },
   {
    "duration": 10,
    "start_time": "2025-02-28T21:43:57.526Z"
   },
   {
    "duration": 327,
    "start_time": "2025-02-28T21:44:13.396Z"
   },
   {
    "duration": 16,
    "start_time": "2025-02-28T21:45:45.230Z"
   },
   {
    "duration": 14,
    "start_time": "2025-02-28T21:46:16.756Z"
   },
   {
    "duration": 16,
    "start_time": "2025-02-28T21:46:41.181Z"
   },
   {
    "duration": 16,
    "start_time": "2025-02-28T21:48:47.752Z"
   },
   {
    "duration": 15,
    "start_time": "2025-02-28T21:49:10.851Z"
   },
   {
    "duration": 19,
    "start_time": "2025-02-28T21:52:46.317Z"
   },
   {
    "duration": 20,
    "start_time": "2025-02-28T21:57:00.825Z"
   },
   {
    "duration": 20,
    "start_time": "2025-02-28T21:57:32.127Z"
   },
   {
    "duration": 19,
    "start_time": "2025-02-28T21:57:41.497Z"
   },
   {
    "duration": 15,
    "start_time": "2025-02-28T21:57:54.090Z"
   },
   {
    "duration": 18,
    "start_time": "2025-02-28T21:58:04.605Z"
   },
   {
    "duration": 20,
    "start_time": "2025-02-28T21:58:15.096Z"
   },
   {
    "duration": 17,
    "start_time": "2025-02-28T21:58:26.323Z"
   },
   {
    "duration": 17,
    "start_time": "2025-02-28T21:58:32.640Z"
   },
   {
    "duration": 69,
    "start_time": "2025-02-28T21:58:40.663Z"
   },
   {
    "duration": 18,
    "start_time": "2025-02-28T21:59:29.620Z"
   },
   {
    "duration": 14,
    "start_time": "2025-02-28T21:59:39.463Z"
   },
   {
    "duration": 33,
    "start_time": "2025-02-28T21:59:42.945Z"
   },
   {
    "duration": 13,
    "start_time": "2025-02-28T21:59:55.666Z"
   },
   {
    "duration": 14,
    "start_time": "2025-02-28T22:00:04.203Z"
   },
   {
    "duration": 13,
    "start_time": "2025-02-28T22:00:07.929Z"
   },
   {
    "duration": 15,
    "start_time": "2025-02-28T22:00:10.653Z"
   },
   {
    "duration": 13,
    "start_time": "2025-02-28T22:00:11.778Z"
   },
   {
    "duration": 13,
    "start_time": "2025-02-28T22:00:13.655Z"
   },
   {
    "duration": 14,
    "start_time": "2025-02-28T22:00:16.293Z"
   },
   {
    "duration": 29,
    "start_time": "2025-02-28T22:00:37.950Z"
   },
   {
    "duration": 32,
    "start_time": "2025-02-28T22:01:29.527Z"
   },
   {
    "duration": 9,
    "start_time": "2025-02-28T22:01:57.682Z"
   },
   {
    "duration": 8,
    "start_time": "2025-02-28T22:02:35.230Z"
   },
   {
    "duration": 9,
    "start_time": "2025-02-28T22:02:38.502Z"
   },
   {
    "duration": 10,
    "start_time": "2025-02-28T22:02:43.206Z"
   },
   {
    "duration": 9,
    "start_time": "2025-02-28T22:02:49.026Z"
   },
   {
    "duration": 18,
    "start_time": "2025-02-28T22:02:52.903Z"
   },
   {
    "duration": 38,
    "start_time": "2025-02-28T22:03:15.478Z"
   },
   {
    "duration": 38,
    "start_time": "2025-02-28T22:03:23.654Z"
   },
   {
    "duration": 10,
    "start_time": "2025-02-28T22:03:52.033Z"
   },
   {
    "duration": 13,
    "start_time": "2025-02-28T22:04:50.026Z"
   },
   {
    "duration": 7,
    "start_time": "2025-02-28T22:05:27.372Z"
   },
   {
    "duration": 19,
    "start_time": "2025-02-28T22:05:37.412Z"
   },
   {
    "duration": 2323,
    "start_time": "2025-02-28T22:15:58.320Z"
   },
   {
    "duration": 95,
    "start_time": "2025-02-28T22:18:27.212Z"
   },
   {
    "duration": 10,
    "start_time": "2025-02-28T22:19:36.771Z"
   },
   {
    "duration": 20,
    "start_time": "2025-02-28T22:21:06.583Z"
   },
   {
    "duration": 55,
    "start_time": "2025-02-28T22:21:56.595Z"
   },
   {
    "duration": 19,
    "start_time": "2025-02-28T22:22:14.753Z"
   },
   {
    "duration": 23,
    "start_time": "2025-02-28T22:22:39.273Z"
   },
   {
    "duration": 8,
    "start_time": "2025-02-28T22:22:55.714Z"
   },
   {
    "duration": 13,
    "start_time": "2025-02-28T23:39:57.225Z"
   },
   {
    "duration": 13,
    "start_time": "2025-02-28T23:40:07.704Z"
   },
   {
    "duration": 26,
    "start_time": "2025-02-28T23:40:32.855Z"
   },
   {
    "duration": 26,
    "start_time": "2025-02-28T23:42:08.293Z"
   },
   {
    "duration": 385,
    "start_time": "2025-02-28T23:42:26.758Z"
   },
   {
    "duration": 206,
    "start_time": "2025-02-28T23:49:45.070Z"
   },
   {
    "duration": 320,
    "start_time": "2025-02-28T23:52:13.167Z"
   },
   {
    "duration": 6,
    "start_time": "2025-02-28T23:53:30.848Z"
   },
   {
    "duration": 292,
    "start_time": "2025-02-28T23:53:41.448Z"
   },
   {
    "duration": 51,
    "start_time": "2025-02-28T23:53:52.056Z"
   },
   {
    "duration": 54,
    "start_time": "2025-02-28T23:54:50.078Z"
   },
   {
    "duration": 186,
    "start_time": "2025-02-28T23:56:34.204Z"
   },
   {
    "duration": 2142,
    "start_time": "2025-03-03T01:39:11.737Z"
   },
   {
    "duration": 14,
    "start_time": "2025-03-03T01:39:35.945Z"
   },
   {
    "duration": 121,
    "start_time": "2025-03-03T01:39:52.891Z"
   },
   {
    "duration": 243,
    "start_time": "2025-03-03T01:39:55.456Z"
   },
   {
    "duration": 10,
    "start_time": "2025-03-03T01:39:59.584Z"
   },
   {
    "duration": 10,
    "start_time": "2025-03-03T01:40:04.043Z"
   },
   {
    "duration": 4,
    "start_time": "2025-03-03T01:40:08.354Z"
   },
   {
    "duration": 9,
    "start_time": "2025-03-03T01:40:11.097Z"
   },
   {
    "duration": 13,
    "start_time": "2025-03-03T01:40:13.830Z"
   },
   {
    "duration": 9,
    "start_time": "2025-03-03T01:40:17.944Z"
   },
   {
    "duration": 13,
    "start_time": "2025-03-03T01:40:27.270Z"
   },
   {
    "duration": 12,
    "start_time": "2025-03-03T01:40:34.337Z"
   },
   {
    "duration": 90,
    "start_time": "2025-03-03T01:40:37.146Z"
   },
   {
    "duration": 7,
    "start_time": "2025-03-03T01:40:40.443Z"
   },
   {
    "duration": 30,
    "start_time": "2025-03-03T01:40:45.556Z"
   },
   {
    "duration": 8,
    "start_time": "2025-03-03T01:40:50.986Z"
   },
   {
    "duration": 12,
    "start_time": "2025-03-03T01:40:55.333Z"
   },
   {
    "duration": 7,
    "start_time": "2025-03-03T01:41:03.236Z"
   },
   {
    "duration": 21,
    "start_time": "2025-03-03T01:41:06.940Z"
   },
   {
    "duration": 14,
    "start_time": "2025-03-03T01:41:14.113Z"
   },
   {
    "duration": 12,
    "start_time": "2025-03-03T01:41:16.752Z"
   },
   {
    "duration": 27,
    "start_time": "2025-03-03T01:41:20.029Z"
   },
   {
    "duration": 14,
    "start_time": "2025-03-03T01:41:22.589Z"
   },
   {
    "duration": 8,
    "start_time": "2025-03-03T01:41:26.429Z"
   },
   {
    "duration": 31,
    "start_time": "2025-03-03T01:41:32.673Z"
   },
   {
    "duration": 21,
    "start_time": "2025-03-03T01:41:38.761Z"
   },
   {
    "duration": 22,
    "start_time": "2025-03-03T01:42:31.532Z"
   },
   {
    "duration": 21,
    "start_time": "2025-03-03T01:42:34.784Z"
   },
   {
    "duration": 24,
    "start_time": "2025-03-03T01:42:38.233Z"
   },
   {
    "duration": 16,
    "start_time": "2025-03-03T01:42:41.723Z"
   },
   {
    "duration": 17,
    "start_time": "2025-03-03T01:43:00.267Z"
   },
   {
    "duration": 23,
    "start_time": "2025-03-03T01:43:04.957Z"
   },
   {
    "duration": 200,
    "start_time": "2025-03-03T01:44:21.726Z"
   },
   {
    "duration": 291,
    "start_time": "2025-03-03T01:45:11.186Z"
   },
   {
    "duration": 505,
    "start_time": "2025-03-03T01:45:40.150Z"
   },
   {
    "duration": 477,
    "start_time": "2025-03-03T01:47:43.420Z"
   },
   {
    "duration": 314,
    "start_time": "2025-03-03T01:49:26.318Z"
   },
   {
    "duration": 187,
    "start_time": "2025-03-03T02:14:00.443Z"
   },
   {
    "duration": 189,
    "start_time": "2025-03-03T02:14:36.786Z"
   },
   {
    "duration": 184,
    "start_time": "2025-03-03T02:15:23.501Z"
   },
   {
    "duration": 95,
    "start_time": "2025-03-03T02:18:36.580Z"
   },
   {
    "duration": 7,
    "start_time": "2025-03-03T02:18:46.804Z"
   },
   {
    "duration": 16,
    "start_time": "2025-03-03T02:19:06.911Z"
   },
   {
    "duration": 7,
    "start_time": "2025-03-03T02:19:13.308Z"
   },
   {
    "duration": 8,
    "start_time": "2025-03-03T02:19:22.132Z"
   },
   {
    "duration": 142,
    "start_time": "2025-03-03T02:22:28.615Z"
   },
   {
    "duration": 153,
    "start_time": "2025-03-03T02:23:30.583Z"
   },
   {
    "duration": 152,
    "start_time": "2025-03-03T02:24:24.933Z"
   },
   {
    "duration": 155,
    "start_time": "2025-03-03T02:24:51.277Z"
   },
   {
    "duration": 159,
    "start_time": "2025-03-03T02:25:05.076Z"
   },
   {
    "duration": 152,
    "start_time": "2025-03-03T02:25:12.727Z"
   },
   {
    "duration": 161,
    "start_time": "2025-03-03T02:25:16.954Z"
   },
   {
    "duration": 153,
    "start_time": "2025-03-03T02:27:49.006Z"
   },
   {
    "duration": 146,
    "start_time": "2025-03-03T02:27:55.451Z"
   },
   {
    "duration": 164,
    "start_time": "2025-03-03T02:28:09.908Z"
   },
   {
    "duration": 245,
    "start_time": "2025-03-03T02:28:14.785Z"
   },
   {
    "duration": 146,
    "start_time": "2025-03-03T02:28:52.637Z"
   },
   {
    "duration": 158,
    "start_time": "2025-03-03T02:30:21.892Z"
   },
   {
    "duration": 187,
    "start_time": "2025-03-03T02:31:46.197Z"
   },
   {
    "duration": 10,
    "start_time": "2025-03-03T03:17:56.018Z"
   },
   {
    "duration": 16,
    "start_time": "2025-03-03T03:18:36.480Z"
   },
   {
    "duration": 14,
    "start_time": "2025-03-03T03:18:44.955Z"
   },
   {
    "duration": 14,
    "start_time": "2025-03-03T03:18:50.082Z"
   },
   {
    "duration": 14,
    "start_time": "2025-03-03T03:18:55.834Z"
   },
   {
    "duration": 14,
    "start_time": "2025-03-03T03:19:08.538Z"
   },
   {
    "duration": 6,
    "start_time": "2025-03-03T03:19:22.080Z"
   },
   {
    "duration": 12,
    "start_time": "2025-03-03T03:19:26.337Z"
   },
   {
    "duration": 10,
    "start_time": "2025-03-03T03:19:39.732Z"
   },
   {
    "duration": 10,
    "start_time": "2025-03-03T03:20:07.632Z"
   },
   {
    "duration": 11,
    "start_time": "2025-03-03T04:25:22.395Z"
   },
   {
    "duration": 11,
    "start_time": "2025-03-03T04:26:57.506Z"
   },
   {
    "duration": 8,
    "start_time": "2025-03-03T04:35:18.123Z"
   },
   {
    "duration": 8,
    "start_time": "2025-03-03T04:35:37.418Z"
   },
   {
    "duration": 7,
    "start_time": "2025-03-03T04:35:42.791Z"
   },
   {
    "duration": 8,
    "start_time": "2025-03-03T04:35:57.647Z"
   },
   {
    "duration": 8,
    "start_time": "2025-03-03T04:36:18.679Z"
   },
   {
    "duration": 9,
    "start_time": "2025-03-03T04:36:22.446Z"
   },
   {
    "duration": 16,
    "start_time": "2025-03-03T04:37:56.707Z"
   },
   {
    "duration": 7,
    "start_time": "2025-03-03T04:38:06.415Z"
   },
   {
    "duration": 7,
    "start_time": "2025-03-03T04:38:31.745Z"
   },
   {
    "duration": 8,
    "start_time": "2025-03-03T04:39:24.488Z"
   },
   {
    "duration": 8,
    "start_time": "2025-03-03T04:40:03.429Z"
   },
   {
    "duration": 15,
    "start_time": "2025-03-03T04:42:16.015Z"
   },
   {
    "duration": 406,
    "start_time": "2025-03-03T04:42:24.214Z"
   },
   {
    "duration": 104,
    "start_time": "2025-03-03T04:45:42.429Z"
   },
   {
    "duration": 110,
    "start_time": "2025-03-03T04:48:01.306Z"
   },
   {
    "duration": 110,
    "start_time": "2025-03-03T04:49:06.725Z"
   },
   {
    "duration": 236,
    "start_time": "2025-03-03T04:50:13.544Z"
   },
   {
    "duration": 105,
    "start_time": "2025-03-03T04:51:31.448Z"
   },
   {
    "duration": 111,
    "start_time": "2025-03-03T04:55:06.757Z"
   },
   {
    "duration": 104,
    "start_time": "2025-03-03T05:15:52.012Z"
   },
   {
    "duration": 4,
    "start_time": "2025-03-03T05:22:53.759Z"
   },
   {
    "duration": 3,
    "start_time": "2025-03-03T05:22:58.846Z"
   },
   {
    "duration": 8,
    "start_time": "2025-03-03T05:23:24.640Z"
   },
   {
    "duration": 8,
    "start_time": "2025-03-03T05:23:35.113Z"
   },
   {
    "duration": 11,
    "start_time": "2025-03-03T05:24:04.811Z"
   },
   {
    "duration": 10,
    "start_time": "2025-03-03T05:25:35.492Z"
   },
   {
    "duration": 16,
    "start_time": "2025-03-03T05:30:21.127Z"
   },
   {
    "duration": 9,
    "start_time": "2025-03-03T05:31:01.845Z"
   },
   {
    "duration": 10,
    "start_time": "2025-03-03T05:31:11.214Z"
   },
   {
    "duration": 124,
    "start_time": "2025-03-03T05:33:42.490Z"
   },
   {
    "duration": 132,
    "start_time": "2025-03-03T05:34:08.508Z"
   },
   {
    "duration": 628,
    "start_time": "2025-03-03T05:34:27.382Z"
   },
   {
    "duration": 291,
    "start_time": "2025-03-03T05:34:51.751Z"
   },
   {
    "duration": 327,
    "start_time": "2025-03-03T05:39:09.074Z"
   },
   {
    "duration": 849,
    "start_time": "2025-03-03T05:41:51.868Z"
   },
   {
    "duration": 170,
    "start_time": "2025-03-03T05:42:56.346Z"
   },
   {
    "duration": 160,
    "start_time": "2025-03-03T05:43:10.577Z"
   },
   {
    "duration": 248,
    "start_time": "2025-03-03T05:44:43.178Z"
   },
   {
    "duration": 235,
    "start_time": "2025-03-03T06:01:32.787Z"
   },
   {
    "duration": 5,
    "start_time": "2025-03-03T06:16:10.965Z"
   },
   {
    "duration": 221,
    "start_time": "2025-03-03T06:17:11.392Z"
   },
   {
    "duration": 127,
    "start_time": "2025-03-03T06:17:58.764Z"
   },
   {
    "duration": 124,
    "start_time": "2025-03-03T06:18:31.888Z"
   },
   {
    "duration": 129,
    "start_time": "2025-03-03T06:18:48.513Z"
   },
   {
    "duration": 466,
    "start_time": "2025-03-03T06:18:58.717Z"
   },
   {
    "duration": 129,
    "start_time": "2025-03-03T06:19:12.432Z"
   },
   {
    "duration": 199,
    "start_time": "2025-03-03T06:41:37.147Z"
   },
   {
    "duration": 140,
    "start_time": "2025-03-03T06:41:59.508Z"
   },
   {
    "duration": 138,
    "start_time": "2025-03-03T06:42:55.733Z"
   },
   {
    "duration": 310,
    "start_time": "2025-03-03T06:43:19.342Z"
   },
   {
    "duration": 171,
    "start_time": "2025-03-03T06:43:35.004Z"
   },
   {
    "duration": 132,
    "start_time": "2025-03-03T06:43:42.767Z"
   },
   {
    "duration": 125,
    "start_time": "2025-03-03T06:44:17.333Z"
   },
   {
    "duration": 8,
    "start_time": "2025-03-03T06:59:01.002Z"
   },
   {
    "duration": 56,
    "start_time": "2025-03-03T07:01:34.705Z"
   },
   {
    "duration": 51,
    "start_time": "2025-03-03T07:02:10.549Z"
   },
   {
    "duration": 130,
    "start_time": "2025-03-03T07:02:42.262Z"
   },
   {
    "duration": 124,
    "start_time": "2025-03-03T07:05:48.420Z"
   },
   {
    "duration": 9,
    "start_time": "2025-03-03T07:13:01.835Z"
   },
   {
    "duration": 134,
    "start_time": "2025-03-03T07:13:06.412Z"
   },
   {
    "duration": 5,
    "start_time": "2025-03-03T07:18:01.296Z"
   },
   {
    "duration": 119,
    "start_time": "2025-03-03T07:18:25.025Z"
   },
   {
    "duration": 12,
    "start_time": "2025-03-03T07:33:02.325Z"
   },
   {
    "duration": 5,
    "start_time": "2025-03-03T07:33:31.533Z"
   },
   {
    "duration": 6,
    "start_time": "2025-03-03T07:34:32.297Z"
   },
   {
    "duration": 6,
    "start_time": "2025-03-03T07:35:19.203Z"
   },
   {
    "duration": 10,
    "start_time": "2025-03-03T07:35:44.614Z"
   },
   {
    "duration": 11,
    "start_time": "2025-03-03T07:36:02.287Z"
   },
   {
    "duration": 5,
    "start_time": "2025-03-03T07:36:47.929Z"
   },
   {
    "duration": 156,
    "start_time": "2025-03-03T16:25:45.102Z"
   },
   {
    "duration": 332,
    "start_time": "2025-03-03T16:25:50.436Z"
   },
   {
    "duration": 210,
    "start_time": "2025-03-03T16:25:53.411Z"
   },
   {
    "duration": 9,
    "start_time": "2025-03-03T16:25:57.472Z"
   },
   {
    "duration": 10,
    "start_time": "2025-03-03T16:26:01.160Z"
   },
   {
    "duration": 5,
    "start_time": "2025-03-03T16:26:04.587Z"
   },
   {
    "duration": 12,
    "start_time": "2025-03-03T16:26:08.025Z"
   },
   {
    "duration": 11,
    "start_time": "2025-03-03T16:26:12.249Z"
   },
   {
    "duration": 9,
    "start_time": "2025-03-03T16:26:15.449Z"
   },
   {
    "duration": 14,
    "start_time": "2025-03-03T16:26:18.784Z"
   },
   {
    "duration": 11,
    "start_time": "2025-03-03T16:26:22.883Z"
   },
   {
    "duration": 98,
    "start_time": "2025-03-03T16:26:27.110Z"
   },
   {
    "duration": 7,
    "start_time": "2025-03-03T16:26:32.977Z"
   },
   {
    "duration": 31,
    "start_time": "2025-03-03T16:26:36.578Z"
   },
   {
    "duration": 9,
    "start_time": "2025-03-03T16:26:39.539Z"
   },
   {
    "duration": 12,
    "start_time": "2025-03-03T16:26:43.947Z"
   },
   {
    "duration": 6,
    "start_time": "2025-03-03T16:26:46.184Z"
   },
   {
    "duration": 24,
    "start_time": "2025-03-03T16:26:49.240Z"
   },
   {
    "duration": 15,
    "start_time": "2025-03-03T16:26:53.845Z"
   },
   {
    "duration": 10,
    "start_time": "2025-03-03T16:26:56.511Z"
   },
   {
    "duration": 27,
    "start_time": "2025-03-03T16:26:59.599Z"
   },
   {
    "duration": 17,
    "start_time": "2025-03-03T16:27:02.641Z"
   },
   {
    "duration": 7,
    "start_time": "2025-03-03T16:27:06.362Z"
   },
   {
    "duration": 32,
    "start_time": "2025-03-03T16:27:09.003Z"
   },
   {
    "duration": 22,
    "start_time": "2025-03-03T16:27:11.822Z"
   },
   {
    "duration": 21,
    "start_time": "2025-03-03T16:27:15.026Z"
   },
   {
    "duration": 24,
    "start_time": "2025-03-03T16:27:18.235Z"
   },
   {
    "duration": 16,
    "start_time": "2025-03-03T16:27:22.388Z"
   },
   {
    "duration": 15,
    "start_time": "2025-03-03T16:27:26.033Z"
   },
   {
    "duration": 22,
    "start_time": "2025-03-03T16:27:31.294Z"
   },
   {
    "duration": 2095,
    "start_time": "2025-03-03T16:27:35.261Z"
   },
   {
    "duration": 187,
    "start_time": "2025-03-03T16:27:37.896Z"
   },
   {
    "duration": 204,
    "start_time": "2025-03-03T16:27:43.111Z"
   },
   {
    "duration": 170,
    "start_time": "2025-03-03T16:27:49.663Z"
   },
   {
    "duration": 10,
    "start_time": "2025-03-03T16:27:55.541Z"
   },
   {
    "duration": 127,
    "start_time": "2025-03-03T16:28:00.451Z"
   },
   {
    "duration": 8,
    "start_time": "2025-03-03T16:28:06.494Z"
   },
   {
    "duration": 122,
    "start_time": "2025-03-03T16:28:13.625Z"
   },
   {
    "duration": 6,
    "start_time": "2025-03-03T16:28:18.646Z"
   },
   {
    "duration": 118,
    "start_time": "2025-03-03T16:28:22.286Z"
   },
   {
    "duration": 55,
    "start_time": "2025-03-03T16:28:38.227Z"
   },
   {
    "duration": 11,
    "start_time": "2025-03-03T16:28:54.133Z"
   },
   {
    "duration": 5,
    "start_time": "2025-03-03T16:28:58.500Z"
   },
   {
    "duration": 15,
    "start_time": "2025-03-03T16:31:47.822Z"
   },
   {
    "duration": 11,
    "start_time": "2025-03-03T16:32:03.381Z"
   },
   {
    "duration": 12,
    "start_time": "2025-03-03T16:32:44.873Z"
   },
   {
    "duration": 11,
    "start_time": "2025-03-03T16:32:58.044Z"
   },
   {
    "duration": 19,
    "start_time": "2025-03-03T16:35:31.879Z"
   },
   {
    "duration": 11,
    "start_time": "2025-03-03T16:35:58.997Z"
   },
   {
    "duration": 13,
    "start_time": "2025-03-03T16:36:06.295Z"
   },
   {
    "duration": 10,
    "start_time": "2025-03-03T16:38:06.420Z"
   },
   {
    "duration": 5,
    "start_time": "2025-03-03T16:38:52.473Z"
   },
   {
    "duration": 12,
    "start_time": "2025-03-03T16:38:58.955Z"
   },
   {
    "duration": 113,
    "start_time": "2025-03-03T16:41:35.257Z"
   },
   {
    "duration": 115,
    "start_time": "2025-03-03T16:42:15.587Z"
   },
   {
    "duration": 14,
    "start_time": "2025-03-03T16:42:24.718Z"
   },
   {
    "duration": 810,
    "start_time": "2025-03-03T16:42:35.854Z"
   },
   {
    "duration": 115,
    "start_time": "2025-03-03T16:47:53.242Z"
   },
   {
    "duration": 92,
    "start_time": "2025-03-03T16:53:52.794Z"
   },
   {
    "duration": 97,
    "start_time": "2025-03-03T16:54:06.374Z"
   },
   {
    "duration": 96,
    "start_time": "2025-03-03T16:54:23.329Z"
   },
   {
    "duration": 99,
    "start_time": "2025-03-03T16:57:57.617Z"
   },
   {
    "duration": 99,
    "start_time": "2025-03-03T16:58:31.143Z"
   },
   {
    "duration": 91,
    "start_time": "2025-03-03T16:58:38.774Z"
   },
   {
    "duration": 92,
    "start_time": "2025-03-03T17:11:05.928Z"
   },
   {
    "duration": 92,
    "start_time": "2025-03-03T17:11:19.842Z"
   },
   {
    "duration": 91,
    "start_time": "2025-03-03T17:11:25.594Z"
   },
   {
    "duration": 86,
    "start_time": "2025-03-03T17:11:46.667Z"
   },
   {
    "duration": 92,
    "start_time": "2025-03-03T17:12:01.820Z"
   },
   {
    "duration": 13,
    "start_time": "2025-03-03T17:12:29.754Z"
   },
   {
    "duration": 15,
    "start_time": "2025-03-03T17:12:34.748Z"
   },
   {
    "duration": 6,
    "start_time": "2025-03-03T17:14:14.450Z"
   },
   {
    "duration": 13,
    "start_time": "2025-03-03T17:14:47.291Z"
   },
   {
    "duration": 13,
    "start_time": "2025-03-03T17:14:51.862Z"
   },
   {
    "duration": 392,
    "start_time": "2025-03-03T18:02:43.354Z"
   },
   {
    "duration": 45,
    "start_time": "2025-03-03T18:06:06.784Z"
   },
   {
    "duration": 7,
    "start_time": "2025-03-03T18:06:24.348Z"
   },
   {
    "duration": 6,
    "start_time": "2025-03-03T18:06:52.552Z"
   },
   {
    "duration": 8,
    "start_time": "2025-03-03T18:08:50.919Z"
   },
   {
    "duration": 14,
    "start_time": "2025-03-03T18:09:34.616Z"
   },
   {
    "duration": 7,
    "start_time": "2025-03-03T18:09:41.521Z"
   },
   {
    "duration": 8,
    "start_time": "2025-03-03T18:09:48.896Z"
   },
   {
    "duration": 15,
    "start_time": "2025-03-03T18:10:03.851Z"
   },
   {
    "duration": 12,
    "start_time": "2025-03-03T18:10:11.812Z"
   },
   {
    "duration": 10,
    "start_time": "2025-03-03T18:10:17.633Z"
   },
   {
    "duration": 10,
    "start_time": "2025-03-03T18:11:33.696Z"
   },
   {
    "duration": 9,
    "start_time": "2025-03-03T18:11:42.111Z"
   },
   {
    "duration": 10,
    "start_time": "2025-03-03T18:11:46.532Z"
   },
   {
    "duration": 9,
    "start_time": "2025-03-03T18:11:56.318Z"
   },
   {
    "duration": 11,
    "start_time": "2025-03-03T18:12:00.007Z"
   },
   {
    "duration": 10,
    "start_time": "2025-03-03T18:12:04.249Z"
   },
   {
    "duration": 11,
    "start_time": "2025-03-03T18:12:14.557Z"
   },
   {
    "duration": 12,
    "start_time": "2025-03-03T18:12:56.318Z"
   },
   {
    "duration": 10,
    "start_time": "2025-03-03T18:13:08.608Z"
   },
   {
    "duration": 12,
    "start_time": "2025-03-03T18:13:15.372Z"
   },
   {
    "duration": 15,
    "start_time": "2025-03-03T18:13:21.282Z"
   },
   {
    "duration": 4,
    "start_time": "2025-03-03T18:17:48.061Z"
   },
   {
    "duration": 5,
    "start_time": "2025-03-03T18:17:52.855Z"
   },
   {
    "duration": 8,
    "start_time": "2025-03-03T18:18:02.636Z"
   },
   {
    "duration": 6,
    "start_time": "2025-03-03T18:18:11.188Z"
   },
   {
    "duration": 7,
    "start_time": "2025-03-03T18:23:50.543Z"
   },
   {
    "duration": 77,
    "start_time": "2025-03-03T18:24:08.042Z"
   },
   {
    "duration": 5,
    "start_time": "2025-03-03T18:24:21.721Z"
   },
   {
    "duration": 5,
    "start_time": "2025-03-03T18:24:34.811Z"
   },
   {
    "duration": 5,
    "start_time": "2025-03-03T18:24:48.692Z"
   },
   {
    "duration": 7,
    "start_time": "2025-03-03T18:24:59.965Z"
   },
   {
    "duration": 5,
    "start_time": "2025-03-03T18:25:32.025Z"
   },
   {
    "duration": 16,
    "start_time": "2025-03-03T18:28:36.496Z"
   },
   {
    "duration": 7,
    "start_time": "2025-03-03T18:29:10.434Z"
   },
   {
    "duration": 368,
    "start_time": "2025-03-03T18:36:13.513Z"
   },
   {
    "duration": 66,
    "start_time": "2025-03-03T18:39:41.387Z"
   },
   {
    "duration": 24,
    "start_time": "2025-03-03T18:41:32.472Z"
   },
   {
    "duration": 20,
    "start_time": "2025-03-03T18:41:46.270Z"
   },
   {
    "duration": 10,
    "start_time": "2025-03-03T18:42:15.827Z"
   },
   {
    "duration": 8,
    "start_time": "2025-03-03T18:45:11.299Z"
   },
   {
    "duration": 12,
    "start_time": "2025-03-03T18:45:58.942Z"
   },
   {
    "duration": 10,
    "start_time": "2025-03-03T18:59:57.029Z"
   },
   {
    "duration": 10,
    "start_time": "2025-03-03T19:00:11.773Z"
   },
   {
    "duration": 12,
    "start_time": "2025-03-03T19:05:13.158Z"
   },
   {
    "duration": 12,
    "start_time": "2025-03-03T19:20:36.110Z"
   },
   {
    "duration": 13,
    "start_time": "2025-03-03T19:20:46.190Z"
   },
   {
    "duration": 15,
    "start_time": "2025-03-03T19:21:00.002Z"
   },
   {
    "duration": 21,
    "start_time": "2025-03-03T19:21:49.874Z"
   },
   {
    "duration": 12,
    "start_time": "2025-03-03T19:23:25.062Z"
   },
   {
    "duration": 5,
    "start_time": "2025-03-03T19:29:10.801Z"
   },
   {
    "duration": 18,
    "start_time": "2025-03-03T19:29:22.178Z"
   },
   {
    "duration": 19,
    "start_time": "2025-03-03T19:30:15.947Z"
   },
   {
    "duration": 17,
    "start_time": "2025-03-03T19:31:34.222Z"
   },
   {
    "duration": 18,
    "start_time": "2025-03-03T19:32:54.075Z"
   },
   {
    "duration": 17,
    "start_time": "2025-03-03T19:33:11.080Z"
   },
   {
    "duration": 19,
    "start_time": "2025-03-03T19:33:48.666Z"
   },
   {
    "duration": 18,
    "start_time": "2025-03-03T20:45:14.716Z"
   },
   {
    "duration": 33,
    "start_time": "2025-03-03T20:59:47.265Z"
   },
   {
    "duration": 24,
    "start_time": "2025-03-03T21:02:19.636Z"
   },
   {
    "duration": 20,
    "start_time": "2025-03-03T21:02:53.032Z"
   },
   {
    "duration": 19,
    "start_time": "2025-03-03T21:03:38.565Z"
   },
   {
    "duration": 20,
    "start_time": "2025-03-03T21:03:51.013Z"
   },
   {
    "duration": 20,
    "start_time": "2025-03-03T21:09:54.186Z"
   },
   {
    "duration": 297,
    "start_time": "2025-03-04T18:18:13.012Z"
   },
   {
    "duration": 153,
    "start_time": "2025-03-04T18:18:13.311Z"
   },
   {
    "duration": 9,
    "start_time": "2025-03-04T18:18:13.467Z"
   },
   {
    "duration": 11,
    "start_time": "2025-03-04T18:18:13.478Z"
   },
   {
    "duration": 5,
    "start_time": "2025-03-04T18:18:13.491Z"
   },
   {
    "duration": 9,
    "start_time": "2025-03-04T18:18:13.498Z"
   },
   {
    "duration": 11,
    "start_time": "2025-03-04T18:18:13.509Z"
   },
   {
    "duration": 11,
    "start_time": "2025-03-04T18:18:13.522Z"
   },
   {
    "duration": 50,
    "start_time": "2025-03-04T18:18:13.534Z"
   },
   {
    "duration": 22,
    "start_time": "2025-03-04T18:18:13.587Z"
   },
   {
    "duration": 128,
    "start_time": "2025-03-04T18:18:13.611Z"
   },
   {
    "duration": 11,
    "start_time": "2025-03-04T18:18:13.741Z"
   },
   {
    "duration": 40,
    "start_time": "2025-03-04T18:18:13.753Z"
   },
   {
    "duration": 8,
    "start_time": "2025-03-04T18:18:13.796Z"
   },
   {
    "duration": 15,
    "start_time": "2025-03-04T18:18:13.807Z"
   },
   {
    "duration": 11,
    "start_time": "2025-03-04T18:18:13.823Z"
   },
   {
    "duration": 42,
    "start_time": "2025-03-04T18:18:13.835Z"
   },
   {
    "duration": 14,
    "start_time": "2025-03-04T18:18:13.879Z"
   },
   {
    "duration": 11,
    "start_time": "2025-03-04T18:18:13.895Z"
   },
   {
    "duration": 28,
    "start_time": "2025-03-04T18:18:13.907Z"
   },
   {
    "duration": 39,
    "start_time": "2025-03-04T18:18:13.936Z"
   },
   {
    "duration": 8,
    "start_time": "2025-03-04T18:18:13.977Z"
   },
   {
    "duration": 29,
    "start_time": "2025-03-04T18:18:13.987Z"
   },
   {
    "duration": 23,
    "start_time": "2025-03-04T18:18:14.018Z"
   },
   {
    "duration": 46,
    "start_time": "2025-03-04T18:18:14.042Z"
   },
   {
    "duration": 32,
    "start_time": "2025-03-04T18:18:14.090Z"
   },
   {
    "duration": 20,
    "start_time": "2025-03-04T18:18:14.124Z"
   },
   {
    "duration": 29,
    "start_time": "2025-03-04T18:18:14.153Z"
   },
   {
    "duration": 18,
    "start_time": "2025-03-04T18:18:14.186Z"
   },
   {
    "duration": 379,
    "start_time": "2025-03-04T18:18:14.206Z"
   },
   {
    "duration": 199,
    "start_time": "2025-03-04T18:18:14.588Z"
   },
   {
    "duration": 11,
    "start_time": "2025-03-04T18:18:14.791Z"
   },
   {
    "duration": 143,
    "start_time": "2025-03-04T18:18:14.804Z"
   },
   {
    "duration": 181,
    "start_time": "2025-03-04T18:18:14.949Z"
   },
   {
    "duration": 10,
    "start_time": "2025-03-04T18:18:15.132Z"
   },
   {
    "duration": 136,
    "start_time": "2025-03-04T18:18:15.144Z"
   },
   {
    "duration": 6,
    "start_time": "2025-03-04T18:18:15.282Z"
   },
   {
    "duration": 134,
    "start_time": "2025-03-04T18:18:15.290Z"
   },
   {
    "duration": 14,
    "start_time": "2025-03-04T18:18:15.427Z"
   },
   {
    "duration": 6,
    "start_time": "2025-03-04T18:18:15.442Z"
   },
   {
    "duration": 105,
    "start_time": "2025-03-04T18:18:15.451Z"
   },
   {
    "duration": 394,
    "start_time": "2025-03-04T18:18:15.558Z"
   },
   {
    "duration": 30,
    "start_time": "2025-03-04T18:18:15.955Z"
   },
   {
    "duration": 309,
    "start_time": "2025-03-04T23:44:16.652Z"
   },
   {
    "duration": 247,
    "start_time": "2025-03-04T23:44:18.754Z"
   },
   {
    "duration": 9,
    "start_time": "2025-03-04T23:44:21.852Z"
   },
   {
    "duration": 15,
    "start_time": "2025-03-04T23:44:27.497Z"
   },
   {
    "duration": 5,
    "start_time": "2025-03-04T23:44:33.027Z"
   },
   {
    "duration": 10,
    "start_time": "2025-03-04T23:44:38.640Z"
   },
   {
    "duration": 12,
    "start_time": "2025-03-04T23:44:53.672Z"
   },
   {
    "duration": 9,
    "start_time": "2025-03-04T23:44:57.501Z"
   },
   {
    "duration": 13,
    "start_time": "2025-03-04T23:45:09.589Z"
   },
   {
    "duration": 11,
    "start_time": "2025-03-04T23:45:16.296Z"
   },
   {
    "duration": 87,
    "start_time": "2025-03-04T23:45:20.920Z"
   },
   {
    "duration": 7,
    "start_time": "2025-03-04T23:45:26.907Z"
   },
   {
    "duration": 32,
    "start_time": "2025-03-04T23:45:31.386Z"
   },
   {
    "duration": 9,
    "start_time": "2025-03-04T23:45:34.784Z"
   },
   {
    "duration": 12,
    "start_time": "2025-03-04T23:45:38.798Z"
   },
   {
    "duration": 6,
    "start_time": "2025-03-04T23:45:42.279Z"
   },
   {
    "duration": 21,
    "start_time": "2025-03-04T23:45:46.340Z"
   },
   {
    "duration": 14,
    "start_time": "2025-03-04T23:45:54.844Z"
   },
   {
    "duration": 9,
    "start_time": "2025-03-04T23:45:58.577Z"
   },
   {
    "duration": 28,
    "start_time": "2025-03-04T23:46:08.838Z"
   },
   {
    "duration": 17,
    "start_time": "2025-03-04T23:46:12.725Z"
   },
   {
    "duration": 9,
    "start_time": "2025-03-04T23:46:25.052Z"
   },
   {
    "duration": 38,
    "start_time": "2025-03-04T23:46:33.127Z"
   },
   {
    "duration": 24,
    "start_time": "2025-03-04T23:47:07.674Z"
   },
   {
    "duration": 22,
    "start_time": "2025-03-04T23:48:33.835Z"
   },
   {
    "duration": 23,
    "start_time": "2025-03-04T23:48:37.026Z"
   },
   {
    "duration": 17,
    "start_time": "2025-03-04T23:48:46.094Z"
   },
   {
    "duration": 572,
    "start_time": "2025-03-05T00:13:38.399Z"
   },
   {
    "duration": 27,
    "start_time": "2025-03-05T00:15:15.963Z"
   },
   {
    "duration": 27,
    "start_time": "2025-03-05T00:15:30.356Z"
   },
   {
    "duration": 27,
    "start_time": "2025-03-05T00:16:03.378Z"
   },
   {
    "duration": 26,
    "start_time": "2025-03-05T00:18:34.844Z"
   },
   {
    "duration": 26,
    "start_time": "2025-03-05T02:28:03.853Z"
   },
   {
    "duration": 28,
    "start_time": "2025-03-05T02:28:14.799Z"
   },
   {
    "duration": 31,
    "start_time": "2025-03-05T02:30:32.174Z"
   },
   {
    "duration": 31,
    "start_time": "2025-03-05T02:32:22.749Z"
   },
   {
    "duration": 27,
    "start_time": "2025-03-05T02:33:44.627Z"
   },
   {
    "duration": 23,
    "start_time": "2025-03-05T02:34:10.854Z"
   },
   {
    "duration": 35,
    "start_time": "2025-03-05T02:39:58.277Z"
   },
   {
    "duration": 27,
    "start_time": "2025-03-05T02:40:49.050Z"
   },
   {
    "duration": 16,
    "start_time": "2025-03-05T02:41:52.635Z"
   },
   {
    "duration": 16,
    "start_time": "2025-03-05T02:43:27.393Z"
   },
   {
    "duration": 23,
    "start_time": "2025-03-05T02:46:54.250Z"
   },
   {
    "duration": 23,
    "start_time": "2025-03-05T02:50:36.276Z"
   },
   {
    "duration": 24,
    "start_time": "2025-03-05T02:53:59.453Z"
   },
   {
    "duration": 21,
    "start_time": "2025-03-05T02:55:34.376Z"
   },
   {
    "duration": 2182,
    "start_time": "2025-03-05T02:56:21.391Z"
   },
   {
    "duration": 179,
    "start_time": "2025-03-05T02:57:08.966Z"
   },
   {
    "duration": 12,
    "start_time": "2025-03-05T02:57:36.407Z"
   },
   {
    "duration": 133,
    "start_time": "2025-03-05T02:58:01.930Z"
   },
   {
    "duration": 210,
    "start_time": "2025-03-05T02:58:29.708Z"
   },
   {
    "duration": 9,
    "start_time": "2025-03-05T02:59:13.682Z"
   },
   {
    "duration": 9,
    "start_time": "2025-03-05T02:59:54.620Z"
   },
   {
    "duration": 120,
    "start_time": "2025-03-05T03:00:44.810Z"
   },
   {
    "duration": 29,
    "start_time": "2025-03-05T03:01:46.930Z"
   },
   {
    "duration": 8,
    "start_time": "2025-03-05T03:02:38.081Z"
   },
   {
    "duration": 9,
    "start_time": "2025-03-05T03:03:31.149Z"
   },
   {
    "duration": 119,
    "start_time": "2025-03-05T03:03:41.069Z"
   },
   {
    "duration": 6,
    "start_time": "2025-03-05T03:05:05.635Z"
   },
   {
    "duration": 128,
    "start_time": "2025-03-05T03:05:45.503Z"
   },
   {
    "duration": 13,
    "start_time": "2025-03-05T03:06:30.891Z"
   },
   {
    "duration": 6,
    "start_time": "2025-03-05T03:08:17.337Z"
   },
   {
    "duration": 101,
    "start_time": "2025-03-05T03:08:23.400Z"
   },
   {
    "duration": 98,
    "start_time": "2025-03-05T03:10:01.190Z"
   },
   {
    "duration": 298,
    "start_time": "2025-03-05T03:11:34.528Z"
   },
   {
    "duration": 20,
    "start_time": "2025-03-05T03:12:36.050Z"
   }
  ],
  "colab": {
   "provenance": []
  },
  "kernelspec": {
   "display_name": "Python 3 (ipykernel)",
   "language": "python",
   "name": "python3"
  },
  "language_info": {
   "codemirror_mode": {
    "name": "ipython",
    "version": 3
   },
   "file_extension": ".py",
   "mimetype": "text/x-python",
   "name": "python",
   "nbconvert_exporter": "python",
   "pygments_lexer": "ipython3",
   "version": "3.9.19"
  },
  "toc": {
   "base_numbering": 1,
   "nav_menu": {},
   "number_sections": true,
   "sideBar": true,
   "skip_h1_title": false,
   "title_cell": "Table of Contents",
   "title_sidebar": "Contents",
   "toc_cell": false,
   "toc_position": {
    "height": "calc(100% - 180px)",
    "left": "10px",
    "top": "150px",
    "width": "165px"
   },
   "toc_section_display": true,
   "toc_window_display": true
  }
 },
 "nbformat": 4,
 "nbformat_minor": 1
}
